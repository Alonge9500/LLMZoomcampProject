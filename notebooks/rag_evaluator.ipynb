{
 "cells": [
  {
   "cell_type": "code",
   "execution_count": 5,
   "id": "29b97861-0f10-4420-9b20-b1751e729de8",
   "metadata": {
    "execution": {
     "iopub.execute_input": "2024-08-28T10:37:28.127817Z",
     "iopub.status.busy": "2024-08-28T10:37:28.127436Z",
     "iopub.status.idle": "2024-08-28T10:37:30.066585Z",
     "shell.execute_reply": "2024-08-28T10:37:30.065972Z",
     "shell.execute_reply.started": "2024-08-28T10:37:28.127793Z"
    },
    "tags": []
   },
   "outputs": [
    {
     "name": "stderr",
     "output_type": "stream",
     "text": [
      "/opt/saturncloud/envs/saturn/lib/python3.10/site-packages/pydantic/_internal/_config.py:341: UserWarning: Valid config keys have changed in V2:\n",
      "* 'allow_population_by_field_name' has been renamed to 'populate_by_name'\n",
      "* 'smart_union' has been removed\n",
      "  warnings.warn(message, UserWarning)\n"
     ]
    }
   ],
   "source": [
    "import json\n",
    "import random\n",
    "import pandas as pd\n",
    "from sentence_transformers import SentenceTransformer, util\n",
    "from sklearn.metrics.pairwise import cosine_similarity\n",
    "import os\n",
    "from qdrant_client import QdrantClient\n",
    "from qdrant_client.models import PointStruct\n",
    "from dotenv import load_dotenv\n",
    "import cohere"
   ]
  },
  {
   "cell_type": "code",
   "execution_count": 6,
   "id": "e2daa8e4-382a-4381-bf2c-fd28ddcc8e5c",
   "metadata": {
    "execution": {
     "iopub.execute_input": "2024-08-28T10:37:34.318934Z",
     "iopub.status.busy": "2024-08-28T10:37:34.318379Z",
     "iopub.status.idle": "2024-08-28T10:37:35.073048Z",
     "shell.execute_reply": "2024-08-28T10:37:35.072413Z",
     "shell.execute_reply.started": "2024-08-28T10:37:34.318903Z"
    },
    "tags": []
   },
   "outputs": [
    {
     "name": "stderr",
     "output_type": "stream",
     "text": [
      "/opt/saturncloud/envs/saturn/lib/python3.10/site-packages/transformers/tokenization_utils_base.py:1601: FutureWarning: `clean_up_tokenization_spaces` was not set. It will be set to `True` by default. This behavior will be depracted in transformers v4.45, and will be then set to `False` by default. For more details check this issue: https://github.com/huggingface/transformers/issues/31884\n",
      "  warnings.warn(\n"
     ]
    }
   ],
   "source": [
    "# Load environment variables\n",
    "load_dotenv()\n",
    "\n",
    "# Initialize cohere clientCOHERE_API_KEY\n",
    "cohere_api_key = os.getenv('COHERE_API_KEY')\n",
    "\n",
    "co = cohere.Client(cohere_api_key)\n",
    "\n",
    "# Initialize models\n",
    "embedding_model = SentenceTransformer('multi-qa-distilbert-cos-v1')\n",
    "\n",
    "api_key = os.getenv('QDRANT_API_KEY')\n",
    "\n",
    "client = QdrantClient(\n",
    "    url=\"https://8999b86c-f8b2-4d60-bdfa-8c68d39daae7.europe-west3-0.gcp.cloud.qdrant.io:6333\", \n",
    "    api_key=api_key, \n",
    "    timeout=200\n",
    ")\n",
    "\n",
    "def search_query(query_vector):\n",
    "    hits = client.search(\n",
    "        collection_name=\"diabetes\",\n",
    "        query_vector=query_vector,\n",
    "        limit=5\n",
    "    )\n",
    "    return hits\n",
    "\n",
    "def generate_answer(prompt, context):\n",
    "    if context[0].score < 0.4:\n",
    "        return 'I\\'m a diabetes chat bot assistant ask questions related to diabetes alone....Thank You.'\n",
    "    else:\n",
    "        context_str = \"\\n\".join([f\"Question: {doc.payload['question']}\\nAnswer: {doc.payload['answer']}\" for doc in context])\n",
    "        full_prompt = f\"{prompt}\\n\\nContext:\\n{context_str}\\n\\nAnswer:\"\n",
    "        response = co.chat(message=full_prompt)\n",
    "        return response\n",
    "\n",
    "def rag_function(user_question):\n",
    "    user_question_embedding = embedding_model.encode(user_question)\n",
    "    context = search_query(user_question_embedding)\n",
    "    prompt = \"As a diabetes consultant, provide a brief answer based on the following context and return only the answer\"\n",
    "    try:\n",
    "        answer = generate_answer(prompt, context).text\n",
    "    except:\n",
    "        answer = generate_answer(prompt, context)\n",
    "    return answer"
   ]
  },
  {
   "cell_type": "code",
   "execution_count": 7,
   "id": "d42833f8-ded2-4f9e-ab3b-bb03fad8a8ef",
   "metadata": {
    "execution": {
     "iopub.execute_input": "2024-08-28T10:39:27.502758Z",
     "iopub.status.busy": "2024-08-28T10:39:27.502370Z",
     "iopub.status.idle": "2024-08-28T10:39:27.841285Z",
     "shell.execute_reply": "2024-08-28T10:39:27.840574Z",
     "shell.execute_reply.started": "2024-08-28T10:39:27.502733Z"
    },
    "tags": []
   },
   "outputs": [],
   "source": [
    "with open('diabetes_data_with_vectors', 'r') as f:\n",
    "    data = json.load(f)"
   ]
  },
  {
   "cell_type": "code",
   "execution_count": 9,
   "id": "1caccc88-7f03-41c7-a51f-d7afd97b695a",
   "metadata": {
    "execution": {
     "iopub.execute_input": "2024-08-28T10:41:00.407059Z",
     "iopub.status.busy": "2024-08-28T10:41:00.406672Z",
     "iopub.status.idle": "2024-08-28T10:41:43.922054Z",
     "shell.execute_reply": "2024-08-28T10:41:43.921358Z",
     "shell.execute_reply.started": "2024-08-28T10:41:00.407032Z"
    },
    "tags": []
   },
   "outputs": [],
   "source": [
    "\n",
    "# Select 30 random entries\n",
    "sampled_data = random.sample(data, 30)\n",
    "\n",
    "# Prepare lists to store data\n",
    "ids = []\n",
    "questions = []\n",
    "original_answers = []\n",
    "llm_answers = []\n",
    "cosine_similarities = []\n",
    "\n",
    "# Process each sampled entry\n",
    "for entry in sampled_data:\n",
    "    question = entry['question']\n",
    "    original_answer = entry['answer']\n",
    "    question_id = entry['id']\n",
    "    \n",
    "    # Generate LLM answer\n",
    "    llm_answer = rag_function(question)\n",
    "    \n",
    "    # Compute embeddings\n",
    "    original_embedding = embedding_model.encode(original_answer)\n",
    "    llm_embedding = embedding_model.encode(llm_answer)\n",
    "    \n",
    "    # Compute cosine similarity\n",
    "    similarity = cosine_similarity([original_embedding], [llm_embedding])[0][0]\n",
    "    \n",
    "    # Store data\n",
    "    ids.append(question_id)\n",
    "    questions.append(question)\n",
    "    original_answers.append(original_answer)\n",
    "    llm_answers.append(llm_answer)\n",
    "    cosine_similarities.append(similarity)\n",
    "\n",
    "# Create DataFrame\n",
    "df = pd.DataFrame({\n",
    "    'ID': ids,\n",
    "    'Question': questions,\n",
    "    'Original Answer': original_answers,\n",
    "    'LLM Answer': llm_answers,\n",
    "    'Cosine Similarity': cosine_similarities\n",
    "})\n"
   ]
  },
  {
   "cell_type": "code",
   "execution_count": 10,
   "id": "46685845-6ca9-4830-adca-39d4bea72b06",
   "metadata": {
    "execution": {
     "iopub.execute_input": "2024-08-28T10:41:56.267838Z",
     "iopub.status.busy": "2024-08-28T10:41:56.267447Z",
     "iopub.status.idle": "2024-08-28T10:41:56.280280Z",
     "shell.execute_reply": "2024-08-28T10:41:56.279538Z",
     "shell.execute_reply.started": "2024-08-28T10:41:56.267813Z"
    },
    "tags": []
   },
   "outputs": [
    {
     "data": {
      "text/html": [
       "<div>\n",
       "<style scoped>\n",
       "    .dataframe tbody tr th:only-of-type {\n",
       "        vertical-align: middle;\n",
       "    }\n",
       "\n",
       "    .dataframe tbody tr th {\n",
       "        vertical-align: top;\n",
       "    }\n",
       "\n",
       "    .dataframe thead th {\n",
       "        text-align: right;\n",
       "    }\n",
       "</style>\n",
       "<table border=\"1\" class=\"dataframe\">\n",
       "  <thead>\n",
       "    <tr style=\"text-align: right;\">\n",
       "      <th></th>\n",
       "      <th>ID</th>\n",
       "      <th>Question</th>\n",
       "      <th>Original Answer</th>\n",
       "      <th>LLM Answer</th>\n",
       "      <th>Cosine Similarity</th>\n",
       "    </tr>\n",
       "  </thead>\n",
       "  <tbody>\n",
       "    <tr>\n",
       "      <th>0</th>\n",
       "      <td>033bfec1</td>\n",
       "      <td>How can individuals with diabetes contribute t...</td>\n",
       "      <td>Answer: Supporting diabetes organizations, par...</td>\n",
       "      <td>Individuals with diabetes can play a vital rol...</td>\n",
       "      <td>0.839034</td>\n",
       "    </tr>\n",
       "    <tr>\n",
       "      <th>1</th>\n",
       "      <td>8b266304</td>\n",
       "      <td>Beyond healthy eating and exercise, what other...</td>\n",
       "      <td>Answer:  Raising awareness about diabetes and ...</td>\n",
       "      <td>Awareness, education, and early intervention a...</td>\n",
       "      <td>0.798016</td>\n",
       "    </tr>\n",
       "    <tr>\n",
       "      <th>2</th>\n",
       "      <td>72822bbc</td>\n",
       "      <td>What are some crucial aspects to consider when...</td>\n",
       "      <td>Answer: It's essential to take necessary vacci...</td>\n",
       "      <td>When traveling with diabetes, it is crucial to...</td>\n",
       "      <td>0.779293</td>\n",
       "    </tr>\n",
       "    <tr>\n",
       "      <th>3</th>\n",
       "      <td>1812b7b3</td>\n",
       "      <td>In what ways does smoking cessation contribute...</td>\n",
       "      <td>Quitting smoking improves overall health and r...</td>\n",
       "      <td>Quitting smoking improves blood sugar control ...</td>\n",
       "      <td>0.966807</td>\n",
       "    </tr>\n",
       "    <tr>\n",
       "      <th>4</th>\n",
       "      <td>abcc536e</td>\n",
       "      <td>What type of data does continuous glucose moni...</td>\n",
       "      <td>Answer: Continuous glucose monitoring provides...</td>\n",
       "      <td>Continuous glucose monitoring provides real-ti...</td>\n",
       "      <td>0.954846</td>\n",
       "    </tr>\n",
       "  </tbody>\n",
       "</table>\n",
       "</div>"
      ],
      "text/plain": [
       "         ID                                           Question  \\\n",
       "0  033bfec1  How can individuals with diabetes contribute t...   \n",
       "1  8b266304  Beyond healthy eating and exercise, what other...   \n",
       "2  72822bbc  What are some crucial aspects to consider when...   \n",
       "3  1812b7b3  In what ways does smoking cessation contribute...   \n",
       "4  abcc536e  What type of data does continuous glucose moni...   \n",
       "\n",
       "                                     Original Answer  \\\n",
       "0  Answer: Supporting diabetes organizations, par...   \n",
       "1  Answer:  Raising awareness about diabetes and ...   \n",
       "2  Answer: It's essential to take necessary vacci...   \n",
       "3  Quitting smoking improves overall health and r...   \n",
       "4  Answer: Continuous glucose monitoring provides...   \n",
       "\n",
       "                                          LLM Answer  Cosine Similarity  \n",
       "0  Individuals with diabetes can play a vital rol...           0.839034  \n",
       "1  Awareness, education, and early intervention a...           0.798016  \n",
       "2  When traveling with diabetes, it is crucial to...           0.779293  \n",
       "3  Quitting smoking improves blood sugar control ...           0.966807  \n",
       "4  Continuous glucose monitoring provides real-ti...           0.954846  "
      ]
     },
     "execution_count": 10,
     "metadata": {},
     "output_type": "execute_result"
    }
   ],
   "source": [
    "df.head()"
   ]
  },
  {
   "cell_type": "code",
   "execution_count": 11,
   "id": "4a8309d4-39db-44b7-9b58-41c1910df926",
   "metadata": {
    "execution": {
     "iopub.execute_input": "2024-08-28T10:42:45.418720Z",
     "iopub.status.busy": "2024-08-28T10:42:45.418309Z",
     "iopub.status.idle": "2024-08-28T10:42:45.425267Z",
     "shell.execute_reply": "2024-08-28T10:42:45.424418Z",
     "shell.execute_reply.started": "2024-08-28T10:42:45.418692Z"
    },
    "tags": []
   },
   "outputs": [
    {
     "data": {
      "text/plain": [
       "0.8522774"
      ]
     },
     "execution_count": 11,
     "metadata": {},
     "output_type": "execute_result"
    }
   ],
   "source": [
    "df['Cosine Similarity'].mean()"
   ]
  },
  {
   "cell_type": "code",
   "execution_count": null,
   "id": "be5fcfc7-0e85-4203-b637-465ad98ef6ba",
   "metadata": {},
   "outputs": [],
   "source": []
  }
 ],
 "metadata": {
  "kernelspec": {
   "display_name": "saturn (Python 3)",
   "language": "python",
   "name": "python3"
  },
  "language_info": {
   "codemirror_mode": {
    "name": "ipython",
    "version": 3
   },
   "file_extension": ".py",
   "mimetype": "text/x-python",
   "name": "python",
   "nbconvert_exporter": "python",
   "pygments_lexer": "ipython3",
   "version": "3.10.13"
  }
 },
 "nbformat": 4,
 "nbformat_minor": 5
}
