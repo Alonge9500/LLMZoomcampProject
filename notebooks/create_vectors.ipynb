{
 "cells": [
  {
   "cell_type": "code",
   "execution_count": 1,
   "id": "2e644b3d-a4e6-4b7c-a027-94f309008d3c",
   "metadata": {
    "execution": {
     "iopub.execute_input": "2024-08-27T16:04:46.113768Z",
     "iopub.status.busy": "2024-08-27T16:04:46.113413Z",
     "iopub.status.idle": "2024-08-27T16:04:49.156833Z",
     "shell.execute_reply": "2024-08-27T16:04:49.156110Z",
     "shell.execute_reply.started": "2024-08-27T16:04:46.113739Z"
    },
    "tags": []
   },
   "outputs": [
    {
     "name": "stderr",
     "output_type": "stream",
     "text": [
      "/opt/saturncloud/envs/saturn/lib/python3.10/site-packages/sentence_transformers/cross_encoder/CrossEncoder.py:11: TqdmExperimentalWarning: Using `tqdm.autonotebook.tqdm` in notebook mode. Use `tqdm.tqdm` instead to force console mode (e.g. in jupyter console)\n",
      "  from tqdm.autonotebook import tqdm, trange\n"
     ]
    }
   ],
   "source": [
    "#Load Packages\n",
    "import json\n",
    "from sentence_transformers import SentenceTransformer\n",
    "from tqdm.auto import tqdm\n"
   ]
  },
  {
   "cell_type": "code",
   "execution_count": 2,
   "id": "1cacacea-f014-4fcf-98ec-eaf6621e4ad3",
   "metadata": {
    "execution": {
     "iopub.execute_input": "2024-08-27T16:04:49.159014Z",
     "iopub.status.busy": "2024-08-27T16:04:49.158292Z",
     "iopub.status.idle": "2024-08-27T16:04:49.165793Z",
     "shell.execute_reply": "2024-08-27T16:04:49.165141Z",
     "shell.execute_reply.started": "2024-08-27T16:04:49.158975Z"
    },
    "tags": []
   },
   "outputs": [],
   "source": [
    "#Load Data\n",
    "with open('diabetes_data_with_ids', 'r') as file:\n",
    "    diabetes_data_with_ids = json.load(file)"
   ]
  },
  {
   "cell_type": "markdown",
   "id": "9a57d609-17ac-4040-b52f-a4583c1c7485",
   "metadata": {
    "execution": {
     "iopub.execute_input": "2024-07-30T09:26:54.654744Z",
     "iopub.status.busy": "2024-07-30T09:26:54.654331Z",
     "iopub.status.idle": "2024-07-30T09:26:54.752975Z",
     "shell.execute_reply": "2024-07-30T09:26:54.752180Z",
     "shell.execute_reply.started": "2024-07-30T09:26:54.654710Z"
    },
    "tags": []
   },
   "source": [
    "## Creating Vectors\n",
    "* Create vectors using the question and answers\n",
    "* Use the multi-qa-distilbert-cos-v1 model in sentence transformers\n",
    "* Store the vectors as a json file along with the questions and answers with id\n",
    "* Save The file"
   ]
  },
  {
   "cell_type": "code",
   "execution_count": 3,
   "id": "6537da0a-6f36-4dd6-8eac-e747cf358652",
   "metadata": {
    "execution": {
     "iopub.execute_input": "2024-08-27T16:04:50.601079Z",
     "iopub.status.busy": "2024-08-27T16:04:50.600686Z",
     "iopub.status.idle": "2024-08-27T16:04:51.289214Z",
     "shell.execute_reply": "2024-08-27T16:04:51.288555Z",
     "shell.execute_reply.started": "2024-08-27T16:04:50.601053Z"
    },
    "tags": []
   },
   "outputs": [
    {
     "name": "stderr",
     "output_type": "stream",
     "text": [
      "/opt/saturncloud/envs/saturn/lib/python3.10/site-packages/transformers/tokenization_utils_base.py:1601: FutureWarning: `clean_up_tokenization_spaces` was not set. It will be set to `True` by default. This behavior will be depracted in transformers v4.45, and will be then set to `False` by default. For more details check this issue: https://github.com/huggingface/transformers/issues/31884\n",
      "  warnings.warn(\n"
     ]
    }
   ],
   "source": [
    "# Create Model Eembeddings\n",
    "embedding_model = SentenceTransformer('multi-qa-distilbert-cos-v1')\n"
   ]
  },
  {
   "cell_type": "code",
   "execution_count": 4,
   "id": "f1e595d6-8e20-48ba-be8f-056ce038f473",
   "metadata": {
    "execution": {
     "iopub.execute_input": "2024-08-27T16:05:41.548539Z",
     "iopub.status.busy": "2024-08-27T16:05:41.548125Z",
     "iopub.status.idle": "2024-08-27T16:05:48.892663Z",
     "shell.execute_reply": "2024-08-27T16:05:48.891855Z",
     "shell.execute_reply.started": "2024-08-27T16:05:41.548511Z"
    },
    "tags": []
   },
   "outputs": [
    {
     "data": {
      "application/vnd.jupyter.widget-view+json": {
       "model_id": "7f14839d95b444708448787856c6e7bd",
       "version_major": 2,
       "version_minor": 0
      },
      "text/plain": [
       "  0%|          | 0/1071 [00:00<?, ?it/s]"
      ]
     },
     "metadata": {},
     "output_type": "display_data"
    }
   ],
   "source": [
    "for doc in tqdm(diabetes_data_with_ids):\n",
    "    question = doc['question']\n",
    "\n",
    "    doc['question_embeddings'] = embedding_model.encode(question).tolist()\n",
    "\n"
   ]
  },
  {
   "cell_type": "code",
   "execution_count": 5,
   "id": "3b61b836-338d-457e-aab1-63786166482b",
   "metadata": {
    "execution": {
     "iopub.execute_input": "2024-08-27T16:06:01.490890Z",
     "iopub.status.busy": "2024-08-27T16:06:01.490470Z",
     "iopub.status.idle": "2024-08-27T16:06:02.539062Z",
     "shell.execute_reply": "2024-08-27T16:06:02.538431Z",
     "shell.execute_reply.started": "2024-08-27T16:06:01.490861Z"
    },
    "tags": []
   },
   "outputs": [],
   "source": [
    "## Save the data with Vectors\n",
    "\n",
    "with open('diabetes_data_with_question_vectors', 'wt') as f_out:\n",
    "    json.dump(diabetes_data_with_ids, f_out, indent=2)"
   ]
  },
  {
   "cell_type": "code",
   "execution_count": null,
   "id": "b127b72a-84dd-48a6-bdd8-ef6266916c43",
   "metadata": {},
   "outputs": [],
   "source": []
  }
 ],
 "metadata": {
  "kernelspec": {
   "display_name": "saturn (Python 3)",
   "language": "python",
   "name": "python3"
  },
  "language_info": {
   "codemirror_mode": {
    "name": "ipython",
    "version": 3
   },
   "file_extension": ".py",
   "mimetype": "text/x-python",
   "name": "python",
   "nbconvert_exporter": "python",
   "pygments_lexer": "ipython3",
   "version": "3.10.13"
  }
 },
 "nbformat": 4,
 "nbformat_minor": 5
}
