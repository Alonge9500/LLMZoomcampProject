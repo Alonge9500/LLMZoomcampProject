{
 "cells": [
  {
   "cell_type": "markdown",
   "id": "a1fb08c4-f9c9-4135-91f4-40284f01ce32",
   "metadata": {
    "execution": {
     "iopub.execute_input": "2024-08-27T14:25:02.490527Z",
     "iopub.status.busy": "2024-08-27T14:25:02.490066Z",
     "iopub.status.idle": "2024-08-27T14:25:02.494162Z",
     "shell.execute_reply": "2024-08-27T14:25:02.493508Z",
     "shell.execute_reply.started": "2024-08-27T14:25:02.490502Z"
    },
    "tags": []
   },
   "source": [
    "### Load Data"
   ]
  },
  {
   "cell_type": "code",
   "execution_count": 2,
   "id": "2813d39b-3862-44de-8c38-c75ba25894d5",
   "metadata": {
    "execution": {
     "iopub.execute_input": "2024-08-28T09:34:56.376442Z",
     "iopub.status.busy": "2024-08-28T09:34:56.375831Z",
     "iopub.status.idle": "2024-08-28T09:34:56.963421Z",
     "shell.execute_reply": "2024-08-28T09:34:56.962650Z",
     "shell.execute_reply.started": "2024-08-28T09:34:56.376416Z"
    },
    "tags": []
   },
   "outputs": [
    {
     "name": "stderr",
     "output_type": "stream",
     "text": [
      "/opt/saturncloud/envs/saturn/lib/python3.10/site-packages/pydantic/_internal/_config.py:321: UserWarning: Valid config keys have changed in V2:\n",
      "* 'allow_population_by_field_name' has been renamed to 'populate_by_name'\n",
      "* 'smart_union' has been removed\n",
      "  'min_anystr_length': 'str_min_length',\n"
     ]
    },
    {
     "data": {
      "text/plain": [
       "True"
      ]
     },
     "execution_count": 2,
     "metadata": {},
     "output_type": "execute_result"
    }
   ],
   "source": [
    "import pandas as pd\n",
    "from tqdm.auto import tqdm\n",
    "import json\n",
    "import os\n",
    "from dotenv import load_dotenv\n",
    "from qdrant_client import QdrantClient\n",
    "from qdrant_client.models import PointStruct\n",
    "from sentence_transformers import SentenceTransformer\n",
    "import cohere\n",
    "\n",
    "# Load the .env file\n",
    "load_dotenv()\n"
   ]
  },
  {
   "cell_type": "markdown",
   "id": "a5c708c6-35cd-4188-93dd-b65976df1922",
   "metadata": {
    "execution": {
     "iopub.execute_input": "2024-08-27T14:25:24.249953Z",
     "iopub.status.busy": "2024-08-27T14:25:24.249561Z",
     "iopub.status.idle": "2024-08-27T14:25:24.253175Z",
     "shell.execute_reply": "2024-08-27T14:25:24.252406Z",
     "shell.execute_reply.started": "2024-08-27T14:25:24.249928Z"
    },
    "tags": []
   },
   "source": [
    "### Instantiate Vector DB and LLM"
   ]
  },
  {
   "cell_type": "code",
   "execution_count": 3,
   "id": "b890c9f0-66e0-4353-93fb-efb186b97865",
   "metadata": {
    "execution": {
     "iopub.execute_input": "2024-08-28T09:34:58.900824Z",
     "iopub.status.busy": "2024-08-28T09:34:58.900250Z",
     "iopub.status.idle": "2024-08-28T09:34:58.915759Z",
     "shell.execute_reply": "2024-08-28T09:34:58.915011Z",
     "shell.execute_reply.started": "2024-08-28T09:34:58.900792Z"
    },
    "tags": []
   },
   "outputs": [
    {
     "name": "stdout",
     "output_type": "stream",
     "text": [
      "r09oP5L3SaVcMi_MvBC3yBOuRpcYChNeZjzTiEHr5cyoyHiP00CyEw\n"
     ]
    }
   ],
   "source": [
    "api_key = os.getenv('QDRANT_API_KEY')\n",
    "\n",
    "\n",
    "client = QdrantClient(\n",
    "    url=\"https://8999b86c-f8b2-4d60-bdfa-8c68d39daae7.europe-west3-0.gcp.cloud.qdrant.io:6333\", \n",
    "    api_key=api_key,timeout=200\n",
    ")\n",
    "\n",
    "print(api_key)"
   ]
  },
  {
   "cell_type": "code",
   "execution_count": 4,
   "id": "3e9589bb-0aef-4eab-92de-545b8953ee60",
   "metadata": {
    "execution": {
     "iopub.execute_input": "2024-08-28T09:34:59.552680Z",
     "iopub.status.busy": "2024-08-28T09:34:59.552301Z",
     "iopub.status.idle": "2024-08-28T09:34:59.566473Z",
     "shell.execute_reply": "2024-08-28T09:34:59.565819Z",
     "shell.execute_reply.started": "2024-08-28T09:34:59.552652Z"
    },
    "tags": []
   },
   "outputs": [],
   "source": [
    "#Instantiate LLM\n",
    "\n",
    "cohere_api_key = os.getenv('COHERE_API_KEY')\n",
    "co = cohere.Client(cohere_api_key)\n"
   ]
  },
  {
   "cell_type": "code",
   "execution_count": 5,
   "id": "96750ae6-2ba4-4386-8c2d-28543cdca459",
   "metadata": {
    "execution": {
     "iopub.execute_input": "2024-08-28T09:35:03.969542Z",
     "iopub.status.busy": "2024-08-28T09:35:03.969172Z",
     "iopub.status.idle": "2024-08-28T09:35:04.325300Z",
     "shell.execute_reply": "2024-08-28T09:35:04.324634Z",
     "shell.execute_reply.started": "2024-08-28T09:35:03.969514Z"
    },
    "tags": []
   },
   "outputs": [],
   "source": [
    "#Load Data\n",
    "with open('diabetes_data_with_vectors', 'r') as file:\n",
    "    diabetes_data_with_vectors = json.load(file)"
   ]
  },
  {
   "cell_type": "markdown",
   "id": "28401f17-32f0-40ea-bcd4-ff8b8d99e3dd",
   "metadata": {},
   "source": [
    "### Develop Prompt"
   ]
  },
  {
   "cell_type": "code",
   "execution_count": 8,
   "id": "03e01dc9-055f-4681-9fbb-fe33c3b2738e",
   "metadata": {
    "execution": {
     "iopub.execute_input": "2024-08-28T09:36:27.990639Z",
     "iopub.status.busy": "2024-08-28T09:36:27.990236Z",
     "iopub.status.idle": "2024-08-28T09:36:27.994302Z",
     "shell.execute_reply": "2024-08-28T09:36:27.993510Z",
     "shell.execute_reply.started": "2024-08-28T09:36:27.990611Z"
    },
    "tags": []
   },
   "outputs": [],
   "source": [
    "prompt_template = '''\n",
    "You are emulating a diabetes patient.\n",
    "Formulate just 4 insightful questions closely related to this with a very high cosine similarity diabetes conversation record. \n",
    "Use the context provided to generate relevant questions, but avoid directly copying words from the response.\n",
    "Dont't repeat question\n",
    "Record:\n",
    "Context: {question}\n",
    "return result in this format\n",
    "[question1, question2, question3]\n",
    "\n",
    "Dont include the instruction or anyother thing in the response\n",
    "Return only the generated response as a python list\n",
    "\n",
    "\n",
    "'''"
   ]
  },
  {
   "cell_type": "code",
   "execution_count": 9,
   "id": "faee12db-8799-49be-8c72-1daad6caf405",
   "metadata": {
    "execution": {
     "iopub.execute_input": "2024-08-28T09:36:28.396901Z",
     "iopub.status.busy": "2024-08-28T09:36:28.396509Z",
     "iopub.status.idle": "2024-08-28T09:36:28.400815Z",
     "shell.execute_reply": "2024-08-28T09:36:28.399913Z",
     "shell.execute_reply.started": "2024-08-28T09:36:28.396873Z"
    },
    "tags": []
   },
   "outputs": [],
   "source": [
    "def generate_questions(doc):\n",
    "    prompt = prompt_template.format(**doc)\n",
    "    \n",
    "    result = co.chat(message= prompt).text\n",
    "\n",
    "    json_response = result\n",
    "    return json_response"
   ]
  },
  {
   "cell_type": "code",
   "execution_count": 12,
   "id": "f21c07d8-3d3a-4030-8dfd-e1d93daa51a9",
   "metadata": {
    "execution": {
     "iopub.execute_input": "2024-08-28T09:37:55.652579Z",
     "iopub.status.busy": "2024-08-28T09:37:55.652197Z",
     "iopub.status.idle": "2024-08-28T09:37:55.656123Z",
     "shell.execute_reply": "2024-08-28T09:37:55.655352Z",
     "shell.execute_reply.started": "2024-08-28T09:37:55.652549Z"
    },
    "tags": []
   },
   "outputs": [],
   "source": [
    "import random\n",
    "#Select 40 Random Data to evaluate Retrieval\n",
    "sampledata = random.sample(diabetes_data_with_vectors, 40)\n"
   ]
  },
  {
   "cell_type": "code",
   "execution_count": 13,
   "id": "f57ce9ba-70d2-4ab0-bff1-64bc0406ba98",
   "metadata": {
    "execution": {
     "iopub.execute_input": "2024-08-28T09:37:56.152355Z",
     "iopub.status.busy": "2024-08-28T09:37:56.151977Z",
     "iopub.status.idle": "2024-08-28T09:38:47.901038Z",
     "shell.execute_reply": "2024-08-28T09:38:47.900209Z",
     "shell.execute_reply.started": "2024-08-28T09:37:56.152328Z"
    },
    "tags": []
   },
   "outputs": [
    {
     "data": {
      "application/vnd.jupyter.widget-view+json": {
       "model_id": "af24c234e22143c5926c8eb97f5809b9",
       "version_major": 2,
       "version_minor": 0
      },
      "text/plain": [
       "  0%|          | 0/40 [00:00<?, ?it/s]"
      ]
     },
     "metadata": {},
     "output_type": "display_data"
    }
   ],
   "source": [
    "#Generate The List\n",
    "\n",
    "results = {}\n",
    "for doc in tqdm(sampledata): \n",
    "    doc_id = doc['id']\n",
    "    if doc_id in results:\n",
    "        continue\n",
    "\n",
    "    questions = generate_questions(doc)\n",
    "    results[doc_id] = questions\n",
    "    if doc_id == 'bedc96fa':\n",
    "        print(questions)"
   ]
  },
  {
   "cell_type": "markdown",
   "id": "3bcd40fe-3708-4829-8f50-00e34d085950",
   "metadata": {},
   "source": [
    "### Create Dataframe for retrieval evaluation"
   ]
  },
  {
   "cell_type": "code",
   "execution_count": 150,
   "id": "d90ede9c-7214-4750-aa1a-0879ab753a9f",
   "metadata": {
    "execution": {
     "iopub.execute_input": "2024-08-27T15:23:15.574521Z",
     "iopub.status.busy": "2024-08-27T15:23:15.574129Z",
     "iopub.status.idle": "2024-08-27T15:23:15.578374Z",
     "shell.execute_reply": "2024-08-27T15:23:15.577549Z",
     "shell.execute_reply.started": "2024-08-27T15:23:15.574493Z"
    },
    "tags": []
   },
   "outputs": [],
   "source": [
    "results[ids[33]] = \"['How can I manage my diabetes effectively on a daily basis?', 'What are the potential risks if I dont inform others about my diabetes?', 'Are there any legal implications if I dont disclose my diabetes to, say, my employer or my school?', 'In what specific emergency situations would sharing my diabetes status be beneficial?', 'How can I explain my diabetes to those close to me in a simple and understandable way?']\""
   ]
  },
  {
   "cell_type": "code",
   "execution_count": 14,
   "id": "6ce45ddd-a151-4612-9a34-a16c606bd0b2",
   "metadata": {
    "execution": {
     "iopub.execute_input": "2024-08-28T09:38:53.911253Z",
     "iopub.status.busy": "2024-08-28T09:38:53.910869Z",
     "iopub.status.idle": "2024-08-28T09:38:53.914420Z",
     "shell.execute_reply": "2024-08-28T09:38:53.913729Z",
     "shell.execute_reply.started": "2024-08-28T09:38:53.911225Z"
    },
    "tags": []
   },
   "outputs": [],
   "source": [
    "import ast"
   ]
  },
  {
   "cell_type": "code",
   "execution_count": 15,
   "id": "fb90d4ea-4a58-43e1-a95f-5fc102eb6a76",
   "metadata": {
    "execution": {
     "iopub.execute_input": "2024-08-28T09:38:54.544175Z",
     "iopub.status.busy": "2024-08-28T09:38:54.543802Z",
     "iopub.status.idle": "2024-08-28T09:38:54.565806Z",
     "shell.execute_reply": "2024-08-28T09:38:54.564980Z",
     "shell.execute_reply.started": "2024-08-28T09:38:54.544146Z"
    },
    "tags": []
   },
   "outputs": [
    {
     "data": {
      "application/vnd.jupyter.widget-view+json": {
       "model_id": "15f60f0a560d475c94d0fcd11ec367d2",
       "version_major": 2,
       "version_minor": 0
      },
      "text/plain": [
       "  0%|          | 0/40 [00:00<?, ?it/s]"
      ]
     },
     "metadata": {},
     "output_type": "display_data"
    }
   ],
   "source": [
    "ids= list(results.keys())\n",
    "main_rows = []\n",
    "\n",
    "for document in tqdm(ids):\n",
    "    for question in ast.literal_eval(results[document]):\n",
    "        main_rows.append((question,document))\n",
    "        \n",
    "        \n",
    "df = pd.DataFrame(main_rows, columns=[\"question\", \"id\"])\n"
   ]
  },
  {
   "cell_type": "code",
   "execution_count": 16,
   "id": "6a48928c-7a96-4b8d-a4f5-d36918f9dfea",
   "metadata": {
    "execution": {
     "iopub.execute_input": "2024-08-28T09:39:03.981847Z",
     "iopub.status.busy": "2024-08-28T09:39:03.981215Z",
     "iopub.status.idle": "2024-08-28T09:39:03.990075Z",
     "shell.execute_reply": "2024-08-28T09:39:03.989423Z",
     "shell.execute_reply.started": "2024-08-28T09:39:03.981820Z"
    },
    "tags": []
   },
   "outputs": [],
   "source": [
    "df.to_csv('retrieval_evaluation.csv', index=False)"
   ]
  },
  {
   "cell_type": "code",
   "execution_count": 18,
   "id": "296ab732-1755-4913-9926-e3c6166f4cc4",
   "metadata": {
    "execution": {
     "iopub.execute_input": "2024-08-28T09:39:33.933118Z",
     "iopub.status.busy": "2024-08-28T09:39:33.932742Z",
     "iopub.status.idle": "2024-08-28T09:39:33.938281Z",
     "shell.execute_reply": "2024-08-28T09:39:33.937416Z",
     "shell.execute_reply.started": "2024-08-28T09:39:33.933089Z"
    },
    "tags": []
   },
   "outputs": [
    {
     "data": {
      "text/plain": [
       "160"
      ]
     },
     "execution_count": 18,
     "metadata": {},
     "output_type": "execute_result"
    }
   ],
   "source": [
    "len(df)"
   ]
  },
  {
   "cell_type": "markdown",
   "id": "16d0e0ee-1535-46fe-a329-56bc590467fa",
   "metadata": {},
   "source": [
    "### Evaluate Retrieval"
   ]
  },
  {
   "cell_type": "code",
   "execution_count": 19,
   "id": "5de07536-3aad-4522-a187-35c76cea13c0",
   "metadata": {
    "execution": {
     "iopub.execute_input": "2024-08-28T09:39:41.172543Z",
     "iopub.status.busy": "2024-08-28T09:39:41.172151Z",
     "iopub.status.idle": "2024-08-28T09:39:41.176273Z",
     "shell.execute_reply": "2024-08-28T09:39:41.175500Z",
     "shell.execute_reply.started": "2024-08-28T09:39:41.172515Z"
    },
    "tags": []
   },
   "outputs": [],
   "source": [
    "def search_query(query_vector):\n",
    "    hits = client.search(\n",
    "        collection_name=\"diabetes\",\n",
    "        query_vector=query_vector,\n",
    "        limit=5\n",
    "    )\n",
    "    return hits"
   ]
  },
  {
   "cell_type": "code",
   "execution_count": 20,
   "id": "890e07a9-38ae-4eb2-9b12-9e09f86eb719",
   "metadata": {
    "execution": {
     "iopub.execute_input": "2024-08-28T09:39:43.241474Z",
     "iopub.status.busy": "2024-08-28T09:39:43.241084Z",
     "iopub.status.idle": "2024-08-28T09:39:43.247063Z",
     "shell.execute_reply": "2024-08-28T09:39:43.246308Z",
     "shell.execute_reply.started": "2024-08-28T09:39:43.241448Z"
    },
    "tags": []
   },
   "outputs": [],
   "source": [
    "data = pd.read_csv('retrieval_evaluation.csv')"
   ]
  },
  {
   "cell_type": "code",
   "execution_count": 21,
   "id": "4a8152b9-7683-40bb-97f5-f5452813bc00",
   "metadata": {
    "execution": {
     "iopub.execute_input": "2024-08-28T09:39:44.013148Z",
     "iopub.status.busy": "2024-08-28T09:39:44.012772Z",
     "iopub.status.idle": "2024-08-28T09:39:44.017432Z",
     "shell.execute_reply": "2024-08-28T09:39:44.016616Z",
     "shell.execute_reply.started": "2024-08-28T09:39:44.013120Z"
    },
    "tags": []
   },
   "outputs": [],
   "source": [
    "retrieval_evaluation_dict = data.to_dict(orient = 'records')\n"
   ]
  },
  {
   "cell_type": "code",
   "execution_count": 22,
   "id": "d8657e5d-d452-4461-8ac6-e77218511abd",
   "metadata": {
    "execution": {
     "iopub.execute_input": "2024-08-28T09:39:44.461499Z",
     "iopub.status.busy": "2024-08-28T09:39:44.461112Z",
     "iopub.status.idle": "2024-08-28T09:39:45.167929Z",
     "shell.execute_reply": "2024-08-28T09:39:45.167262Z",
     "shell.execute_reply.started": "2024-08-28T09:39:44.461472Z"
    }
   },
   "outputs": [
    {
     "name": "stderr",
     "output_type": "stream",
     "text": [
      "/opt/saturncloud/envs/saturn/lib/python3.10/site-packages/transformers/tokenization_utils_base.py:1601: FutureWarning: `clean_up_tokenization_spaces` was not set. It will be set to `True` by default. This behavior will be depracted in transformers v4.45, and will be then set to `False` by default. For more details check this issue: https://github.com/huggingface/transformers/issues/31884\n",
      "  warnings.warn(\n"
     ]
    }
   ],
   "source": [
    "embedding_model = SentenceTransformer('multi-qa-distilbert-cos-v1')"
   ]
  },
  {
   "cell_type": "code",
   "execution_count": 23,
   "id": "1393d03e-7357-46ab-9523-d82d02c15e64",
   "metadata": {
    "execution": {
     "iopub.execute_input": "2024-08-28T09:39:45.169400Z",
     "iopub.status.busy": "2024-08-28T09:39:45.169077Z",
     "iopub.status.idle": "2024-08-28T09:39:45.174132Z",
     "shell.execute_reply": "2024-08-28T09:39:45.173523Z",
     "shell.execute_reply.started": "2024-08-28T09:39:45.169374Z"
    },
    "tags": []
   },
   "outputs": [],
   "source": [
    "def hit_rate(relevance_total):\n",
    "    cnt = 0\n",
    "\n",
    "    for line in relevance_total:\n",
    "        if True in line:\n",
    "            cnt = cnt + 1\n",
    "\n",
    "    return cnt / len(relevance_total)\n",
    "\n",
    "def mrr(relevance_total):\n",
    "    total_score = 0.0\n",
    "\n",
    "    for line in relevance_total:\n",
    "        for rank in range(len(line)):\n",
    "            if line[rank] == True:\n",
    "                total_score = total_score + 1 / (rank + 1)\n",
    "\n",
    "    return total_score / len(relevance_total)\n"
   ]
  },
  {
   "cell_type": "code",
   "execution_count": 24,
   "id": "269052ca-ed6e-4a18-baa2-802668b4937c",
   "metadata": {
    "execution": {
     "iopub.execute_input": "2024-08-28T09:39:46.682382Z",
     "iopub.status.busy": "2024-08-28T09:39:46.681997Z",
     "iopub.status.idle": "2024-08-28T09:39:46.687050Z",
     "shell.execute_reply": "2024-08-28T09:39:46.686155Z",
     "shell.execute_reply.started": "2024-08-28T09:39:46.682354Z"
    },
    "tags": []
   },
   "outputs": [],
   "source": [
    "def retrieval_evaluator(data_dictionary):\n",
    "    relevance_total = []\n",
    "\n",
    "    for question in tqdm(data_dictionary):\n",
    "        question_id = question['id']\n",
    "        vector = embedding_model.encode(question['question'])\n",
    "        results = search_query(vector)\n",
    "        relevance = [d.payload['id'] == question_id for d in results]\n",
    "        relevance_total.append(relevance)\n",
    "        \n",
    "    return hit_rate(relevance_total),mrr(relevance_total)"
   ]
  },
  {
   "cell_type": "code",
   "execution_count": 25,
   "id": "0144a26f-1f25-4af9-b053-0e6f787f4aa8",
   "metadata": {
    "execution": {
     "iopub.execute_input": "2024-08-28T09:39:48.422024Z",
     "iopub.status.busy": "2024-08-28T09:39:48.421643Z",
     "iopub.status.idle": "2024-08-28T09:40:10.918132Z",
     "shell.execute_reply": "2024-08-28T09:40:10.917385Z",
     "shell.execute_reply.started": "2024-08-28T09:39:48.421997Z"
    },
    "tags": []
   },
   "outputs": [
    {
     "data": {
      "application/vnd.jupyter.widget-view+json": {
       "model_id": "d8f65bf748304307be9193fca90c42d2",
       "version_major": 2,
       "version_minor": 0
      },
      "text/plain": [
       "  0%|          | 0/160 [00:00<?, ?it/s]"
      ]
     },
     "metadata": {},
     "output_type": "display_data"
    }
   ],
   "source": [
    "hitrate,mrr = retrieval_evaluator(retrieval_evaluation_dict)\n",
    "    "
   ]
  },
  {
   "cell_type": "code",
   "execution_count": 26,
   "id": "9acfa35a-1b95-4710-922c-51c27e57530b",
   "metadata": {
    "execution": {
     "iopub.execute_input": "2024-08-28T09:40:14.692557Z",
     "iopub.status.busy": "2024-08-28T09:40:14.692166Z",
     "iopub.status.idle": "2024-08-28T09:40:14.696888Z",
     "shell.execute_reply": "2024-08-28T09:40:14.696011Z",
     "shell.execute_reply.started": "2024-08-28T09:40:14.692529Z"
    },
    "tags": []
   },
   "outputs": [
    {
     "name": "stdout",
     "output_type": "stream",
     "text": [
      "Hit Rate Is : 0.6375\n",
      "MRR Is : 0.4592708333333335\n"
     ]
    }
   ],
   "source": [
    "print(f'Hit Rate Is : {hitrate}')\n",
    "print(f'MRR Is : {mrr}')"
   ]
  },
  {
   "cell_type": "code",
   "execution_count": 209,
   "id": "9ec9347b-24ce-42f8-9d85-14366077e289",
   "metadata": {
    "execution": {
     "iopub.execute_input": "2024-08-27T16:12:08.274594Z",
     "iopub.status.busy": "2024-08-27T16:12:08.274199Z",
     "iopub.status.idle": "2024-08-27T16:12:08.278529Z",
     "shell.execute_reply": "2024-08-27T16:12:08.277792Z",
     "shell.execute_reply.started": "2024-08-27T16:12:08.274567Z"
    },
    "tags": []
   },
   "outputs": [
    {
     "name": "stdout",
     "output_type": "stream",
     "text": [
      "0.4508670520231214\n",
      "0.2784200385356455\n"
     ]
    }
   ],
   "source": [
    "Hit Rate Is : 0.47398843930635837\n",
    "MRR Is : 0.2645472061657033"
   ]
  },
  {
   "cell_type": "code",
   "execution_count": null,
   "id": "f00898be-b19f-4169-84f0-ba40670b91b0",
   "metadata": {
    "tags": []
   },
   "outputs": [],
   "source": []
  },
  {
   "cell_type": "code",
   "execution_count": null,
   "id": "3ab8d883-639b-49a9-898b-087e95227d06",
   "metadata": {},
   "outputs": [],
   "source": []
  }
 ],
 "metadata": {
  "kernelspec": {
   "display_name": "saturn (Python 3)",
   "language": "python",
   "name": "python3"
  },
  "language_info": {
   "codemirror_mode": {
    "name": "ipython",
    "version": 3
   },
   "file_extension": ".py",
   "mimetype": "text/x-python",
   "name": "python",
   "nbconvert_exporter": "python",
   "pygments_lexer": "ipython3",
   "version": "3.10.13"
  }
 },
 "nbformat": 4,
 "nbformat_minor": 5
}
