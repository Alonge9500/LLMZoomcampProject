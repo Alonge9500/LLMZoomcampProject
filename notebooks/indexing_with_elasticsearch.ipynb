{
 "cells": [
  {
   "cell_type": "code",
   "execution_count": 1,
   "id": "f6589999-692c-4591-9d7a-57e639862d03",
   "metadata": {
    "execution": {
     "iopub.execute_input": "2024-08-28T09:03:12.494103Z",
     "iopub.status.busy": "2024-08-28T09:03:12.493393Z",
     "iopub.status.idle": "2024-08-28T09:03:16.640203Z",
     "shell.execute_reply": "2024-08-28T09:03:16.639350Z",
     "shell.execute_reply.started": "2024-08-28T09:03:12.494069Z"
    },
    "tags": []
   },
   "outputs": [
    {
     "name": "stdout",
     "output_type": "stream",
     "text": [
      "Collecting elasticsearch\n",
      "  Downloading elasticsearch-8.15.0-py3-none-any.whl.metadata (8.7 kB)\n",
      "Collecting sentence_transformers\n",
      "  Using cached sentence_transformers-3.0.1-py3-none-any.whl.metadata (10 kB)\n",
      "Requirement already satisfied: tqdm in /opt/saturncloud/envs/saturn/lib/python3.10/site-packages (4.66.1)\n",
      "Collecting elastic-transport<9,>=8.13 (from elasticsearch)\n",
      "  Downloading elastic_transport-8.15.0-py3-none-any.whl.metadata (3.6 kB)\n",
      "Requirement already satisfied: transformers<5.0.0,>=4.34.0 in /opt/saturncloud/envs/saturn/lib/python3.10/site-packages (from sentence_transformers) (4.44.2)\n",
      "Requirement already satisfied: torch>=1.11.0 in /opt/saturncloud/envs/saturn/lib/python3.10/site-packages (from sentence_transformers) (2.1.0)\n",
      "Requirement already satisfied: numpy in /opt/saturncloud/envs/saturn/lib/python3.10/site-packages (from sentence_transformers) (1.26.3)\n",
      "Requirement already satisfied: scikit-learn in /opt/saturncloud/envs/saturn/lib/python3.10/site-packages (from sentence_transformers) (1.4.0)\n",
      "Requirement already satisfied: scipy in /opt/saturncloud/envs/saturn/lib/python3.10/site-packages (from sentence_transformers) (1.12.0)\n",
      "Requirement already satisfied: huggingface-hub>=0.15.1 in /opt/saturncloud/envs/saturn/lib/python3.10/site-packages (from sentence_transformers) (0.24.6)\n",
      "Requirement already satisfied: Pillow in /opt/saturncloud/envs/saturn/lib/python3.10/site-packages (from sentence_transformers) (10.2.0)\n",
      "Requirement already satisfied: urllib3<3,>=1.26.2 in /opt/saturncloud/envs/saturn/lib/python3.10/site-packages (from elastic-transport<9,>=8.13->elasticsearch) (1.26.18)\n",
      "Requirement already satisfied: certifi in /opt/saturncloud/envs/saturn/lib/python3.10/site-packages (from elastic-transport<9,>=8.13->elasticsearch) (2023.11.17)\n",
      "Requirement already satisfied: filelock in /opt/saturncloud/envs/saturn/lib/python3.10/site-packages (from huggingface-hub>=0.15.1->sentence_transformers) (3.13.1)\n",
      "Requirement already satisfied: fsspec>=2023.5.0 in /opt/saturncloud/envs/saturn/lib/python3.10/site-packages (from huggingface-hub>=0.15.1->sentence_transformers) (2023.12.2)\n",
      "Requirement already satisfied: packaging>=20.9 in /opt/saturncloud/envs/saturn/lib/python3.10/site-packages (from huggingface-hub>=0.15.1->sentence_transformers) (23.2)\n",
      "Requirement already satisfied: pyyaml>=5.1 in /opt/saturncloud/envs/saturn/lib/python3.10/site-packages (from huggingface-hub>=0.15.1->sentence_transformers) (6.0.1)\n",
      "Requirement already satisfied: requests in /opt/saturncloud/envs/saturn/lib/python3.10/site-packages (from huggingface-hub>=0.15.1->sentence_transformers) (2.31.0)\n",
      "Requirement already satisfied: typing-extensions>=3.7.4.3 in /opt/saturncloud/envs/saturn/lib/python3.10/site-packages (from huggingface-hub>=0.15.1->sentence_transformers) (4.9.0)\n",
      "Requirement already satisfied: sympy in /opt/saturncloud/envs/saturn/lib/python3.10/site-packages (from torch>=1.11.0->sentence_transformers) (1.12)\n",
      "Requirement already satisfied: networkx in /opt/saturncloud/envs/saturn/lib/python3.10/site-packages (from torch>=1.11.0->sentence_transformers) (3.2.1)\n",
      "Requirement already satisfied: jinja2 in /opt/saturncloud/envs/saturn/lib/python3.10/site-packages (from torch>=1.11.0->sentence_transformers) (3.1.3)\n",
      "Requirement already satisfied: regex!=2019.12.17 in /opt/saturncloud/envs/saturn/lib/python3.10/site-packages (from transformers<5.0.0,>=4.34.0->sentence_transformers) (2023.12.25)\n",
      "Requirement already satisfied: safetensors>=0.4.1 in /opt/saturncloud/envs/saturn/lib/python3.10/site-packages (from transformers<5.0.0,>=4.34.0->sentence_transformers) (0.4.4)\n",
      "Requirement already satisfied: tokenizers<0.20,>=0.19 in /opt/saturncloud/envs/saturn/lib/python3.10/site-packages (from transformers<5.0.0,>=4.34.0->sentence_transformers) (0.19.1)\n",
      "Requirement already satisfied: joblib>=1.2.0 in /opt/saturncloud/envs/saturn/lib/python3.10/site-packages (from scikit-learn->sentence_transformers) (1.3.2)\n",
      "Requirement already satisfied: threadpoolctl>=2.0.0 in /opt/saturncloud/envs/saturn/lib/python3.10/site-packages (from scikit-learn->sentence_transformers) (3.2.0)\n",
      "Requirement already satisfied: MarkupSafe>=2.0 in /opt/saturncloud/envs/saturn/lib/python3.10/site-packages (from jinja2->torch>=1.11.0->sentence_transformers) (2.1.4)\n",
      "Requirement already satisfied: charset-normalizer<4,>=2 in /opt/saturncloud/envs/saturn/lib/python3.10/site-packages (from requests->huggingface-hub>=0.15.1->sentence_transformers) (2.0.12)\n",
      "Requirement already satisfied: idna<4,>=2.5 in /opt/saturncloud/envs/saturn/lib/python3.10/site-packages (from requests->huggingface-hub>=0.15.1->sentence_transformers) (3.6)\n",
      "Requirement already satisfied: mpmath>=0.19 in /opt/saturncloud/envs/saturn/lib/python3.10/site-packages (from sympy->torch>=1.11.0->sentence_transformers) (1.3.0)\n",
      "Downloading elasticsearch-8.15.0-py3-none-any.whl (523 kB)\n",
      "\u001b[2K   \u001b[90m━━━━━━━━━━━━━━━━━━━━━━━━━━━━━━━━━━━━━━━━\u001b[0m \u001b[32m523.3/523.3 kB\u001b[0m \u001b[31m11.5 MB/s\u001b[0m eta \u001b[36m0:00:00\u001b[0ma \u001b[36m0:00:01\u001b[0m\n",
      "\u001b[?25hUsing cached sentence_transformers-3.0.1-py3-none-any.whl (227 kB)\n",
      "Downloading elastic_transport-8.15.0-py3-none-any.whl (64 kB)\n",
      "\u001b[2K   \u001b[90m━━━━━━━━━━━━━━━━━━━━━━━━━━━━━━━━━━━━━━━━\u001b[0m \u001b[32m64.4/64.4 kB\u001b[0m \u001b[31m7.8 MB/s\u001b[0m eta \u001b[36m0:00:00\u001b[0m\n",
      "\u001b[?25hInstalling collected packages: elastic-transport, elasticsearch, sentence_transformers\n",
      "Successfully installed elastic-transport-8.15.0 elasticsearch-8.15.0 sentence_transformers-3.0.1\n"
     ]
    }
   ],
   "source": [
    "!pip install elasticsearch sentence_transformers tqdm "
   ]
  },
  {
   "cell_type": "code",
   "execution_count": 1,
   "id": "7a3a647e",
   "metadata": {
    "execution": {
     "iopub.execute_input": "2024-08-28T09:10:45.898522Z",
     "iopub.status.busy": "2024-08-28T09:10:45.897876Z",
     "iopub.status.idle": "2024-08-28T09:10:49.119562Z",
     "shell.execute_reply": "2024-08-28T09:10:49.118869Z",
     "shell.execute_reply.started": "2024-08-28T09:10:45.898490Z"
    },
    "tags": []
   },
   "outputs": [],
   "source": [
    "from elasticsearch import Elasticsearch\n",
    "import json\n",
    "from tqdm.auto import tqdm\n",
    "from sentence_transformers import SentenceTransformer\n"
   ]
  },
  {
   "cell_type": "code",
   "execution_count": 2,
   "id": "fdcd6316",
   "metadata": {
    "execution": {
     "iopub.execute_input": "2024-08-28T09:10:49.121237Z",
     "iopub.status.busy": "2024-08-28T09:10:49.120740Z",
     "iopub.status.idle": "2024-08-28T09:10:49.125700Z",
     "shell.execute_reply": "2024-08-28T09:10:49.124842Z",
     "shell.execute_reply.started": "2024-08-28T09:10:49.121209Z"
    },
    "tags": []
   },
   "outputs": [],
   "source": [
    "es_client = Elasticsearch('http://localhost:9200') \n"
   ]
  },
  {
   "cell_type": "code",
   "execution_count": 3,
   "id": "ba5a6687",
   "metadata": {
    "execution": {
     "iopub.execute_input": "2024-08-28T09:10:49.127352Z",
     "iopub.status.busy": "2024-08-28T09:10:49.126929Z",
     "iopub.status.idle": "2024-08-28T09:10:49.136281Z",
     "shell.execute_reply": "2024-08-28T09:10:49.135588Z",
     "shell.execute_reply.started": "2024-08-28T09:10:49.127328Z"
    },
    "tags": []
   },
   "outputs": [
    {
     "name": "stdout",
     "output_type": "stream",
     "text": [
      "{'name': 'w-along-llmproject-7526af7482814462acb59e22664fd36f-5974f449r2d', 'cluster_name': 'elasticsearch', 'cluster_uuid': 'FOLbzfWySoGx267TM6asDg', 'version': {'number': '8.9.1', 'build_flavor': 'default', 'build_type': 'tar', 'build_hash': 'a813d015ef1826148d9d389bd1c0d781c6e349f0', 'build_date': '2023-08-10T05:02:32.517455352Z', 'build_snapshot': False, 'lucene_version': '9.7.0', 'minimum_wire_compatibility_version': '7.17.0', 'minimum_index_compatibility_version': '7.0.0'}, 'tagline': 'You Know, for Search'}\n"
     ]
    }
   ],
   "source": [
    "response = es_client.info()\n",
    "print(response)"
   ]
  },
  {
   "cell_type": "code",
   "execution_count": 4,
   "id": "78896a5f",
   "metadata": {
    "execution": {
     "iopub.execute_input": "2024-08-28T09:10:49.137919Z",
     "iopub.status.busy": "2024-08-28T09:10:49.137619Z",
     "iopub.status.idle": "2024-08-28T09:10:49.257873Z",
     "shell.execute_reply": "2024-08-28T09:10:49.257138Z",
     "shell.execute_reply.started": "2024-08-28T09:10:49.137896Z"
    },
    "tags": []
   },
   "outputs": [
    {
     "name": "stdout",
     "output_type": "stream",
     "text": [
      "Index 'diabetes-questions' created or already exists.\n"
     ]
    },
    {
     "name": "stderr",
     "output_type": "stream",
     "text": [
      "/tmp/ipykernel_1898/1494744711.py:23: DeprecationWarning: Passing transport options in the API method is deprecated. Use 'Elasticsearch.options()' instead.\n",
      "  es_client.indices.create(index=index_name, body=index_settings, ignore=400)\n"
     ]
    }
   ],
   "source": [
    "index_settings = {\n",
    "    \"settings\": {\n",
    "        \"number_of_shards\": 1,\n",
    "        \"number_of_replicas\": 0\n",
    "    },\n",
    "    \"mappings\": {\n",
    "        \"properties\": {\n",
    "            \"answer\": {\"type\": \"text\"},\n",
    "            \"question\": {\"type\": \"text\"},\n",
    "            \"id\": {\"type\": \"keyword\"},\n",
    "            \"qa_text_embeddings\": {\n",
    "                \"type\": \"dense_vector\",\n",
    "                \"dims\": 768,\n",
    "                \"index\": True,\n",
    "                \"similarity\": \"cosine\"\n",
    "            },\n",
    "        }\n",
    "    }\n",
    "}\n",
    "\n",
    "index_name = \"diabetes-questions\"\n",
    "try:\n",
    "    es_client.indices.create(index=index_name, body=index_settings, ignore=400)\n",
    "    print(f\"Index '{index_name}' created or already exists.\")\n",
    "except Exception as e:\n",
    "    print(f\"An error occurred: {e}\")"
   ]
  },
  {
   "cell_type": "code",
   "execution_count": 6,
   "id": "a12d2b56",
   "metadata": {
    "execution": {
     "iopub.execute_input": "2024-08-28T09:11:19.607192Z",
     "iopub.status.busy": "2024-08-28T09:11:19.606804Z",
     "iopub.status.idle": "2024-08-28T09:11:20.002491Z",
     "shell.execute_reply": "2024-08-28T09:11:20.001850Z",
     "shell.execute_reply.started": "2024-08-28T09:11:19.607166Z"
    },
    "tags": []
   },
   "outputs": [],
   "source": [
    "### Load Documents\n",
    "with open('diabetes_data_with_vectors', 'r') as f_in:\n",
    "    diabetes_data_with_vectors = json.load(f_in)"
   ]
  },
  {
   "cell_type": "code",
   "execution_count": 7,
   "id": "5ad46fe7",
   "metadata": {
    "execution": {
     "iopub.execute_input": "2024-08-28T09:11:41.418288Z",
     "iopub.status.busy": "2024-08-28T09:11:41.417891Z",
     "iopub.status.idle": "2024-08-28T09:11:48.663455Z",
     "shell.execute_reply": "2024-08-28T09:11:48.662622Z",
     "shell.execute_reply.started": "2024-08-28T09:11:41.418252Z"
    },
    "tags": []
   },
   "outputs": [
    {
     "data": {
      "application/vnd.jupyter.widget-view+json": {
       "model_id": "c8ac0188586f4b90bbed8d3fea5480af",
       "version_major": 2,
       "version_minor": 0
      },
      "text/plain": [
       "  0%|          | 0/1071 [00:00<?, ?it/s]"
      ]
     },
     "metadata": {},
     "output_type": "display_data"
    }
   ],
   "source": [
    "for doc in tqdm(diabetes_data_with_vectors):\n",
    "    es_client.index(index=index_name, document=doc)"
   ]
  },
  {
   "cell_type": "code",
   "execution_count": null,
   "id": "fc3b913e-d6f5-4956-ab0e-81e641e6baf6",
   "metadata": {},
   "outputs": [],
   "source": []
  },
  {
   "cell_type": "code",
   "execution_count": 9,
   "id": "2b793b4e",
   "metadata": {
    "execution": {
     "iopub.execute_input": "2024-08-28T09:14:58.218241Z",
     "iopub.status.busy": "2024-08-28T09:14:58.217854Z",
     "iopub.status.idle": "2024-08-28T09:14:58.222927Z",
     "shell.execute_reply": "2024-08-28T09:14:58.222270Z",
     "shell.execute_reply.started": "2024-08-28T09:14:58.218216Z"
    },
    "tags": []
   },
   "outputs": [],
   "source": [
    "def elastic_search_knn(field, vector):\n",
    "    knn = {\n",
    "        \"field\": field,\n",
    "        \"query_vector\": vector,\n",
    "        \"k\": 5,\n",
    "        \"num_candidates\": 10000,\n",
    "    }\n",
    "\n",
    "    search_query = {\n",
    "        \"knn\": knn,\n",
    "        \"_source\": [\"answer\", \"question\", \"id\"]\n",
    "    }\n",
    "\n",
    "    es_results = es_client.search(\n",
    "        index=index_name,\n",
    "        body=search_query\n",
    "    )\n",
    "\n",
    "    result_docs = []\n",
    "\n",
    "    for hit in es_results['hits']['hits']:\n",
    " \n",
    "        result_docs.append({\"Question\": hit['_source']['question'] , \"Answer\": hit['_source']['answer'], \"ID\": hit['_source']['id']})\n",
    "\n",
    "    return result_docs"
   ]
  },
  {
   "cell_type": "code",
   "execution_count": 14,
   "id": "c4eb0a0d-548b-42c7-859c-7c799f0cdc20",
   "metadata": {
    "execution": {
     "iopub.execute_input": "2024-08-28T09:17:53.877358Z",
     "iopub.status.busy": "2024-08-28T09:17:53.876983Z",
     "iopub.status.idle": "2024-08-28T09:17:53.883538Z",
     "shell.execute_reply": "2024-08-28T09:17:53.881871Z",
     "shell.execute_reply.started": "2024-08-28T09:17:53.877331Z"
    },
    "tags": []
   },
   "outputs": [],
   "source": [
    "def hybrid_search(query_text, query_vector, top_k=5):\n",
    "    script_query = {\n",
    "        \"script_score\": {\n",
    "            \"query\": {\n",
    "                \"bool\": {\n",
    "                    \"should\": [\n",
    "                        {\"match\": {\"question\": query_text}},\n",
    "                        {\"match\": {\"answer\": query_text}}\n",
    "                    ]\n",
    "                }\n",
    "            },\n",
    "            \"script\": {\n",
    "                \"source\": \"cosineSimilarity(params.query_vector, 'qa_text_embeddings') + 1.0\",\n",
    "                \"params\": {\"query_vector\": query_vector}\n",
    "            }\n",
    "        }\n",
    "    }\n",
    "\n",
    "    response = es_client.search(\n",
    "        index=index_name,\n",
    "        body={\n",
    "            \"size\": top_k,\n",
    "            \"query\": script_query\n",
    "        }\n",
    "    )\n",
    "    result_docs = []\n",
    "\n",
    "    for hit in response['hits']['hits']:\n",
    " \n",
    "        result_docs.append({\"Question\": hit['_source']['question'] , \"Answer\": hit['_source']['answer'], \"ID\": hit['_source']['id']})\n",
    "\n",
    "    return result_docs"
   ]
  },
  {
   "cell_type": "code",
   "execution_count": 11,
   "id": "c5acadaa",
   "metadata": {
    "execution": {
     "iopub.execute_input": "2024-08-28T09:16:42.925265Z",
     "iopub.status.busy": "2024-08-28T09:16:42.924885Z",
     "iopub.status.idle": "2024-08-28T09:16:45.559518Z",
     "shell.execute_reply": "2024-08-28T09:16:45.558724Z",
     "shell.execute_reply.started": "2024-08-28T09:16:42.925238Z"
    },
    "tags": []
   },
   "outputs": [
    {
     "name": "stderr",
     "output_type": "stream",
     "text": [
      "/opt/saturncloud/envs/saturn/lib/python3.10/site-packages/transformers/tokenization_utils_base.py:1601: FutureWarning: `clean_up_tokenization_spaces` was not set. It will be set to `True` by default. This behavior will be depracted in transformers v4.45, and will be then set to `False` by default. For more details check this issue: https://github.com/huggingface/transformers/issues/31884\n",
      "  warnings.warn(\n"
     ]
    }
   ],
   "source": [
    "embedding_model = SentenceTransformer('multi-qa-distilbert-cos-v1')\n",
    "\n",
    "user_question = \"What are the recommended food for a diabetes patients?\"\n",
    "\n",
    "user_question_embedding = embedding_model.encode(user_question)"
   ]
  },
  {
   "cell_type": "code",
   "execution_count": 12,
   "id": "c36f557c",
   "metadata": {
    "execution": {
     "iopub.execute_input": "2024-08-28T09:16:47.524928Z",
     "iopub.status.busy": "2024-08-28T09:16:47.524542Z",
     "iopub.status.idle": "2024-08-28T09:16:47.815787Z",
     "shell.execute_reply": "2024-08-28T09:16:47.814914Z",
     "shell.execute_reply.started": "2024-08-28T09:16:47.524902Z"
    },
    "tags": []
   },
   "outputs": [
    {
     "data": {
      "text/plain": [
       "[{'Question': 'What types of foods are emphasized in a healthy eating plan for diabetes?',\n",
       "  'Answer': 'A healthy eating plan for diabetes emphasizes a variety of foods including breads, cereals, rice, whole grains, fruits, vegetables, meat and meat substitutes, dairy products, and healthy fats.',\n",
       "  'ID': 'b86f8575'},\n",
       " {'Question': 'What are the key components of a healthy eating plan for diabetes?',\n",
       "  'Answer': 'A healthy eating plan for diabetes emphasizes breads, cereals, rice, whole grains, fruits, vegetables, meat and meat substitutes, dairy products, and healthy fats, while focusing on appropriate portion sizes.',\n",
       "  'ID': 'c070f69a'},\n",
       " {'Question': 'Question: Can you list some specific examples of foods rich in healthy fats that are suitable for individuals with diabetes?',\n",
       "  'Answer': 'Answer:  Yes, some great examples of healthy fat-rich foods suitable for individuals with diabetes include olive oil, avocados, almonds, walnuts, salmon, tuna, and flaxseeds. These foods provide essential nutrients and support overall well-being.',\n",
       "  'ID': 'c659dae0'},\n",
       " {'Question': 'What are some examples of healthy fats that should be included in a diabetes-friendly diet?',\n",
       "  'Answer': 'Healthy fats for a diabetes-friendly diet include monounsaturated fats like those found in olive oil, avocados, nuts, and seeds, as well as polyunsaturated fats like those in fatty fish, flaxseeds, and walnuts.',\n",
       "  'ID': '781c0f30'},\n",
       " {'Question': 'What dietary and lifestyle modifications are recommended for pregnant women with diabetes?',\n",
       "  'Answer': 'Answer:  Pregnant women with diabetes are advised to follow a balanced diet low in carbohydrates and fats, with a focus on fruits, vegetables, and whole grains. Regular exercise and weight management are also important for maintaining healthy blood sugar levels.',\n",
       "  'ID': 'e4e43b47'}]"
      ]
     },
     "execution_count": 12,
     "metadata": {},
     "output_type": "execute_result"
    }
   ],
   "source": [
    "elastic_search_knn('qa_text_embeddings',user_question_embedding)\n"
   ]
  },
  {
   "cell_type": "code",
   "execution_count": 29,
   "id": "88284045-308a-477f-a85f-e11a7227a348",
   "metadata": {
    "execution": {
     "iopub.execute_input": "2024-08-28T09:22:50.942434Z",
     "iopub.status.busy": "2024-08-28T09:22:50.942011Z",
     "iopub.status.idle": "2024-08-28T09:22:50.979569Z",
     "shell.execute_reply": "2024-08-28T09:22:50.978645Z",
     "shell.execute_reply.started": "2024-08-28T09:22:50.942406Z"
    },
    "tags": []
   },
   "outputs": [
    {
     "data": {
      "text/plain": [
       "{'Question': 'What types of foods are emphasized in a healthy eating plan for diabetes?',\n",
       " 'Answer': 'A healthy eating plan for diabetes emphasizes a variety of foods including breads, cereals, rice, whole grains, fruits, vegetables, meat and meat substitutes, dairy products, and healthy fats.',\n",
       " 'ID': 'b86f8575'}"
      ]
     },
     "execution_count": 29,
     "metadata": {},
     "output_type": "execute_result"
    }
   ],
   "source": [
    "hybrid_search(user_question, user_question_embedding)[0]"
   ]
  },
  {
   "cell_type": "code",
   "execution_count": 53,
   "id": "c19b56eb-2c3f-4717-82d0-13282f896aa9",
   "metadata": {
    "execution": {
     "iopub.execute_input": "2024-08-28T09:40:35.951452Z",
     "iopub.status.busy": "2024-08-28T09:40:35.951013Z",
     "iopub.status.idle": "2024-08-28T09:40:35.958165Z",
     "shell.execute_reply": "2024-08-28T09:40:35.957456Z",
     "shell.execute_reply.started": "2024-08-28T09:40:35.951421Z"
    },
    "tags": []
   },
   "outputs": [],
   "source": [
    "import pandas as pd\n",
    "data = pd.read_csv('retrieval_evaluation.csv')"
   ]
  },
  {
   "cell_type": "code",
   "execution_count": 54,
   "id": "5d0d6d99-00ae-49a8-a61a-4b57476aaae8",
   "metadata": {
    "execution": {
     "iopub.execute_input": "2024-08-28T09:40:36.630953Z",
     "iopub.status.busy": "2024-08-28T09:40:36.630565Z",
     "iopub.status.idle": "2024-08-28T09:40:36.635422Z",
     "shell.execute_reply": "2024-08-28T09:40:36.634594Z",
     "shell.execute_reply.started": "2024-08-28T09:40:36.630926Z"
    },
    "tags": []
   },
   "outputs": [],
   "source": [
    "retrieval_evaluation_dict = data.to_dict(orient = 'records')\n"
   ]
  },
  {
   "cell_type": "code",
   "execution_count": 46,
   "id": "26b541a6-85a3-41b2-b309-8321f267e903",
   "metadata": {
    "execution": {
     "iopub.execute_input": "2024-08-28T09:31:33.291150Z",
     "iopub.status.busy": "2024-08-28T09:31:33.290754Z",
     "iopub.status.idle": "2024-08-28T09:31:33.296022Z",
     "shell.execute_reply": "2024-08-28T09:31:33.295117Z",
     "shell.execute_reply.started": "2024-08-28T09:31:33.291123Z"
    },
    "tags": []
   },
   "outputs": [],
   "source": [
    "def hit_rate_function(relevance_total):\n",
    "    cnt = 0\n",
    "\n",
    "    for line in relevance_total:\n",
    "        if True in line:\n",
    "            cnt = cnt + 1\n",
    "\n",
    "    return cnt / len(relevance_total)\n",
    "\n",
    "def mrr_function(relevance_total):\n",
    "    total_score = 0.0\n",
    "\n",
    "    for line in relevance_total:\n",
    "        for rank in range(len(line)):\n",
    "            if line[rank] == True:\n",
    "                total_score = total_score + 1 / (rank + 1)\n",
    "\n",
    "    return total_score / len(relevance_total)\n"
   ]
  },
  {
   "cell_type": "code",
   "execution_count": 49,
   "id": "b8ef0a32-72bc-4fe5-9c9d-80a7d74275f5",
   "metadata": {
    "execution": {
     "iopub.execute_input": "2024-08-28T09:31:55.761852Z",
     "iopub.status.busy": "2024-08-28T09:31:55.761443Z",
     "iopub.status.idle": "2024-08-28T09:31:55.767954Z",
     "shell.execute_reply": "2024-08-28T09:31:55.767083Z",
     "shell.execute_reply.started": "2024-08-28T09:31:55.761824Z"
    },
    "tags": []
   },
   "outputs": [],
   "source": [
    "def retrieval_evaluator_hybrid(data_dictionary):\n",
    "    relevance_total = []\n",
    "\n",
    "    for question in tqdm(data_dictionary):\n",
    "        question_id = question['id']\n",
    "        vector = embedding_model.encode(question['question'])\n",
    "        results = hybrid_search(question['question'], vector)\n",
    "        relevance = [d['ID'] == question_id for d in results]\n",
    "        relevance_total.append(relevance)\n",
    "        \n",
    "    return hit_rate_function(relevance_total),mrr_function(relevance_total)\n",
    "\n",
    "\n",
    "def retrieval_evaluator_vector(data_dictionary):\n",
    "    relevance_total = []\n",
    "\n",
    "    for question in tqdm(data_dictionary):\n",
    "        question_id = question['id']\n",
    "        vector = embedding_model.encode(question['question'])\n",
    "        results = elastic_search_knn('qa_text_embeddings', vector)\n",
    "        relevance = [d['ID'] == question_id for d in results]\n",
    "        relevance_total.append(relevance)\n",
    "\n",
    "    hit_rate_value = hit_rate_function(relevance_total)\n",
    "    mrr_value = mrr_function(relevance_total)\n",
    "    return hit_rate_value, mrr_value"
   ]
  },
  {
   "cell_type": "code",
   "execution_count": 55,
   "id": "642bf35d-499b-464f-bd52-32c2121dbefa",
   "metadata": {
    "execution": {
     "iopub.execute_input": "2024-08-28T09:40:40.800591Z",
     "iopub.status.busy": "2024-08-28T09:40:40.800193Z",
     "iopub.status.idle": "2024-08-28T09:40:42.990827Z",
     "shell.execute_reply": "2024-08-28T09:40:42.990131Z",
     "shell.execute_reply.started": "2024-08-28T09:40:40.800565Z"
    },
    "tags": []
   },
   "outputs": [
    {
     "data": {
      "application/vnd.jupyter.widget-view+json": {
       "model_id": "1606dc3f69bb4ae4b61d0fa63539feb9",
       "version_major": 2,
       "version_minor": 0
      },
      "text/plain": [
       "  0%|          | 0/160 [00:00<?, ?it/s]"
      ]
     },
     "metadata": {},
     "output_type": "display_data"
    }
   ],
   "source": [
    "hitrate_hybrid,mrr_hybrid = retrieval_evaluator_hybrid(retrieval_evaluation_dict)\n"
   ]
  },
  {
   "cell_type": "code",
   "execution_count": 56,
   "id": "949a4a75-d968-42fe-a67a-5a57601abc67",
   "metadata": {
    "execution": {
     "iopub.execute_input": "2024-08-28T09:40:42.992516Z",
     "iopub.status.busy": "2024-08-28T09:40:42.992154Z",
     "iopub.status.idle": "2024-08-28T09:40:44.999837Z",
     "shell.execute_reply": "2024-08-28T09:40:44.998835Z",
     "shell.execute_reply.started": "2024-08-28T09:40:42.992490Z"
    },
    "tags": []
   },
   "outputs": [
    {
     "data": {
      "application/vnd.jupyter.widget-view+json": {
       "model_id": "28e850bd023c412e93e8e529b75d4f79",
       "version_major": 2,
       "version_minor": 0
      },
      "text/plain": [
       "  0%|          | 0/160 [00:00<?, ?it/s]"
      ]
     },
     "metadata": {},
     "output_type": "display_data"
    }
   ],
   "source": [
    "hitrate_vector,mrr_vector = retrieval_evaluator_vector(retrieval_evaluation_dict)\n"
   ]
  },
  {
   "cell_type": "code",
   "execution_count": 57,
   "id": "d4b71b79-8e35-4eee-aaef-92f130f4d0e8",
   "metadata": {
    "execution": {
     "iopub.execute_input": "2024-08-28T09:40:45.001249Z",
     "iopub.status.busy": "2024-08-28T09:40:45.000911Z",
     "iopub.status.idle": "2024-08-28T09:40:45.005280Z",
     "shell.execute_reply": "2024-08-28T09:40:45.004677Z",
     "shell.execute_reply.started": "2024-08-28T09:40:45.001223Z"
    },
    "tags": []
   },
   "outputs": [
    {
     "name": "stdout",
     "output_type": "stream",
     "text": [
      "Hit Rate for hybrid search Is : 0.64375\n",
      "MRR for hybrid search : 0.46052083333333343\n"
     ]
    }
   ],
   "source": [
    "print(f'Hit Rate for hybrid search Is : {hitrate_hybrid}')\n",
    "print(f'MRR for hybrid search : {mrr_hybrid}')"
   ]
  },
  {
   "cell_type": "code",
   "execution_count": 58,
   "id": "4b57a137-6566-438d-908e-c4bb5c440e61",
   "metadata": {
    "execution": {
     "iopub.execute_input": "2024-08-28T09:40:45.006817Z",
     "iopub.status.busy": "2024-08-28T09:40:45.006513Z",
     "iopub.status.idle": "2024-08-28T09:40:45.011483Z",
     "shell.execute_reply": "2024-08-28T09:40:45.010544Z",
     "shell.execute_reply.started": "2024-08-28T09:40:45.006795Z"
    },
    "tags": []
   },
   "outputs": [
    {
     "name": "stdout",
     "output_type": "stream",
     "text": [
      "Hit Rate for vector search Is : 0.6375\n",
      "MRR for vector search : 0.4592708333333335\n"
     ]
    }
   ],
   "source": [
    "print(f'Hit Rate for vector search Is : {hitrate_vector}')\n",
    "print(f'MRR for vector search : {mrr_vector}')"
   ]
  },
  {
   "cell_type": "code",
   "execution_count": null,
   "id": "c3b09dcc-99c3-445c-ba27-7c444cba7f13",
   "metadata": {},
   "outputs": [],
   "source": []
  },
  {
   "cell_type": "code",
   "execution_count": null,
   "id": "482526ee-9307-4e33-8bdd-8b03045478db",
   "metadata": {},
   "outputs": [],
   "source": []
  },
  {
   "cell_type": "code",
   "execution_count": 59,
   "id": "70daf621",
   "metadata": {
    "execution": {
     "iopub.execute_input": "2024-08-28T10:18:18.395275Z",
     "iopub.status.busy": "2024-08-28T10:18:18.394891Z",
     "iopub.status.idle": "2024-08-28T10:18:18.508935Z",
     "shell.execute_reply": "2024-08-28T10:18:18.508259Z",
     "shell.execute_reply.started": "2024-08-28T10:18:18.395249Z"
    },
    "tags": []
   },
   "outputs": [
    {
     "name": "stderr",
     "output_type": "stream",
     "text": [
      "/tmp/ipykernel_1898/4153154276.py:1: DeprecationWarning: Passing transport options in the API method is deprecated. Use 'Elasticsearch.options()' instead.\n",
      "  es_client.indices.delete(index=index_name, body=index_settings, ignore=400)\n"
     ]
    },
    {
     "data": {
      "text/plain": [
       "ObjectApiResponse({'acknowledged': True})"
      ]
     },
     "execution_count": 59,
     "metadata": {},
     "output_type": "execute_result"
    }
   ],
   "source": [
    "es_client.indices.delete(index=index_name, body=index_settings, ignore=400)"
   ]
  },
  {
   "cell_type": "code",
   "execution_count": null,
   "id": "cfc142fb-4a30-413c-8f89-60c11c5c186a",
   "metadata": {
    "execution": {
     "iopub.execute_input": "2024-08-09T10:36:57.260592Z",
     "iopub.status.busy": "2024-08-09T10:36:57.260191Z"
    },
    "tags": []
   },
   "outputs": [],
   "source": [
    "with open('es_client.pkl', 'wb') as file:\n",
    "    pickle.dump(es_client, file)"
   ]
  },
  {
   "cell_type": "code",
   "execution_count": null,
   "id": "086b5e19-9215-4281-834a-8aaa754d1df0",
   "metadata": {},
   "outputs": [],
   "source": []
  }
 ],
 "metadata": {
  "kernelspec": {
   "display_name": "saturn (Python 3)",
   "language": "python",
   "name": "python3"
  },
  "language_info": {
   "codemirror_mode": {
    "name": "ipython",
    "version": 3
   },
   "file_extension": ".py",
   "mimetype": "text/x-python",
   "name": "python",
   "nbconvert_exporter": "python",
   "pygments_lexer": "ipython3",
   "version": "3.10.13"
  }
 },
 "nbformat": 4,
 "nbformat_minor": 5
}
