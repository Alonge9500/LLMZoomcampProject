{
 "cells": [
  {
   "cell_type": "code",
   "execution_count": 25,
   "id": "7a3a647e",
   "metadata": {},
   "outputs": [],
   "source": [
    "from elasticsearch import Elasticsearch\n",
    "import json\n",
    "from tqdm.auto import tqdm\n",
    "from sentence_transformers import SentenceTransformer\n"
   ]
  },
  {
   "cell_type": "code",
   "execution_count": 31,
   "id": "fdcd6316",
   "metadata": {},
   "outputs": [],
   "source": [
    "es_client = Elasticsearch('https://cfe6-172-167-41-10.ngrok-free.app/') \n"
   ]
  },
  {
   "cell_type": "code",
   "execution_count": 32,
   "id": "91097853",
   "metadata": {},
   "outputs": [
    {
     "name": "stdout",
     "output_type": "stream",
     "text": [
      "{'name': 'a32337f21ef1', 'cluster_name': 'docker-cluster', 'cluster_uuid': '74Hfpg0gQ_W91wHtnb4TwQ', 'version': {'number': '8.4.3', 'build_flavor': 'default', 'build_type': 'docker', 'build_hash': '42f05b9372a9a4a470db3b52817899b99a76ee73', 'build_date': '2022-10-04T07:17:24.662462378Z', 'build_snapshot': False, 'lucene_version': '9.3.0', 'minimum_wire_compatibility_version': '7.17.0', 'minimum_index_compatibility_version': '7.0.0'}, 'tagline': 'You Know, for Search'}\n"
     ]
    }
   ],
   "source": [
    "response = es_client.info()\n",
    "print(response)"
   ]
  },
  {
   "cell_type": "code",
   "execution_count": 16,
   "id": "78896a5f",
   "metadata": {},
   "outputs": [
    {
     "data": {
      "text/plain": [
       "ObjectApiResponse({'acknowledged': True, 'shards_acknowledged': True, 'index': 'diabetes-questions'})"
      ]
     },
     "execution_count": 16,
     "metadata": {},
     "output_type": "execute_result"
    }
   ],
   "source": [
    "index_settings = {\n",
    "    \"settings\": {\n",
    "        \"number_of_shards\": 1,\n",
    "        \"number_of_replicas\": 0\n",
    "    },\n",
    "    \"mappings\": {\n",
    "        \"properties\": {\n",
    "            \"answer\": {\"type\": \"text\"},\n",
    "            \"question\": {\"type\": \"text\"},\n",
    "            \"id\": {\"type\": \"keyword\"},\n",
    "            \"qa_text_embeddings\": {\n",
    "                \"type\": \"dense_vector\",\n",
    "                \"dims\": 768,\n",
    "                \"index\": True,\n",
    "                \"similarity\": \"cosine\"\n",
    "            },\n",
    "        }\n",
    "    }\n",
    "}\n",
    "\n",
    "index_name = \"diabetes-questions\"\n",
    "\n",
    "es_client.indices.create(index=index_name, body=index_settings)"
   ]
  },
  {
   "cell_type": "code",
   "execution_count": 20,
   "id": "a12d2b56",
   "metadata": {},
   "outputs": [],
   "source": [
    "### Load Documents\n",
    "with open('diabetes_data_with_vectors', 'r') as f_in:\n",
    "    diabetes_data_with_vectors = json.load(f_in)"
   ]
  },
  {
   "cell_type": "code",
   "execution_count": 23,
   "id": "e95ced01",
   "metadata": {},
   "outputs": [
    {
     "data": {
      "application/vnd.jupyter.widget-view+json": {
       "model_id": "2518927f99ad48cb9e817a8a43eb980d",
       "version_major": 2,
       "version_minor": 0
      },
      "text/plain": [
       "  0%|          | 0/1071 [00:00<?, ?it/s]"
      ]
     },
     "metadata": {},
     "output_type": "display_data"
    }
   ],
   "source": [
    "for doc in tqdm(diabetes_data_with_vectors):\n",
    "    es_client.index(index=index_name, document=doc)"
   ]
  },
  {
   "cell_type": "code",
   "execution_count": 28,
   "id": "1b9b12d7",
   "metadata": {},
   "outputs": [],
   "source": [
    "def elastic_search_knn(field, vector):\n",
    "    knn = {\n",
    "        \"field\": field,\n",
    "        \"query_vector\": vector,\n",
    "        \"k\": 5,\n",
    "        \"num_candidates\": 10000,\n",
    "    }\n",
    "\n",
    "    search_query = {\n",
    "        \"knn\": knn,\n",
    "        \"_source\": [\"answer\", \"question\", \"id\"]\n",
    "    }\n",
    "\n",
    "    es_results = es_client.search(\n",
    "        index=index_name,\n",
    "        body=search_query\n",
    "    )\n",
    "\n",
    "    result_docs = []\n",
    "\n",
    "    for hit in es_results['hits']['hits']:\n",
    "        result_docs.append((hit['_source']['id'],hit['_source']))\n",
    "\n",
    "    return result_docs"
   ]
  },
  {
   "cell_type": "code",
   "execution_count": 29,
   "id": "18693fae",
   "metadata": {},
   "outputs": [],
   "source": [
    "embedding_model = SentenceTransformer('multi-qa-distilbert-cos-v1')\n",
    "\n",
    "user_question = \"What are the recommended food for a diabetes patients?\"\n",
    "\n",
    "user_question_embedding = embedding_model.encode(user_question)"
   ]
  },
  {
   "cell_type": "code",
   "execution_count": 30,
   "id": "8e3eb4bc",
   "metadata": {},
   "outputs": [
    {
     "data": {
      "text/plain": [
       "[('b86f8575',\n",
       "  {'question': 'What types of foods are emphasized in a healthy eating plan for diabetes?',\n",
       "   'answer': 'A healthy eating plan for diabetes emphasizes a variety of foods including breads, cereals, rice, whole grains, fruits, vegetables, meat and meat substitutes, dairy products, and healthy fats.',\n",
       "   'id': 'b86f8575'}),\n",
       " ('c070f69a',\n",
       "  {'question': 'What are the key components of a healthy eating plan for diabetes?',\n",
       "   'answer': 'A healthy eating plan for diabetes emphasizes breads, cereals, rice, whole grains, fruits, vegetables, meat and meat substitutes, dairy products, and healthy fats, while focusing on appropriate portion sizes.',\n",
       "   'id': 'c070f69a'}),\n",
       " ('c659dae0',\n",
       "  {'question': 'Question: Can you list some specific examples of foods rich in healthy fats that are suitable for individuals with diabetes?',\n",
       "   'answer': 'Answer:  Yes, some great examples of healthy fat-rich foods suitable for individuals with diabetes include olive oil, avocados, almonds, walnuts, salmon, tuna, and flaxseeds. These foods provide essential nutrients and support overall well-being.',\n",
       "   'id': 'c659dae0'}),\n",
       " ('781c0f30',\n",
       "  {'question': 'What are some examples of healthy fats that should be included in a diabetes-friendly diet?',\n",
       "   'answer': 'Healthy fats for a diabetes-friendly diet include monounsaturated fats like those found in olive oil, avocados, nuts, and seeds, as well as polyunsaturated fats like those in fatty fish, flaxseeds, and walnuts.',\n",
       "   'id': '781c0f30'}),\n",
       " ('e4e43b47',\n",
       "  {'question': 'What dietary and lifestyle modifications are recommended for pregnant women with diabetes?',\n",
       "   'answer': 'Answer:  Pregnant women with diabetes are advised to follow a balanced diet low in carbohydrates and fats, with a focus on fruits, vegetables, and whole grains. Regular exercise and weight management are also important for maintaining healthy blood sugar levels.',\n",
       "   'id': 'e4e43b47'})]"
      ]
     },
     "execution_count": 30,
     "metadata": {},
     "output_type": "execute_result"
    }
   ],
   "source": [
    "elastic_search_knn('qa_text_embeddings',user_question_embedding)\n"
   ]
  },
  {
   "cell_type": "code",
   "execution_count": null,
   "id": "a141abc3",
   "metadata": {},
   "outputs": [],
   "source": []
  }
 ],
 "metadata": {
  "kernelspec": {
   "display_name": "saturn (Python 3)",
   "language": "python",
   "name": "python3"
  },
  "language_info": {
   "codemirror_mode": {
    "name": "ipython",
    "version": 3
   },
   "file_extension": ".py",
   "mimetype": "text/x-python",
   "name": "python",
   "nbconvert_exporter": "python",
   "pygments_lexer": "ipython3",
   "version": "3.10.13"
  }
 },
 "nbformat": 4,
 "nbformat_minor": 5
}
