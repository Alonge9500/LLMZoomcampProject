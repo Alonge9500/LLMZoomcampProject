{
 "cells": [
  {
   "cell_type": "markdown",
   "id": "a1fb08c4-f9c9-4135-91f4-40284f01ce32",
   "metadata": {
    "execution": {
     "iopub.execute_input": "2024-08-27T14:25:02.490527Z",
     "iopub.status.busy": "2024-08-27T14:25:02.490066Z",
     "iopub.status.idle": "2024-08-27T14:25:02.494162Z",
     "shell.execute_reply": "2024-08-27T14:25:02.493508Z",
     "shell.execute_reply.started": "2024-08-27T14:25:02.490502Z"
    },
    "tags": []
   },
   "source": [
    "### Load Data"
   ]
  },
  {
   "cell_type": "code",
   "execution_count": 35,
   "id": "2813d39b-3862-44de-8c38-c75ba25894d5",
   "metadata": {
    "execution": {
     "iopub.execute_input": "2024-08-27T14:24:31.698324Z",
     "iopub.status.busy": "2024-08-27T14:24:31.697909Z",
     "iopub.status.idle": "2024-08-27T14:24:37.961481Z",
     "shell.execute_reply": "2024-08-27T14:24:37.960637Z",
     "shell.execute_reply.started": "2024-08-27T14:24:31.698292Z"
    },
    "tags": []
   },
   "outputs": [
    {
     "data": {
      "text/plain": [
       "True"
      ]
     },
     "execution_count": 35,
     "metadata": {},
     "output_type": "execute_result"
    }
   ],
   "source": [
    "import pandas as pd\n",
    "from tqdm.auto import tqdm\n",
    "import json\n",
    "import os\n",
    "from dotenv import load_dotenv\n",
    "from qdrant_client import QdrantClient\n",
    "from qdrant_client.models import PointStruct\n",
    "from sentence_transformers import SentenceTransformer\n",
    "import cohere\n",
    "\n",
    "# Load the .env file\n",
    "load_dotenv()\n"
   ]
  },
  {
   "cell_type": "markdown",
   "id": "a5c708c6-35cd-4188-93dd-b65976df1922",
   "metadata": {
    "execution": {
     "iopub.execute_input": "2024-08-27T14:25:24.249953Z",
     "iopub.status.busy": "2024-08-27T14:25:24.249561Z",
     "iopub.status.idle": "2024-08-27T14:25:24.253175Z",
     "shell.execute_reply": "2024-08-27T14:25:24.252406Z",
     "shell.execute_reply.started": "2024-08-27T14:25:24.249928Z"
    },
    "tags": []
   },
   "source": [
    "### Instantiate Vector DB and LLM"
   ]
  },
  {
   "cell_type": "code",
   "execution_count": 7,
   "id": "b890c9f0-66e0-4353-93fb-efb186b97865",
   "metadata": {
    "execution": {
     "iopub.execute_input": "2024-08-27T14:06:21.125135Z",
     "iopub.status.busy": "2024-08-27T14:06:21.124718Z",
     "iopub.status.idle": "2024-08-27T14:06:21.140751Z",
     "shell.execute_reply": "2024-08-27T14:06:21.140047Z",
     "shell.execute_reply.started": "2024-08-27T14:06:21.125107Z"
    },
    "tags": []
   },
   "outputs": [
    {
     "name": "stdout",
     "output_type": "stream",
     "text": [
      "r09oP5L3SaVcMi_MvBC3yBOuRpcYChNeZjzTiEHr5cyoyHiP00CyEw\n"
     ]
    }
   ],
   "source": [
    "api_key = os.getenv('QDRANT_API_KEY')\n",
    "\n",
    "\n",
    "client = QdrantClient(\n",
    "    url=\"https://8999b86c-f8b2-4d60-bdfa-8c68d39daae7.europe-west3-0.gcp.cloud.qdrant.io:6333\", \n",
    "    api_key=api_key,timeout=200\n",
    ")\n",
    "\n",
    "print(api_key)"
   ]
  },
  {
   "cell_type": "code",
   "execution_count": 14,
   "id": "3e9589bb-0aef-4eab-92de-545b8953ee60",
   "metadata": {
    "execution": {
     "iopub.execute_input": "2024-08-27T14:10:20.385055Z",
     "iopub.status.busy": "2024-08-27T14:10:20.384378Z",
     "iopub.status.idle": "2024-08-27T14:10:20.397532Z",
     "shell.execute_reply": "2024-08-27T14:10:20.396908Z",
     "shell.execute_reply.started": "2024-08-27T14:10:20.385023Z"
    },
    "tags": []
   },
   "outputs": [
    {
     "name": "stdout",
     "output_type": "stream",
     "text": [
      "HmZ8nzR3n7wSfzoWAKbW3Iy0iYbkpg4lsR7OL0s4\n"
     ]
    }
   ],
   "source": [
    "#Instantiate LLM\n",
    "\n",
    "cohere_api_key = os.getenv('COHERE_API_KEY')\n",
    "co = cohere.Client(cohere_api_key)\n"
   ]
  },
  {
   "cell_type": "code",
   "execution_count": 8,
   "id": "96750ae6-2ba4-4386-8c2d-28543cdca459",
   "metadata": {
    "execution": {
     "iopub.execute_input": "2024-08-27T14:07:28.500941Z",
     "iopub.status.busy": "2024-08-27T14:07:28.500543Z",
     "iopub.status.idle": "2024-08-27T14:07:28.842880Z",
     "shell.execute_reply": "2024-08-27T14:07:28.842171Z",
     "shell.execute_reply.started": "2024-08-27T14:07:28.500914Z"
    },
    "tags": []
   },
   "outputs": [],
   "source": [
    "#Load Data\n",
    "with open('diabetes_data_with_vectors', 'r') as file:\n",
    "    diabetes_data_with_vectors = json.load(file)"
   ]
  },
  {
   "cell_type": "markdown",
   "id": "28401f17-32f0-40ea-bcd4-ff8b8d99e3dd",
   "metadata": {},
   "source": [
    "### Develop Prompt"
   ]
  },
  {
   "cell_type": "code",
   "execution_count": 141,
   "id": "03e01dc9-055f-4681-9fbb-fe33c3b2738e",
   "metadata": {
    "execution": {
     "iopub.execute_input": "2024-08-27T15:18:41.864361Z",
     "iopub.status.busy": "2024-08-27T15:18:41.863960Z",
     "iopub.status.idle": "2024-08-27T15:18:41.867958Z",
     "shell.execute_reply": "2024-08-27T15:18:41.867162Z",
     "shell.execute_reply.started": "2024-08-27T15:18:41.864333Z"
    },
    "tags": []
   },
   "outputs": [],
   "source": [
    "prompt_template = '''\n",
    "You are emulating a diabetes patient.\n",
    "Formulate just 5 insightful questions based on the following diabetes conversation record. \n",
    "Use the context provided to generate relevant questions, but avoid directly copying words from the response.\n",
    "Be as brief as possible\n",
    "Dont't repeat question\n",
    "Record:\n",
    "Context: {question}\n",
    "return result in this format\n",
    "[question1, question2, question3]\n",
    "\n",
    "Dont include the instruction or anyother thing in the response\n",
    "Return only the generated response as a python list\n",
    "\n",
    "\n",
    "'''"
   ]
  },
  {
   "cell_type": "code",
   "execution_count": 142,
   "id": "faee12db-8799-49be-8c72-1daad6caf405",
   "metadata": {
    "execution": {
     "iopub.execute_input": "2024-08-27T15:18:43.583365Z",
     "iopub.status.busy": "2024-08-27T15:18:43.582978Z",
     "iopub.status.idle": "2024-08-27T15:18:43.587341Z",
     "shell.execute_reply": "2024-08-27T15:18:43.586431Z",
     "shell.execute_reply.started": "2024-08-27T15:18:43.583338Z"
    },
    "tags": []
   },
   "outputs": [],
   "source": [
    "def generate_questions(doc):\n",
    "    prompt = prompt_template.format(**doc)\n",
    "    \n",
    "    result = co.chat(message= prompt).text\n",
    "\n",
    "    json_response = result\n",
    "    return json_response"
   ]
  },
  {
   "cell_type": "code",
   "execution_count": 144,
   "id": "f21c07d8-3d3a-4030-8dfd-e1d93daa51a9",
   "metadata": {
    "execution": {
     "iopub.execute_input": "2024-08-27T15:19:05.418928Z",
     "iopub.status.busy": "2024-08-27T15:19:05.418544Z",
     "iopub.status.idle": "2024-08-27T15:19:05.422383Z",
     "shell.execute_reply": "2024-08-27T15:19:05.421639Z",
     "shell.execute_reply.started": "2024-08-27T15:19:05.418902Z"
    },
    "tags": []
   },
   "outputs": [],
   "source": [
    "import random\n",
    "#Select 25 Random Data to evaluate Retrieval\n",
    "sampledata = random.sample(diabetes_data_with_vectors, 35)\n"
   ]
  },
  {
   "cell_type": "code",
   "execution_count": 145,
   "id": "f57ce9ba-70d2-4ab0-bff1-64bc0406ba98",
   "metadata": {
    "execution": {
     "iopub.execute_input": "2024-08-27T15:19:06.900404Z",
     "iopub.status.busy": "2024-08-27T15:19:06.900014Z",
     "iopub.status.idle": "2024-08-27T15:20:15.989655Z",
     "shell.execute_reply": "2024-08-27T15:20:15.989000Z",
     "shell.execute_reply.started": "2024-08-27T15:19:06.900379Z"
    },
    "tags": []
   },
   "outputs": [
    {
     "data": {
      "application/vnd.jupyter.widget-view+json": {
       "model_id": "43c0110779cc479cb2dfdf28bc1ce940",
       "version_major": 2,
       "version_minor": 0
      },
      "text/plain": [
       "  0%|          | 0/35 [00:00<?, ?it/s]"
      ]
     },
     "metadata": {},
     "output_type": "display_data"
    }
   ],
   "source": [
    "#Generate The List\n",
    "\n",
    "results = {}\n",
    "for doc in tqdm(sampledata): \n",
    "    doc_id = doc['id']\n",
    "    if doc_id in results:\n",
    "        continue\n",
    "\n",
    "    questions = generate_questions(doc)\n",
    "    results[doc_id] = questions\n",
    "    if doc_id == 'bedc96fa':\n",
    "        print(questions)"
   ]
  },
  {
   "cell_type": "markdown",
   "id": "3bcd40fe-3708-4829-8f50-00e34d085950",
   "metadata": {},
   "source": [
    "### Create Dataframe for retrieval evaluation"
   ]
  },
  {
   "cell_type": "code",
   "execution_count": 150,
   "id": "d90ede9c-7214-4750-aa1a-0879ab753a9f",
   "metadata": {
    "execution": {
     "iopub.execute_input": "2024-08-27T15:23:15.574521Z",
     "iopub.status.busy": "2024-08-27T15:23:15.574129Z",
     "iopub.status.idle": "2024-08-27T15:23:15.578374Z",
     "shell.execute_reply": "2024-08-27T15:23:15.577549Z",
     "shell.execute_reply.started": "2024-08-27T15:23:15.574493Z"
    },
    "tags": []
   },
   "outputs": [],
   "source": [
    "results[ids[33]] = \"['How can I manage my diabetes effectively on a daily basis?', 'What are the potential risks if I dont inform others about my diabetes?', 'Are there any legal implications if I dont disclose my diabetes to, say, my employer or my school?', 'In what specific emergency situations would sharing my diabetes status be beneficial?', 'How can I explain my diabetes to those close to me in a simple and understandable way?']\""
   ]
  },
  {
   "cell_type": "code",
   "execution_count": 151,
   "id": "6ce45ddd-a151-4612-9a34-a16c606bd0b2",
   "metadata": {
    "execution": {
     "iopub.execute_input": "2024-08-27T15:23:17.557317Z",
     "iopub.status.busy": "2024-08-27T15:23:17.556932Z",
     "iopub.status.idle": "2024-08-27T15:23:17.560333Z",
     "shell.execute_reply": "2024-08-27T15:23:17.559717Z",
     "shell.execute_reply.started": "2024-08-27T15:23:17.557289Z"
    },
    "tags": []
   },
   "outputs": [],
   "source": [
    "import ast"
   ]
  },
  {
   "cell_type": "code",
   "execution_count": 152,
   "id": "fb90d4ea-4a58-43e1-a95f-5fc102eb6a76",
   "metadata": {
    "execution": {
     "iopub.execute_input": "2024-08-27T15:23:17.813390Z",
     "iopub.status.busy": "2024-08-27T15:23:17.813020Z",
     "iopub.status.idle": "2024-08-27T15:23:17.830111Z",
     "shell.execute_reply": "2024-08-27T15:23:17.829241Z",
     "shell.execute_reply.started": "2024-08-27T15:23:17.813363Z"
    },
    "tags": []
   },
   "outputs": [
    {
     "data": {
      "application/vnd.jupyter.widget-view+json": {
       "model_id": "7adb04f9b07f4f08a358a3b152f1393f",
       "version_major": 2,
       "version_minor": 0
      },
      "text/plain": [
       "  0%|          | 0/35 [00:00<?, ?it/s]"
      ]
     },
     "metadata": {},
     "output_type": "display_data"
    }
   ],
   "source": [
    "ids= list(results.keys())\n",
    "main_rows = []\n",
    "\n",
    "for document in tqdm(ids):\n",
    "    for question in ast.literal_eval(results[document]):\n",
    "        main_rows.append((question,document))\n",
    "        \n",
    "        \n",
    "df = pd.DataFrame(main_rows, columns=[\"question\", \"id\"])\n"
   ]
  },
  {
   "cell_type": "code",
   "execution_count": 153,
   "id": "6a48928c-7a96-4b8d-a4f5-d36918f9dfea",
   "metadata": {
    "execution": {
     "iopub.execute_input": "2024-08-27T15:23:22.606458Z",
     "iopub.status.busy": "2024-08-27T15:23:22.606069Z",
     "iopub.status.idle": "2024-08-27T15:23:22.611818Z",
     "shell.execute_reply": "2024-08-27T15:23:22.611146Z",
     "shell.execute_reply.started": "2024-08-27T15:23:22.606428Z"
    },
    "tags": []
   },
   "outputs": [],
   "source": [
    "df.to_csv('retrieval_evaluation.csv', index=False)"
   ]
  },
  {
   "cell_type": "markdown",
   "id": "16d0e0ee-1535-46fe-a329-56bc590467fa",
   "metadata": {},
   "source": [
    "### Evaluate Retrieval"
   ]
  },
  {
   "cell_type": "code",
   "execution_count": 154,
   "id": "5de07536-3aad-4522-a187-35c76cea13c0",
   "metadata": {
    "execution": {
     "iopub.execute_input": "2024-08-27T15:23:29.513695Z",
     "iopub.status.busy": "2024-08-27T15:23:29.513168Z",
     "iopub.status.idle": "2024-08-27T15:23:29.516940Z",
     "shell.execute_reply": "2024-08-27T15:23:29.516288Z",
     "shell.execute_reply.started": "2024-08-27T15:23:29.513666Z"
    },
    "tags": []
   },
   "outputs": [],
   "source": [
    "def search_query(query_vector):\n",
    "    hits = client.search(\n",
    "        collection_name=\"diabetes\",\n",
    "        query_vector=query_vector,\n",
    "        limit=5\n",
    "    )\n",
    "    return hits"
   ]
  },
  {
   "cell_type": "code",
   "execution_count": 155,
   "id": "890e07a9-38ae-4eb2-9b12-9e09f86eb719",
   "metadata": {
    "execution": {
     "iopub.execute_input": "2024-08-27T15:23:29.966081Z",
     "iopub.status.busy": "2024-08-27T15:23:29.965692Z",
     "iopub.status.idle": "2024-08-27T15:23:29.971372Z",
     "shell.execute_reply": "2024-08-27T15:23:29.970734Z",
     "shell.execute_reply.started": "2024-08-27T15:23:29.966055Z"
    },
    "tags": []
   },
   "outputs": [],
   "source": [
    "data = pd.read_csv('retrieval_evaluation.csv')"
   ]
  },
  {
   "cell_type": "code",
   "execution_count": 156,
   "id": "4a8152b9-7683-40bb-97f5-f5452813bc00",
   "metadata": {
    "execution": {
     "iopub.execute_input": "2024-08-27T15:23:30.765422Z",
     "iopub.status.busy": "2024-08-27T15:23:30.765040Z",
     "iopub.status.idle": "2024-08-27T15:23:30.769599Z",
     "shell.execute_reply": "2024-08-27T15:23:30.768839Z",
     "shell.execute_reply.started": "2024-08-27T15:23:30.765395Z"
    },
    "tags": []
   },
   "outputs": [],
   "source": [
    "retrieval_evaluation_dict = data.to_dict(orient = 'records')\n"
   ]
  },
  {
   "cell_type": "code",
   "execution_count": null,
   "id": "d8657e5d-d452-4461-8ac6-e77218511abd",
   "metadata": {},
   "outputs": [],
   "source": [
    "embedding_model = SentenceTransformer('multi-qa-distilbert-cos-v1')"
   ]
  },
  {
   "cell_type": "code",
   "execution_count": 206,
   "id": "1393d03e-7357-46ab-9523-d82d02c15e64",
   "metadata": {
    "execution": {
     "iopub.execute_input": "2024-08-27T16:11:23.337859Z",
     "iopub.status.busy": "2024-08-27T16:11:23.337291Z",
     "iopub.status.idle": "2024-08-27T16:11:23.345150Z",
     "shell.execute_reply": "2024-08-27T16:11:23.343815Z",
     "shell.execute_reply.started": "2024-08-27T16:11:23.337813Z"
    },
    "tags": []
   },
   "outputs": [],
   "source": [
    "def hit_rate(relevance_total):\n",
    "    cnt = 0\n",
    "\n",
    "    for line in relevance_total:\n",
    "        if True in line:\n",
    "            cnt = cnt + 1\n",
    "\n",
    "    return cnt / len(relevance_total)\n",
    "\n",
    "def mrr(relevance_total):\n",
    "    total_score = 0.0\n",
    "\n",
    "    for line in relevance_total:\n",
    "        for rank in range(len(line)):\n",
    "            if line[rank] == True:\n",
    "                total_score = total_score + 1 / (rank + 1)\n",
    "\n",
    "    return total_score / len(relevance_total)\n"
   ]
  },
  {
   "cell_type": "code",
   "execution_count": 216,
   "id": "269052ca-ed6e-4a18-baa2-802668b4937c",
   "metadata": {
    "execution": {
     "iopub.execute_input": "2024-08-27T16:15:42.349349Z",
     "iopub.status.busy": "2024-08-27T16:15:42.348832Z",
     "iopub.status.idle": "2024-08-27T16:15:42.354049Z",
     "shell.execute_reply": "2024-08-27T16:15:42.353378Z",
     "shell.execute_reply.started": "2024-08-27T16:15:42.349220Z"
    },
    "tags": []
   },
   "outputs": [],
   "source": [
    "def retrieval_evaluator(data_dictionary):\n",
    "    relevance_total = []\n",
    "\n",
    "    for question in tqdm(data_dictionary):\n",
    "        question_id = question['id']\n",
    "        vector = embedding_model.encode(question['question'])\n",
    "        results = search_query(vector)\n",
    "        relevance = [d.payload['id'] == question_id for d in results]\n",
    "        relevance_total.append(relevance)\n",
    "        \n",
    "    return hit_rate(relevance_total),mrr(relevance_total)"
   ]
  },
  {
   "cell_type": "code",
   "execution_count": 217,
   "id": "0144a26f-1f25-4af9-b053-0e6f787f4aa8",
   "metadata": {
    "execution": {
     "iopub.execute_input": "2024-08-27T16:15:43.126568Z",
     "iopub.status.busy": "2024-08-27T16:15:43.126180Z",
     "iopub.status.idle": "2024-08-27T16:16:05.725871Z",
     "shell.execute_reply": "2024-08-27T16:16:05.725014Z",
     "shell.execute_reply.started": "2024-08-27T16:15:43.126541Z"
    },
    "tags": []
   },
   "outputs": [
    {
     "data": {
      "application/vnd.jupyter.widget-view+json": {
       "model_id": "49f9f61f10804e32b5a0089570d84553",
       "version_major": 2,
       "version_minor": 0
      },
      "text/plain": [
       "  0%|          | 0/173 [00:00<?, ?it/s]"
      ]
     },
     "metadata": {},
     "output_type": "display_data"
    }
   ],
   "source": [
    "hitrate,mrr = retrieval_evaluator(retrieval_evaluation_dict)\n",
    "    "
   ]
  },
  {
   "cell_type": "code",
   "execution_count": 218,
   "id": "9acfa35a-1b95-4710-922c-51c27e57530b",
   "metadata": {
    "execution": {
     "iopub.execute_input": "2024-08-27T16:16:05.728015Z",
     "iopub.status.busy": "2024-08-27T16:16:05.727599Z",
     "iopub.status.idle": "2024-08-27T16:16:05.732342Z",
     "shell.execute_reply": "2024-08-27T16:16:05.731724Z",
     "shell.execute_reply.started": "2024-08-27T16:16:05.727978Z"
    },
    "tags": []
   },
   "outputs": [
    {
     "name": "stdout",
     "output_type": "stream",
     "text": [
      "Hit Rate Is : 0.47398843930635837\n",
      "MRR Is : 0.26425818882466284\n"
     ]
    }
   ],
   "source": [
    "print(f'Hit Rate Is : {hitrate}')\n",
    "print(f'MRR Is : {mrr}')"
   ]
  },
  {
   "cell_type": "code",
   "execution_count": 209,
   "id": "9ec9347b-24ce-42f8-9d85-14366077e289",
   "metadata": {
    "execution": {
     "iopub.execute_input": "2024-08-27T16:12:08.274594Z",
     "iopub.status.busy": "2024-08-27T16:12:08.274199Z",
     "iopub.status.idle": "2024-08-27T16:12:08.278529Z",
     "shell.execute_reply": "2024-08-27T16:12:08.277792Z",
     "shell.execute_reply.started": "2024-08-27T16:12:08.274567Z"
    },
    "tags": []
   },
   "outputs": [
    {
     "name": "stdout",
     "output_type": "stream",
     "text": [
      "0.4508670520231214\n",
      "0.2784200385356455\n"
     ]
    }
   ],
   "source": [
    "print(hit_rate(result))\n",
    "print(mrr(result))"
   ]
  },
  {
   "cell_type": "code",
   "execution_count": null,
   "id": "f00898be-b19f-4169-84f0-ba40670b91b0",
   "metadata": {
    "tags": []
   },
   "outputs": [],
   "source": []
  },
  {
   "cell_type": "code",
   "execution_count": null,
   "id": "3ab8d883-639b-49a9-898b-087e95227d06",
   "metadata": {},
   "outputs": [],
   "source": []
  }
 ],
 "metadata": {
  "kernelspec": {
   "display_name": "saturn (Python 3)",
   "language": "python",
   "name": "python3"
  },
  "language_info": {
   "codemirror_mode": {
    "name": "ipython",
    "version": 3
   },
   "file_extension": ".py",
   "mimetype": "text/x-python",
   "name": "python",
   "nbconvert_exporter": "python",
   "pygments_lexer": "ipython3",
   "version": "3.10.13"
  }
 },
 "nbformat": 4,
 "nbformat_minor": 5
}
