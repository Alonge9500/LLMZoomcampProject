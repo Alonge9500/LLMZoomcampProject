{
 "cells": [
  {
   "cell_type": "code",
   "execution_count": null,
   "id": "617f7fd1-3f9b-44c1-87db-5b0d80225198",
   "metadata": {
    "tags": []
   },
   "outputs": [],
   "source": [
    "!pip install qdrant-client\n",
    "!pip install sentence_transformers"
   ]
  },
  {
   "cell_type": "code",
   "execution_count": 2,
   "id": "5cc0164e-7014-4d47-b495-0193c9861985",
   "metadata": {
    "execution": {
     "iopub.execute_input": "2024-08-20T16:49:05.291188Z",
     "iopub.status.busy": "2024-08-20T16:49:05.290659Z",
     "iopub.status.idle": "2024-08-20T16:49:08.445970Z",
     "shell.execute_reply": "2024-08-20T16:49:08.445047Z",
     "shell.execute_reply.started": "2024-08-20T16:49:05.291140Z"
    },
    "tags": []
   },
   "outputs": [
    {
     "name": "stdout",
     "output_type": "stream",
     "text": [
      "Collecting python-dotenv\n",
      "  Using cached python_dotenv-1.0.1-py3-none-any.whl.metadata (23 kB)\n",
      "Using cached python_dotenv-1.0.1-py3-none-any.whl (19 kB)\n",
      "Installing collected packages: python-dotenv\n",
      "Successfully installed python-dotenv-1.0.1\n"
     ]
    }
   ],
   "source": [
    "!pip install python-dotenv\n"
   ]
  },
  {
   "cell_type": "code",
   "execution_count": 4,
   "id": "d9764687-6d8b-49fa-8819-2fabd5db6d3a",
   "metadata": {
    "execution": {
     "iopub.execute_input": "2024-08-20T16:49:57.570806Z",
     "iopub.status.busy": "2024-08-20T16:49:57.570384Z",
     "iopub.status.idle": "2024-08-20T16:50:07.693877Z",
     "shell.execute_reply": "2024-08-20T16:50:07.692740Z",
     "shell.execute_reply.started": "2024-08-20T16:49:57.570777Z"
    },
    "tags": []
   },
   "outputs": [
    {
     "name": "stderr",
     "output_type": "stream",
     "text": [
      "/opt/saturncloud/envs/saturn/lib/python3.10/site-packages/sentence_transformers/cross_encoder/CrossEncoder.py:11: TqdmExperimentalWarning: Using `tqdm.autonotebook.tqdm` in notebook mode. Use `tqdm.tqdm` instead to force console mode (e.g. in jupyter console)\n",
      "  from tqdm.autonotebook import tqdm, trange\n"
     ]
    },
    {
     "data": {
      "text/plain": [
       "True"
      ]
     },
     "execution_count": 4,
     "metadata": {},
     "output_type": "execute_result"
    }
   ],
   "source": [
    "from qdrant_client import QdrantClient\n",
    "from qdrant_client.models import PointStruct\n",
    "import json\n",
    "from sentence_transformers import SentenceTransformer\n",
    "import os\n",
    "from dotenv import load_dotenv\n",
    "\n",
    "# Load the .env file\n",
    "load_dotenv()\n",
    "\n"
   ]
  },
  {
   "cell_type": "code",
   "execution_count": 5,
   "id": "4a12e954-f77f-4e7b-910e-a097c7a8a2dd",
   "metadata": {
    "execution": {
     "iopub.execute_input": "2024-08-20T16:50:07.695922Z",
     "iopub.status.busy": "2024-08-20T16:50:07.695385Z",
     "iopub.status.idle": "2024-08-20T16:50:08.053367Z",
     "shell.execute_reply": "2024-08-20T16:50:08.052536Z",
     "shell.execute_reply.started": "2024-08-20T16:50:07.695886Z"
    },
    "tags": []
   },
   "outputs": [],
   "source": [
    "with open('diabetes_data_with_vectors', 'r') as f_in:\n",
    "    diabetes_data_with_vectors = json.load(f_in)"
   ]
  },
  {
   "cell_type": "code",
   "execution_count": 7,
   "id": "f1ec82b4-570e-42b8-910d-bae06b4d6453",
   "metadata": {
    "execution": {
     "iopub.execute_input": "2024-08-20T16:53:28.190860Z",
     "iopub.status.busy": "2024-08-20T16:53:28.190415Z",
     "iopub.status.idle": "2024-08-20T16:53:28.208545Z",
     "shell.execute_reply": "2024-08-20T16:53:28.207619Z",
     "shell.execute_reply.started": "2024-08-20T16:53:28.190828Z"
    },
    "tags": []
   },
   "outputs": [
    {
     "name": "stdout",
     "output_type": "stream",
     "text": [
      "r09oP5L3SaVcMi_MvBC3yBOuRpcYChNeZjzTiEHr5cyoyHiP00CyEw\n"
     ]
    }
   ],
   "source": [
    "api_key = os.getenv('QDRANT_API_KEY')\n",
    "\n",
    "\n",
    "client = QdrantClient(\n",
    "    url=\"https://8999b86c-f8b2-4d60-bdfa-8c68d39daae7.europe-west3-0.gcp.cloud.qdrant.io:6333\", \n",
    "    api_key=api_key,timeout=200\n",
    ")\n",
    "\n",
    "print(api_key)"
   ]
  },
  {
   "cell_type": "code",
   "execution_count": 120,
   "id": "fad83214-cf8d-4ff1-9e9f-b9cec0eff4c0",
   "metadata": {
    "execution": {
     "iopub.execute_input": "2024-08-20T13:33:01.156068Z",
     "iopub.status.busy": "2024-08-20T13:33:01.155670Z",
     "iopub.status.idle": "2024-08-20T13:33:01.501147Z",
     "shell.execute_reply": "2024-08-20T13:33:01.500360Z",
     "shell.execute_reply.started": "2024-08-20T13:33:01.156039Z"
    },
    "tags": []
   },
   "outputs": [
    {
     "data": {
      "text/plain": [
       "True"
      ]
     },
     "execution_count": 120,
     "metadata": {},
     "output_type": "execute_result"
    }
   ],
   "source": [
    "client.delete_collection(\n",
    "    collection_name=\"diabetes\")"
   ]
  },
  {
   "cell_type": "code",
   "execution_count": 121,
   "id": "dfd6d704-e07d-4594-b905-ffc37eed3ec9",
   "metadata": {
    "execution": {
     "iopub.execute_input": "2024-08-20T13:33:03.451597Z",
     "iopub.status.busy": "2024-08-20T13:33:03.451154Z",
     "iopub.status.idle": "2024-08-20T13:33:03.731729Z",
     "shell.execute_reply": "2024-08-20T13:33:03.730897Z",
     "shell.execute_reply.started": "2024-08-20T13:33:03.451569Z"
    },
    "tags": []
   },
   "outputs": [
    {
     "data": {
      "text/plain": [
       "True"
      ]
     },
     "execution_count": 121,
     "metadata": {},
     "output_type": "execute_result"
    }
   ],
   "source": [
    "from qdrant_client.models import Distance, VectorParams\n",
    "\n",
    "client.create_collection(\n",
    "    collection_name=\"diabetes\",\n",
    "    vectors_config=VectorParams(size=768, distance=Distance.COSINE),\n",
    ")"
   ]
  },
  {
   "cell_type": "code",
   "execution_count": 122,
   "id": "07208862-073a-4e93-9811-922a61a1ca4f",
   "metadata": {
    "execution": {
     "iopub.execute_input": "2024-08-20T13:33:46.384179Z",
     "iopub.status.busy": "2024-08-20T13:33:46.383783Z",
     "iopub.status.idle": "2024-08-20T13:33:55.236635Z",
     "shell.execute_reply": "2024-08-20T13:33:55.235796Z",
     "shell.execute_reply.started": "2024-08-20T13:33:46.384153Z"
    },
    "tags": []
   },
   "outputs": [
    {
     "data": {
      "text/plain": [
       "UpdateResult(operation_id=0, status=<UpdateStatus.COMPLETED: 'completed'>)"
      ]
     },
     "execution_count": 122,
     "metadata": {},
     "output_type": "execute_result"
    }
   ],
   "source": [
    "from qdrant_client.http.models import PointStruct\n",
    "\n",
    "\n",
    "\n",
    "# Upsert data in chunks\n",
    "#for chunk in chunk_data(diabetes_data_with_vectors, chunk_size):\n",
    "client.upsert(\n",
    "    collection_name=\"diabetes\",\n",
    "    points=[\n",
    "        PointStruct(\n",
    "            id=idx,\n",
    "            vector=data['qa_text_embeddings'],\n",
    "            payload={\"question\": data['question'], \"answer\": data['answer'], \"rand_number\": idx % 10}\n",
    "        )\n",
    "        for idx, data in enumerate(diabetes_data_with_vectors)\n",
    "    ]\n",
    ")\n"
   ]
  },
  {
   "cell_type": "code",
   "execution_count": 123,
   "id": "b3aa3cb3-e4c7-4aaa-ab98-32be93a2d6a6",
   "metadata": {
    "execution": {
     "iopub.execute_input": "2024-08-20T13:34:05.635208Z",
     "iopub.status.busy": "2024-08-20T13:34:05.634797Z",
     "iopub.status.idle": "2024-08-20T13:34:06.066507Z",
     "shell.execute_reply": "2024-08-20T13:34:06.065835Z",
     "shell.execute_reply.started": "2024-08-20T13:34:05.635180Z"
    },
    "tags": []
   },
   "outputs": [],
   "source": [
    "embedding_model = SentenceTransformer('multi-qa-distilbert-cos-v1')\n"
   ]
  },
  {
   "cell_type": "code",
   "execution_count": 128,
   "id": "dbc8e135-2792-4f14-a52f-90f74e0a041f",
   "metadata": {
    "execution": {
     "iopub.execute_input": "2024-08-20T13:41:48.926497Z",
     "iopub.status.busy": "2024-08-20T13:41:48.925732Z",
     "iopub.status.idle": "2024-08-20T13:41:48.948586Z",
     "shell.execute_reply": "2024-08-20T13:41:48.947914Z",
     "shell.execute_reply.started": "2024-08-20T13:41:48.926452Z"
    },
    "tags": []
   },
   "outputs": [],
   "source": [
    "query_vector = embedding_model.encode('What are the recommended food for a diabetes patients').tolist()"
   ]
  },
  {
   "cell_type": "code",
   "execution_count": 129,
   "id": "0b806248-fc1b-4fc0-9053-45a1536475de",
   "metadata": {
    "execution": {
     "iopub.execute_input": "2024-08-20T13:41:49.388037Z",
     "iopub.status.busy": "2024-08-20T13:41:49.387656Z",
     "iopub.status.idle": "2024-08-20T13:41:49.872989Z",
     "shell.execute_reply": "2024-08-20T13:41:49.872292Z",
     "shell.execute_reply.started": "2024-08-20T13:41:49.388008Z"
    },
    "tags": []
   },
   "outputs": [],
   "source": [
    "hits = client.search(\n",
    "    collection_name=\"diabetes\",\n",
    "    query_vector=query_vector,\n",
    "    limit=5  # Return 5 closest points\n",
    ")"
   ]
  },
  {
   "cell_type": "code",
   "execution_count": 130,
   "id": "f829ee5e-bef0-4482-b397-4d5e84c4612c",
   "metadata": {
    "execution": {
     "iopub.execute_input": "2024-08-20T13:41:50.555967Z",
     "iopub.status.busy": "2024-08-20T13:41:50.555579Z",
     "iopub.status.idle": "2024-08-20T13:41:50.666555Z",
     "shell.execute_reply": "2024-08-20T13:41:50.665859Z",
     "shell.execute_reply.started": "2024-08-20T13:41:50.555938Z"
    },
    "tags": []
   },
   "outputs": [
    {
     "name": "stdout",
     "output_type": "stream",
     "text": [
      "Total number of points in the collection 'diabetes': count=1071\n"
     ]
    }
   ],
   "source": [
    "collection_name = \"diabetes\"\n",
    "count = client.count(collection_name=collection_name)\n",
    "\n",
    "print(f\"Total number of points in the collection '{collection_name}': {count}\")"
   ]
  },
  {
   "cell_type": "code",
   "execution_count": 131,
   "id": "d0058a85-a719-4969-b859-94a107d13fbe",
   "metadata": {
    "execution": {
     "iopub.execute_input": "2024-08-20T13:41:51.615633Z",
     "iopub.status.busy": "2024-08-20T13:41:51.615191Z",
     "iopub.status.idle": "2024-08-20T13:41:51.620012Z",
     "shell.execute_reply": "2024-08-20T13:41:51.619081Z",
     "shell.execute_reply.started": "2024-08-20T13:41:51.615604Z"
    },
    "tags": []
   },
   "outputs": [
    {
     "name": "stdout",
     "output_type": "stream",
     "text": [
      "{'question': 'What types of foods are emphasized in a healthy eating plan for diabetes?', 'answer': 'A healthy eating plan for diabetes emphasizes a variety of foods including breads, cereals, rice, whole grains, fruits, vegetables, meat and meat substitutes, dairy products, and healthy fats.', 'rand_number': 7}\n",
      "{'question': 'Question: Can you list some specific examples of foods rich in healthy fats that are suitable for individuals with diabetes?', 'answer': 'Answer:  Yes, some great examples of healthy fat-rich foods suitable for individuals with diabetes include olive oil, avocados, almonds, walnuts, salmon, tuna, and flaxseeds. These foods provide essential nutrients and support overall well-being.', 'rand_number': 6}\n",
      "{'question': 'What are the key components of a healthy eating plan for diabetes?', 'answer': 'A healthy eating plan for diabetes emphasizes breads, cereals, rice, whole grains, fruits, vegetables, meat and meat substitutes, dairy products, and healthy fats, while focusing on appropriate portion sizes.', 'rand_number': 0}\n",
      "{'question': 'Can you give specific examples of foods rich in healthy fats that are suitable for a diabetic diet?', 'answer': 'Answer: Examples include olive oil for cooking, avocados in salads or as a spread, almonds or walnuts as snacks, and salmon or tuna as a protein source.', 'rand_number': 4}\n",
      "{'question': 'What types of healthy fats are beneficial for people with diabetes?', 'answer': 'Answer: Individuals with diabetes should prioritize monounsaturated fats found in olive oil, avocados, nuts, and seeds. Additionally, polyunsaturated fats from fatty fish, flaxseeds, and walnuts are also beneficial.', 'rand_number': 3}\n"
     ]
    }
   ],
   "source": [
    "for hit in hits:\n",
    "    print(hit.payload)"
   ]
  },
  {
   "cell_type": "code",
   "execution_count": null,
   "id": "14b09016-5359-4b78-a804-926d9bff9ce7",
   "metadata": {},
   "outputs": [],
   "source": []
  }
 ],
 "metadata": {
  "kernelspec": {
   "display_name": "saturn (Python 3)",
   "language": "python",
   "name": "python3"
  },
  "language_info": {
   "codemirror_mode": {
    "name": "ipython",
    "version": 3
   },
   "file_extension": ".py",
   "mimetype": "text/x-python",
   "name": "python",
   "nbconvert_exporter": "python",
   "pygments_lexer": "ipython3",
   "version": "3.10.13"
  }
 },
 "nbformat": 4,
 "nbformat_minor": 5
}
