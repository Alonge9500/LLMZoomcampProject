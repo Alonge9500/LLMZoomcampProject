{
 "cells": [
  {
   "cell_type": "code",
   "execution_count": null,
   "id": "617f7fd1-3f9b-44c1-87db-5b0d80225198",
   "metadata": {
    "tags": []
   },
   "outputs": [],
   "source": [
    "!pip install qdrant-client\n",
    "!pip install sentence_transformers"
   ]
  },
  {
   "cell_type": "code",
   "execution_count": 2,
   "id": "5cc0164e-7014-4d47-b495-0193c9861985",
   "metadata": {
    "execution": {
     "iopub.execute_input": "2024-08-20T16:49:05.291188Z",
     "iopub.status.busy": "2024-08-20T16:49:05.290659Z",
     "iopub.status.idle": "2024-08-20T16:49:08.445970Z",
     "shell.execute_reply": "2024-08-20T16:49:08.445047Z",
     "shell.execute_reply.started": "2024-08-20T16:49:05.291140Z"
    },
    "tags": []
   },
   "outputs": [
    {
     "name": "stdout",
     "output_type": "stream",
     "text": [
      "Collecting python-dotenv\n",
      "  Using cached python_dotenv-1.0.1-py3-none-any.whl.metadata (23 kB)\n",
      "Using cached python_dotenv-1.0.1-py3-none-any.whl (19 kB)\n",
      "Installing collected packages: python-dotenv\n",
      "Successfully installed python-dotenv-1.0.1\n"
     ]
    }
   ],
   "source": [
    "!pip install python-dotenv\n"
   ]
  },
  {
   "cell_type": "code",
   "execution_count": 1,
   "id": "d9764687-6d8b-49fa-8819-2fabd5db6d3a",
   "metadata": {
    "execution": {
     "iopub.execute_input": "2024-08-26T11:52:12.551397Z",
     "iopub.status.busy": "2024-08-26T11:52:12.551121Z",
     "iopub.status.idle": "2024-08-26T11:52:19.310247Z",
     "shell.execute_reply": "2024-08-26T11:52:19.309495Z",
     "shell.execute_reply.started": "2024-08-26T11:52:12.551372Z"
    },
    "tags": []
   },
   "outputs": [
    {
     "name": "stderr",
     "output_type": "stream",
     "text": [
      "/opt/saturncloud/envs/saturn/lib/python3.10/site-packages/sentence_transformers/cross_encoder/CrossEncoder.py:11: TqdmExperimentalWarning: Using `tqdm.autonotebook.tqdm` in notebook mode. Use `tqdm.tqdm` instead to force console mode (e.g. in jupyter console)\n",
      "  from tqdm.autonotebook import tqdm, trange\n",
      "2024-08-26 11:52:16.691743: I tensorflow/core/util/port.cc:153] oneDNN custom operations are on. You may see slightly different numerical results due to floating-point round-off errors from different computation orders. To turn them off, set the environment variable `TF_ENABLE_ONEDNN_OPTS=0`.\n",
      "2024-08-26 11:52:16.707219: E external/local_xla/xla/stream_executor/cuda/cuda_fft.cc:485] Unable to register cuFFT factory: Attempting to register factory for plugin cuFFT when one has already been registered\n",
      "2024-08-26 11:52:16.726630: E external/local_xla/xla/stream_executor/cuda/cuda_dnn.cc:8454] Unable to register cuDNN factory: Attempting to register factory for plugin cuDNN when one has already been registered\n",
      "2024-08-26 11:52:16.732515: E external/local_xla/xla/stream_executor/cuda/cuda_blas.cc:1452] Unable to register cuBLAS factory: Attempting to register factory for plugin cuBLAS when one has already been registered\n",
      "2024-08-26 11:52:16.746855: I tensorflow/core/platform/cpu_feature_guard.cc:210] This TensorFlow binary is optimized to use available CPU instructions in performance-critical operations.\n",
      "To enable the following instructions: AVX2 AVX512F AVX512_VNNI FMA, in other operations, rebuild TensorFlow with the appropriate compiler flags.\n",
      "2024-08-26 11:52:17.851554: W tensorflow/compiler/tf2tensorrt/utils/py_utils.cc:38] TF-TRT Warning: Could not find TensorRT\n"
     ]
    },
    {
     "data": {
      "text/plain": [
       "True"
      ]
     },
     "execution_count": 1,
     "metadata": {},
     "output_type": "execute_result"
    }
   ],
   "source": [
    "from qdrant_client import QdrantClient\n",
    "from qdrant_client.models import PointStruct\n",
    "import json\n",
    "from sentence_transformers import SentenceTransformer\n",
    "import os\n",
    "from dotenv import load_dotenv\n",
    "\n",
    "# Load the .env file\n",
    "load_dotenv()\n",
    "\n"
   ]
  },
  {
   "cell_type": "code",
   "execution_count": 2,
   "id": "4a12e954-f77f-4e7b-910e-a097c7a8a2dd",
   "metadata": {
    "execution": {
     "iopub.execute_input": "2024-08-26T11:52:19.312164Z",
     "iopub.status.busy": "2024-08-26T11:52:19.311685Z",
     "iopub.status.idle": "2024-08-26T11:52:19.670823Z",
     "shell.execute_reply": "2024-08-26T11:52:19.670085Z",
     "shell.execute_reply.started": "2024-08-26T11:52:19.312135Z"
    },
    "tags": []
   },
   "outputs": [],
   "source": [
    "with open('diabetes_data_with_vectors', 'r') as f_in:\n",
    "    diabetes_data_with_vectors = json.load(f_in)"
   ]
  },
  {
   "cell_type": "code",
   "execution_count": 3,
   "id": "f1ec82b4-570e-42b8-910d-bae06b4d6453",
   "metadata": {
    "execution": {
     "iopub.execute_input": "2024-08-26T11:52:19.672753Z",
     "iopub.status.busy": "2024-08-26T11:52:19.672282Z",
     "iopub.status.idle": "2024-08-26T11:52:19.688903Z",
     "shell.execute_reply": "2024-08-26T11:52:19.688153Z",
     "shell.execute_reply.started": "2024-08-26T11:52:19.672710Z"
    },
    "tags": []
   },
   "outputs": [
    {
     "name": "stdout",
     "output_type": "stream",
     "text": [
      "r09oP5L3SaVcMi_MvBC3yBOuRpcYChNeZjzTiEHr5cyoyHiP00CyEw\n"
     ]
    }
   ],
   "source": [
    "api_key = os.getenv('QDRANT_API_KEY')\n",
    "\n",
    "\n",
    "client = QdrantClient(\n",
    "    url=\"https://8999b86c-f8b2-4d60-bdfa-8c68d39daae7.europe-west3-0.gcp.cloud.qdrant.io:6333\", \n",
    "    api_key=api_key,timeout=200\n",
    ")\n",
    "\n",
    "print(api_key)"
   ]
  },
  {
   "cell_type": "code",
   "execution_count": 4,
   "id": "fad83214-cf8d-4ff1-9e9f-b9cec0eff4c0",
   "metadata": {
    "execution": {
     "iopub.execute_input": "2024-08-26T11:52:24.991990Z",
     "iopub.status.busy": "2024-08-26T11:52:24.991594Z",
     "iopub.status.idle": "2024-08-26T11:52:25.394255Z",
     "shell.execute_reply": "2024-08-26T11:52:25.393413Z",
     "shell.execute_reply.started": "2024-08-26T11:52:24.991963Z"
    },
    "tags": []
   },
   "outputs": [
    {
     "data": {
      "text/plain": [
       "True"
      ]
     },
     "execution_count": 4,
     "metadata": {},
     "output_type": "execute_result"
    }
   ],
   "source": [
    "client.delete_collection(\n",
    "    collection_name=\"diabetes\")"
   ]
  },
  {
   "cell_type": "code",
   "execution_count": 5,
   "id": "dfd6d704-e07d-4594-b905-ffc37eed3ec9",
   "metadata": {
    "execution": {
     "iopub.execute_input": "2024-08-26T11:52:25.531820Z",
     "iopub.status.busy": "2024-08-26T11:52:25.531384Z",
     "iopub.status.idle": "2024-08-26T11:52:25.851889Z",
     "shell.execute_reply": "2024-08-26T11:52:25.850996Z",
     "shell.execute_reply.started": "2024-08-26T11:52:25.531791Z"
    },
    "tags": []
   },
   "outputs": [
    {
     "data": {
      "text/plain": [
       "True"
      ]
     },
     "execution_count": 5,
     "metadata": {},
     "output_type": "execute_result"
    }
   ],
   "source": [
    "from qdrant_client.models import Distance, VectorParams\n",
    "\n",
    "client.create_collection(\n",
    "    collection_name=\"diabetes\",\n",
    "    vectors_config=VectorParams(size=768, distance=Distance.COSINE),\n",
    ")"
   ]
  },
  {
   "cell_type": "code",
   "execution_count": 6,
   "id": "07208862-073a-4e93-9811-922a61a1ca4f",
   "metadata": {
    "execution": {
     "iopub.execute_input": "2024-08-26T11:52:26.461064Z",
     "iopub.status.busy": "2024-08-26T11:52:26.460645Z",
     "iopub.status.idle": "2024-08-26T11:52:35.389274Z",
     "shell.execute_reply": "2024-08-26T11:52:35.388508Z",
     "shell.execute_reply.started": "2024-08-26T11:52:26.461037Z"
    },
    "tags": []
   },
   "outputs": [
    {
     "data": {
      "text/plain": [
       "UpdateResult(operation_id=0, status=<UpdateStatus.COMPLETED: 'completed'>)"
      ]
     },
     "execution_count": 6,
     "metadata": {},
     "output_type": "execute_result"
    }
   ],
   "source": [
    "from qdrant_client.http.models import PointStruct\n",
    "\n",
    "\n",
    "\n",
    "# Upsert data in chunks\n",
    "#for chunk in chunk_data(diabetes_data_with_vectors, chunk_size):\n",
    "client.upsert(\n",
    "    collection_name=\"diabetes\",\n",
    "    points=[\n",
    "        PointStruct(\n",
    "            id=idx,\n",
    "            vector=data['qa_text_embeddings'],\n",
    "            payload={\"question\": data['question'], \"answer\": data['answer'], \"rand_number\": idx % 10}\n",
    "        )\n",
    "        for idx, data in enumerate(diabetes_data_with_vectors)\n",
    "    ]\n",
    ")\n"
   ]
  },
  {
   "cell_type": "code",
   "execution_count": 7,
   "id": "b3aa3cb3-e4c7-4aaa-ab98-32be93a2d6a6",
   "metadata": {
    "execution": {
     "iopub.execute_input": "2024-08-26T11:52:35.390932Z",
     "iopub.status.busy": "2024-08-26T11:52:35.390540Z",
     "iopub.status.idle": "2024-08-26T11:52:36.034930Z",
     "shell.execute_reply": "2024-08-26T11:52:36.034273Z",
     "shell.execute_reply.started": "2024-08-26T11:52:35.390890Z"
    },
    "tags": []
   },
   "outputs": [
    {
     "name": "stderr",
     "output_type": "stream",
     "text": [
      "/opt/saturncloud/envs/saturn/lib/python3.10/site-packages/transformers/tokenization_utils_base.py:1601: FutureWarning: `clean_up_tokenization_spaces` was not set. It will be set to `True` by default. This behavior will be depracted in transformers v4.45, and will be then set to `False` by default. For more details check this issue: https://github.com/huggingface/transformers/issues/31884\n",
      "  warnings.warn(\n"
     ]
    }
   ],
   "source": [
    "embedding_model = SentenceTransformer('multi-qa-distilbert-cos-v1')\n"
   ]
  },
  {
   "cell_type": "code",
   "execution_count": 15,
   "id": "dbc8e135-2792-4f14-a52f-90f74e0a041f",
   "metadata": {
    "execution": {
     "iopub.execute_input": "2024-08-26T11:56:43.100541Z",
     "iopub.status.busy": "2024-08-26T11:56:43.100143Z",
     "iopub.status.idle": "2024-08-26T11:56:43.117987Z",
     "shell.execute_reply": "2024-08-26T11:56:43.117409Z",
     "shell.execute_reply.started": "2024-08-26T11:56:43.100512Z"
    },
    "tags": []
   },
   "outputs": [],
   "source": [
    "query_vector = embedding_model.encode('Man utd and chelsea updates').tolist()"
   ]
  },
  {
   "cell_type": "code",
   "execution_count": 16,
   "id": "0b806248-fc1b-4fc0-9053-45a1536475de",
   "metadata": {
    "execution": {
     "iopub.execute_input": "2024-08-26T11:56:44.249441Z",
     "iopub.status.busy": "2024-08-26T11:56:44.249047Z",
     "iopub.status.idle": "2024-08-26T11:56:44.694160Z",
     "shell.execute_reply": "2024-08-26T11:56:44.693472Z",
     "shell.execute_reply.started": "2024-08-26T11:56:44.249412Z"
    },
    "tags": []
   },
   "outputs": [],
   "source": [
    "hits = client.search(\n",
    "    collection_name=\"diabetes\",\n",
    "    query_vector=query_vector,\n",
    "    limit=5  # Return 5 closest points\n",
    ")"
   ]
  },
  {
   "cell_type": "code",
   "execution_count": 17,
   "id": "f829ee5e-bef0-4482-b397-4d5e84c4612c",
   "metadata": {
    "execution": {
     "iopub.execute_input": "2024-08-26T11:56:45.864321Z",
     "iopub.status.busy": "2024-08-26T11:56:45.863927Z",
     "iopub.status.idle": "2024-08-26T11:56:45.973309Z",
     "shell.execute_reply": "2024-08-26T11:56:45.972502Z",
     "shell.execute_reply.started": "2024-08-26T11:56:45.864292Z"
    },
    "tags": []
   },
   "outputs": [
    {
     "name": "stdout",
     "output_type": "stream",
     "text": [
      "Total number of points in the collection 'diabetes': count=1071\n"
     ]
    }
   ],
   "source": [
    "collection_name = \"diabetes\"\n",
    "count = client.count(collection_name=collection_name)\n",
    "\n",
    "print(f\"Total number of points in the collection '{collection_name}': {count}\")"
   ]
  },
  {
   "cell_type": "code",
   "execution_count": 18,
   "id": "d0058a85-a719-4969-b859-94a107d13fbe",
   "metadata": {
    "execution": {
     "iopub.execute_input": "2024-08-26T11:56:47.903922Z",
     "iopub.status.busy": "2024-08-26T11:56:47.903506Z",
     "iopub.status.idle": "2024-08-26T11:56:47.908130Z",
     "shell.execute_reply": "2024-08-26T11:56:47.907273Z",
     "shell.execute_reply.started": "2024-08-26T11:56:47.903891Z"
    },
    "tags": []
   },
   "outputs": [
    {
     "name": "stdout",
     "output_type": "stream",
     "text": [
      "0.14268471\n"
     ]
    }
   ],
   "source": [
    "for hit in hits:\n",
    "    print(hit.score)\n",
    "    break"
   ]
  },
  {
   "cell_type": "code",
   "execution_count": null,
   "id": "14b09016-5359-4b78-a804-926d9bff9ce7",
   "metadata": {},
   "outputs": [],
   "source": []
  }
 ],
 "metadata": {
  "kernelspec": {
   "display_name": "saturn (Python 3)",
   "language": "python",
   "name": "python3"
  },
  "language_info": {
   "codemirror_mode": {
    "name": "ipython",
    "version": 3
   },
   "file_extension": ".py",
   "mimetype": "text/x-python",
   "name": "python",
   "nbconvert_exporter": "python",
   "pygments_lexer": "ipython3",
   "version": "3.10.13"
  }
 },
 "nbformat": 4,
 "nbformat_minor": 5
}
