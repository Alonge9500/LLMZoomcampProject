{
 "cells": [
  {
   "cell_type": "code",
   "execution_count": 1,
   "id": "617f7fd1-3f9b-44c1-87db-5b0d80225198",
   "metadata": {
    "execution": {
     "iopub.execute_input": "2024-08-20T14:20:40.647771Z",
     "iopub.status.busy": "2024-08-20T14:20:40.647420Z",
     "iopub.status.idle": "2024-08-20T14:20:49.721865Z",
     "shell.execute_reply": "2024-08-20T14:20:49.721050Z",
     "shell.execute_reply.started": "2024-08-20T14:20:40.647743Z"
    },
    "tags": []
   },
   "outputs": [
    {
     "name": "stdout",
     "output_type": "stream",
     "text": [
      "Collecting qdrant-client\n",
      "  Using cached qdrant_client-1.11.0-py3-none-any.whl.metadata (10 kB)\n",
      "Requirement already satisfied: grpcio>=1.41.0 in /opt/saturncloud/envs/saturn/lib/python3.10/site-packages (from qdrant-client) (1.59.3)\n",
      "Collecting grpcio-tools>=1.41.0 (from qdrant-client)\n",
      "  Using cached grpcio_tools-1.65.5-cp310-cp310-manylinux_2_17_x86_64.manylinux2014_x86_64.whl.metadata (5.3 kB)\n",
      "Requirement already satisfied: httpx>=0.20.0 in /opt/saturncloud/envs/saturn/lib/python3.10/site-packages (from httpx[http2]>=0.20.0->qdrant-client) (0.26.0)\n",
      "Requirement already satisfied: numpy>=1.21 in /opt/saturncloud/envs/saturn/lib/python3.10/site-packages (from qdrant-client) (1.26.3)\n",
      "Collecting portalocker<3.0.0,>=2.7.0 (from qdrant-client)\n",
      "  Using cached portalocker-2.10.1-py3-none-any.whl.metadata (8.5 kB)\n",
      "Requirement already satisfied: pydantic>=1.10.8 in /opt/saturncloud/envs/saturn/lib/python3.10/site-packages (from qdrant-client) (2.5.3)\n",
      "Requirement already satisfied: urllib3<3,>=1.26.14 in /opt/saturncloud/envs/saturn/lib/python3.10/site-packages (from qdrant-client) (1.26.18)\n",
      "Collecting protobuf<6.0dev,>=5.26.1 (from grpcio-tools>=1.41.0->qdrant-client)\n",
      "  Using cached protobuf-5.27.3-cp38-abi3-manylinux2014_x86_64.whl.metadata (592 bytes)\n",
      "Collecting grpcio>=1.41.0 (from qdrant-client)\n",
      "  Using cached grpcio-1.65.5-cp310-cp310-manylinux_2_17_x86_64.manylinux2014_x86_64.whl.metadata (3.3 kB)\n",
      "Requirement already satisfied: setuptools in /opt/saturncloud/envs/saturn/lib/python3.10/site-packages (from grpcio-tools>=1.41.0->qdrant-client) (69.0.3)\n",
      "Requirement already satisfied: anyio in /opt/saturncloud/envs/saturn/lib/python3.10/site-packages (from httpx>=0.20.0->httpx[http2]>=0.20.0->qdrant-client) (3.7.1)\n",
      "Requirement already satisfied: certifi in /opt/saturncloud/envs/saturn/lib/python3.10/site-packages (from httpx>=0.20.0->httpx[http2]>=0.20.0->qdrant-client) (2023.11.17)\n",
      "Requirement already satisfied: httpcore==1.* in /opt/saturncloud/envs/saturn/lib/python3.10/site-packages (from httpx>=0.20.0->httpx[http2]>=0.20.0->qdrant-client) (1.0.2)\n",
      "Requirement already satisfied: idna in /opt/saturncloud/envs/saturn/lib/python3.10/site-packages (from httpx>=0.20.0->httpx[http2]>=0.20.0->qdrant-client) (3.6)\n",
      "Requirement already satisfied: sniffio in /opt/saturncloud/envs/saturn/lib/python3.10/site-packages (from httpx>=0.20.0->httpx[http2]>=0.20.0->qdrant-client) (1.3.0)\n",
      "Requirement already satisfied: h11<0.15,>=0.13 in /opt/saturncloud/envs/saturn/lib/python3.10/site-packages (from httpcore==1.*->httpx>=0.20.0->httpx[http2]>=0.20.0->qdrant-client) (0.14.0)\n",
      "Requirement already satisfied: h2<5,>=3 in /opt/saturncloud/envs/saturn/lib/python3.10/site-packages (from httpx[http2]>=0.20.0->qdrant-client) (4.1.0)\n",
      "Requirement already satisfied: annotated-types>=0.4.0 in /opt/saturncloud/envs/saturn/lib/python3.10/site-packages (from pydantic>=1.10.8->qdrant-client) (0.6.0)\n",
      "Requirement already satisfied: pydantic-core==2.14.6 in /opt/saturncloud/envs/saturn/lib/python3.10/site-packages (from pydantic>=1.10.8->qdrant-client) (2.14.6)\n",
      "Requirement already satisfied: typing-extensions>=4.6.1 in /opt/saturncloud/envs/saturn/lib/python3.10/site-packages (from pydantic>=1.10.8->qdrant-client) (4.9.0)\n",
      "Requirement already satisfied: hyperframe<7,>=6.0 in /opt/saturncloud/envs/saturn/lib/python3.10/site-packages (from h2<5,>=3->httpx[http2]>=0.20.0->qdrant-client) (6.0.1)\n",
      "Requirement already satisfied: hpack<5,>=4.0 in /opt/saturncloud/envs/saturn/lib/python3.10/site-packages (from h2<5,>=3->httpx[http2]>=0.20.0->qdrant-client) (4.0.0)\n",
      "Requirement already satisfied: exceptiongroup in /opt/saturncloud/envs/saturn/lib/python3.10/site-packages (from anyio->httpx>=0.20.0->httpx[http2]>=0.20.0->qdrant-client) (1.2.0)\n",
      "Using cached qdrant_client-1.11.0-py3-none-any.whl (258 kB)\n",
      "Using cached grpcio_tools-1.65.5-cp310-cp310-manylinux_2_17_x86_64.manylinux2014_x86_64.whl (2.3 MB)\n",
      "Using cached grpcio-1.65.5-cp310-cp310-manylinux_2_17_x86_64.manylinux2014_x86_64.whl (5.7 MB)\n",
      "Using cached portalocker-2.10.1-py3-none-any.whl (18 kB)\n",
      "Using cached protobuf-5.27.3-cp38-abi3-manylinux2014_x86_64.whl (309 kB)\n",
      "Installing collected packages: protobuf, portalocker, grpcio, grpcio-tools, qdrant-client\n",
      "  Attempting uninstall: protobuf\n",
      "    Found existing installation: protobuf 4.24.4\n",
      "    Uninstalling protobuf-4.24.4:\n",
      "      Successfully uninstalled protobuf-4.24.4\n",
      "  Attempting uninstall: grpcio\n",
      "    Found existing installation: grpcio 1.59.3\n",
      "    Uninstalling grpcio-1.59.3:\n",
      "      Successfully uninstalled grpcio-1.59.3\n",
      "Successfully installed grpcio-1.65.5 grpcio-tools-1.65.5 portalocker-2.10.1 protobuf-5.27.3 qdrant-client-1.11.0\n",
      "Collecting sentence_transformers\n",
      "  Using cached sentence_transformers-3.0.1-py3-none-any.whl.metadata (10 kB)\n",
      "Requirement already satisfied: transformers<5.0.0,>=4.34.0 in /opt/saturncloud/envs/saturn/lib/python3.10/site-packages (from sentence_transformers) (4.44.0)\n",
      "Requirement already satisfied: tqdm in /opt/saturncloud/envs/saturn/lib/python3.10/site-packages (from sentence_transformers) (4.66.1)\n",
      "Requirement already satisfied: torch>=1.11.0 in /opt/saturncloud/envs/saturn/lib/python3.10/site-packages (from sentence_transformers) (2.1.0)\n",
      "Requirement already satisfied: numpy in /opt/saturncloud/envs/saturn/lib/python3.10/site-packages (from sentence_transformers) (1.26.3)\n",
      "Requirement already satisfied: scikit-learn in /opt/saturncloud/envs/saturn/lib/python3.10/site-packages (from sentence_transformers) (1.4.0)\n",
      "Requirement already satisfied: scipy in /opt/saturncloud/envs/saturn/lib/python3.10/site-packages (from sentence_transformers) (1.12.0)\n",
      "Requirement already satisfied: huggingface-hub>=0.15.1 in /opt/saturncloud/envs/saturn/lib/python3.10/site-packages (from sentence_transformers) (0.24.6)\n",
      "Requirement already satisfied: Pillow in /opt/saturncloud/envs/saturn/lib/python3.10/site-packages (from sentence_transformers) (10.2.0)\n",
      "Requirement already satisfied: filelock in /opt/saturncloud/envs/saturn/lib/python3.10/site-packages (from huggingface-hub>=0.15.1->sentence_transformers) (3.13.1)\n",
      "Requirement already satisfied: fsspec>=2023.5.0 in /opt/saturncloud/envs/saturn/lib/python3.10/site-packages (from huggingface-hub>=0.15.1->sentence_transformers) (2023.12.2)\n",
      "Requirement already satisfied: packaging>=20.9 in /opt/saturncloud/envs/saturn/lib/python3.10/site-packages (from huggingface-hub>=0.15.1->sentence_transformers) (23.2)\n",
      "Requirement already satisfied: pyyaml>=5.1 in /opt/saturncloud/envs/saturn/lib/python3.10/site-packages (from huggingface-hub>=0.15.1->sentence_transformers) (6.0.1)\n",
      "Requirement already satisfied: requests in /opt/saturncloud/envs/saturn/lib/python3.10/site-packages (from huggingface-hub>=0.15.1->sentence_transformers) (2.31.0)\n",
      "Requirement already satisfied: typing-extensions>=3.7.4.3 in /opt/saturncloud/envs/saturn/lib/python3.10/site-packages (from huggingface-hub>=0.15.1->sentence_transformers) (4.9.0)\n",
      "Requirement already satisfied: sympy in /opt/saturncloud/envs/saturn/lib/python3.10/site-packages (from torch>=1.11.0->sentence_transformers) (1.12)\n",
      "Requirement already satisfied: networkx in /opt/saturncloud/envs/saturn/lib/python3.10/site-packages (from torch>=1.11.0->sentence_transformers) (3.2.1)\n",
      "Requirement already satisfied: jinja2 in /opt/saturncloud/envs/saturn/lib/python3.10/site-packages (from torch>=1.11.0->sentence_transformers) (3.1.3)\n",
      "Requirement already satisfied: regex!=2019.12.17 in /opt/saturncloud/envs/saturn/lib/python3.10/site-packages (from transformers<5.0.0,>=4.34.0->sentence_transformers) (2023.12.25)\n",
      "Requirement already satisfied: safetensors>=0.4.1 in /opt/saturncloud/envs/saturn/lib/python3.10/site-packages (from transformers<5.0.0,>=4.34.0->sentence_transformers) (0.4.4)\n",
      "Requirement already satisfied: tokenizers<0.20,>=0.19 in /opt/saturncloud/envs/saturn/lib/python3.10/site-packages (from transformers<5.0.0,>=4.34.0->sentence_transformers) (0.19.1)\n",
      "Requirement already satisfied: joblib>=1.2.0 in /opt/saturncloud/envs/saturn/lib/python3.10/site-packages (from scikit-learn->sentence_transformers) (1.3.2)\n",
      "Requirement already satisfied: threadpoolctl>=2.0.0 in /opt/saturncloud/envs/saturn/lib/python3.10/site-packages (from scikit-learn->sentence_transformers) (3.2.0)\n",
      "Requirement already satisfied: MarkupSafe>=2.0 in /opt/saturncloud/envs/saturn/lib/python3.10/site-packages (from jinja2->torch>=1.11.0->sentence_transformers) (2.1.4)\n",
      "Requirement already satisfied: charset-normalizer<4,>=2 in /opt/saturncloud/envs/saturn/lib/python3.10/site-packages (from requests->huggingface-hub>=0.15.1->sentence_transformers) (2.0.12)\n",
      "Requirement already satisfied: idna<4,>=2.5 in /opt/saturncloud/envs/saturn/lib/python3.10/site-packages (from requests->huggingface-hub>=0.15.1->sentence_transformers) (3.6)\n",
      "Requirement already satisfied: urllib3<3,>=1.21.1 in /opt/saturncloud/envs/saturn/lib/python3.10/site-packages (from requests->huggingface-hub>=0.15.1->sentence_transformers) (1.26.18)\n",
      "Requirement already satisfied: certifi>=2017.4.17 in /opt/saturncloud/envs/saturn/lib/python3.10/site-packages (from requests->huggingface-hub>=0.15.1->sentence_transformers) (2023.11.17)\n",
      "Requirement already satisfied: mpmath>=0.19 in /opt/saturncloud/envs/saturn/lib/python3.10/site-packages (from sympy->torch>=1.11.0->sentence_transformers) (1.3.0)\n",
      "Using cached sentence_transformers-3.0.1-py3-none-any.whl (227 kB)\n",
      "Installing collected packages: sentence_transformers\n",
      "Successfully installed sentence_transformers-3.0.1\n"
     ]
    }
   ],
   "source": [
    "!pip install qdrant-client\n",
    "!pip install sentence_transformers"
   ]
  },
  {
   "cell_type": "code",
   "execution_count": 2,
   "id": "5cc0164e-7014-4d47-b495-0193c9861985",
   "metadata": {
    "execution": {
     "iopub.execute_input": "2024-08-20T14:20:49.723627Z",
     "iopub.status.busy": "2024-08-20T14:20:49.723299Z",
     "iopub.status.idle": "2024-08-20T14:20:52.674527Z",
     "shell.execute_reply": "2024-08-20T14:20:52.673759Z",
     "shell.execute_reply.started": "2024-08-20T14:20:49.723601Z"
    },
    "tags": []
   },
   "outputs": [
    {
     "name": "stdout",
     "output_type": "stream",
     "text": [
      "Collecting python-dotenv\n",
      "  Using cached python_dotenv-1.0.1-py3-none-any.whl.metadata (23 kB)\n",
      "Using cached python_dotenv-1.0.1-py3-none-any.whl (19 kB)\n",
      "Installing collected packages: python-dotenv\n",
      "Successfully installed python-dotenv-1.0.1\n"
     ]
    }
   ],
   "source": [
    "!pip install python-dotenv\n"
   ]
  },
  {
   "cell_type": "code",
   "execution_count": 106,
   "id": "d9764687-6d8b-49fa-8819-2fabd5db6d3a",
   "metadata": {
    "execution": {
     "iopub.execute_input": "2024-08-20T13:04:42.691015Z",
     "iopub.status.busy": "2024-08-20T13:04:42.690588Z",
     "iopub.status.idle": "2024-08-20T13:04:42.702954Z",
     "shell.execute_reply": "2024-08-20T13:04:42.702287Z",
     "shell.execute_reply.started": "2024-08-20T13:04:42.690982Z"
    },
    "tags": []
   },
   "outputs": [
    {
     "data": {
      "text/plain": [
       "True"
      ]
     },
     "execution_count": 106,
     "metadata": {},
     "output_type": "execute_result"
    }
   ],
   "source": [
    "from qdrant_client import QdrantClient\n",
    "from qdrant_client.models import PointStruct\n",
    "import json\n",
    "from sentence_transformers import SentenceTransformer\n",
    "import os\n",
    "from dotenv import load_dotenv\n",
    "\n",
    "# Load the .env file\n",
    "load_dotenv()\n",
    "\n"
   ]
  },
  {
   "cell_type": "code",
   "execution_count": 97,
   "id": "4a12e954-f77f-4e7b-910e-a097c7a8a2dd",
   "metadata": {
    "execution": {
     "iopub.execute_input": "2024-08-20T13:01:13.304650Z",
     "iopub.status.busy": "2024-08-20T13:01:13.304256Z",
     "iopub.status.idle": "2024-08-20T13:01:13.659948Z",
     "shell.execute_reply": "2024-08-20T13:01:13.659289Z",
     "shell.execute_reply.started": "2024-08-20T13:01:13.304619Z"
    },
    "tags": []
   },
   "outputs": [],
   "source": [
    "with open('diabetes_data_with_vectors', 'r') as f_in:\n",
    "    diabetes_data_with_vectors = json.load(f_in)"
   ]
  },
  {
   "cell_type": "code",
   "execution_count": 119,
   "id": "f1ec82b4-570e-42b8-910d-bae06b4d6453",
   "metadata": {
    "execution": {
     "iopub.execute_input": "2024-08-20T13:32:57.276071Z",
     "iopub.status.busy": "2024-08-20T13:32:57.275661Z",
     "iopub.status.idle": "2024-08-20T13:32:57.668079Z",
     "shell.execute_reply": "2024-08-20T13:32:57.667291Z",
     "shell.execute_reply.started": "2024-08-20T13:32:57.276041Z"
    },
    "tags": []
   },
   "outputs": [
    {
     "name": "stdout",
     "output_type": "stream",
     "text": [
      "collections=[CollectionDescription(name='diabetes')]\n"
     ]
    }
   ],
   "source": [
    "api_key = os.getenv('QDRANT_API_KEY')\n",
    "\n",
    "\n",
    "client = QdrantClient(\n",
    "    url=\"https://8999b86c-f8b2-4d60-bdfa-8c68d39daae7.europe-west3-0.gcp.cloud.qdrant.io:6333\", \n",
    "    api_key=api_key,timeout=200\n",
    ")\n",
    "\n",
    "print(qdrant_client.get_collections())"
   ]
  },
  {
   "cell_type": "code",
   "execution_count": 120,
   "id": "fad83214-cf8d-4ff1-9e9f-b9cec0eff4c0",
   "metadata": {
    "execution": {
     "iopub.execute_input": "2024-08-20T13:33:01.156068Z",
     "iopub.status.busy": "2024-08-20T13:33:01.155670Z",
     "iopub.status.idle": "2024-08-20T13:33:01.501147Z",
     "shell.execute_reply": "2024-08-20T13:33:01.500360Z",
     "shell.execute_reply.started": "2024-08-20T13:33:01.156039Z"
    },
    "tags": []
   },
   "outputs": [
    {
     "data": {
      "text/plain": [
       "True"
      ]
     },
     "execution_count": 120,
     "metadata": {},
     "output_type": "execute_result"
    }
   ],
   "source": [
    "client.delete_collection(\n",
    "    collection_name=\"diabetes\")"
   ]
  },
  {
   "cell_type": "code",
   "execution_count": 121,
   "id": "dfd6d704-e07d-4594-b905-ffc37eed3ec9",
   "metadata": {
    "execution": {
     "iopub.execute_input": "2024-08-20T13:33:03.451597Z",
     "iopub.status.busy": "2024-08-20T13:33:03.451154Z",
     "iopub.status.idle": "2024-08-20T13:33:03.731729Z",
     "shell.execute_reply": "2024-08-20T13:33:03.730897Z",
     "shell.execute_reply.started": "2024-08-20T13:33:03.451569Z"
    },
    "tags": []
   },
   "outputs": [
    {
     "data": {
      "text/plain": [
       "True"
      ]
     },
     "execution_count": 121,
     "metadata": {},
     "output_type": "execute_result"
    }
   ],
   "source": [
    "from qdrant_client.models import Distance, VectorParams\n",
    "\n",
    "client.create_collection(\n",
    "    collection_name=\"diabetes\",\n",
    "    vectors_config=VectorParams(size=768, distance=Distance.COSINE),\n",
    ")"
   ]
  },
  {
   "cell_type": "code",
   "execution_count": 122,
   "id": "07208862-073a-4e93-9811-922a61a1ca4f",
   "metadata": {
    "execution": {
     "iopub.execute_input": "2024-08-20T13:33:46.384179Z",
     "iopub.status.busy": "2024-08-20T13:33:46.383783Z",
     "iopub.status.idle": "2024-08-20T13:33:55.236635Z",
     "shell.execute_reply": "2024-08-20T13:33:55.235796Z",
     "shell.execute_reply.started": "2024-08-20T13:33:46.384153Z"
    },
    "tags": []
   },
   "outputs": [
    {
     "data": {
      "text/plain": [
       "UpdateResult(operation_id=0, status=<UpdateStatus.COMPLETED: 'completed'>)"
      ]
     },
     "execution_count": 122,
     "metadata": {},
     "output_type": "execute_result"
    }
   ],
   "source": [
    "from qdrant_client.http.models import PointStruct\n",
    "\n",
    "\n",
    "\n",
    "# Upsert data in chunks\n",
    "#for chunk in chunk_data(diabetes_data_with_vectors, chunk_size):\n",
    "client.upsert(\n",
    "    collection_name=\"diabetes\",\n",
    "    points=[\n",
    "        PointStruct(\n",
    "            id=idx,\n",
    "            vector=data['qa_text_embeddings'],\n",
    "            payload={\"question\": data['question'], \"answer\": data['answer'], \"rand_number\": idx % 10}\n",
    "        )\n",
    "        for idx, data in enumerate(diabetes_data_with_vectors)\n",
    "    ]\n",
    ")\n"
   ]
  },
  {
   "cell_type": "code",
   "execution_count": 123,
   "id": "b3aa3cb3-e4c7-4aaa-ab98-32be93a2d6a6",
   "metadata": {
    "execution": {
     "iopub.execute_input": "2024-08-20T13:34:05.635208Z",
     "iopub.status.busy": "2024-08-20T13:34:05.634797Z",
     "iopub.status.idle": "2024-08-20T13:34:06.066507Z",
     "shell.execute_reply": "2024-08-20T13:34:06.065835Z",
     "shell.execute_reply.started": "2024-08-20T13:34:05.635180Z"
    },
    "tags": []
   },
   "outputs": [],
   "source": [
    "embedding_model = SentenceTransformer('multi-qa-distilbert-cos-v1')\n"
   ]
  },
  {
   "cell_type": "code",
   "execution_count": 128,
   "id": "dbc8e135-2792-4f14-a52f-90f74e0a041f",
   "metadata": {
    "execution": {
     "iopub.execute_input": "2024-08-20T13:41:48.926497Z",
     "iopub.status.busy": "2024-08-20T13:41:48.925732Z",
     "iopub.status.idle": "2024-08-20T13:41:48.948586Z",
     "shell.execute_reply": "2024-08-20T13:41:48.947914Z",
     "shell.execute_reply.started": "2024-08-20T13:41:48.926452Z"
    },
    "tags": []
   },
   "outputs": [],
   "source": [
    "query_vector = embedding_model.encode('What are the recommended food for a diabetes patients').tolist()"
   ]
  },
  {
   "cell_type": "code",
   "execution_count": 129,
   "id": "0b806248-fc1b-4fc0-9053-45a1536475de",
   "metadata": {
    "execution": {
     "iopub.execute_input": "2024-08-20T13:41:49.388037Z",
     "iopub.status.busy": "2024-08-20T13:41:49.387656Z",
     "iopub.status.idle": "2024-08-20T13:41:49.872989Z",
     "shell.execute_reply": "2024-08-20T13:41:49.872292Z",
     "shell.execute_reply.started": "2024-08-20T13:41:49.388008Z"
    },
    "tags": []
   },
   "outputs": [],
   "source": [
    "hits = client.search(\n",
    "    collection_name=\"diabetes\",\n",
    "    query_vector=query_vector,\n",
    "    limit=5  # Return 5 closest points\n",
    ")"
   ]
  },
  {
   "cell_type": "code",
   "execution_count": 130,
   "id": "f829ee5e-bef0-4482-b397-4d5e84c4612c",
   "metadata": {
    "execution": {
     "iopub.execute_input": "2024-08-20T13:41:50.555967Z",
     "iopub.status.busy": "2024-08-20T13:41:50.555579Z",
     "iopub.status.idle": "2024-08-20T13:41:50.666555Z",
     "shell.execute_reply": "2024-08-20T13:41:50.665859Z",
     "shell.execute_reply.started": "2024-08-20T13:41:50.555938Z"
    },
    "tags": []
   },
   "outputs": [
    {
     "name": "stdout",
     "output_type": "stream",
     "text": [
      "Total number of points in the collection 'diabetes': count=1071\n"
     ]
    }
   ],
   "source": [
    "collection_name = \"diabetes\"\n",
    "count = client.count(collection_name=collection_name)\n",
    "\n",
    "print(f\"Total number of points in the collection '{collection_name}': {count}\")"
   ]
  },
  {
   "cell_type": "code",
   "execution_count": 131,
   "id": "d0058a85-a719-4969-b859-94a107d13fbe",
   "metadata": {
    "execution": {
     "iopub.execute_input": "2024-08-20T13:41:51.615633Z",
     "iopub.status.busy": "2024-08-20T13:41:51.615191Z",
     "iopub.status.idle": "2024-08-20T13:41:51.620012Z",
     "shell.execute_reply": "2024-08-20T13:41:51.619081Z",
     "shell.execute_reply.started": "2024-08-20T13:41:51.615604Z"
    },
    "tags": []
   },
   "outputs": [
    {
     "name": "stdout",
     "output_type": "stream",
     "text": [
      "{'question': 'What types of foods are emphasized in a healthy eating plan for diabetes?', 'answer': 'A healthy eating plan for diabetes emphasizes a variety of foods including breads, cereals, rice, whole grains, fruits, vegetables, meat and meat substitutes, dairy products, and healthy fats.', 'rand_number': 7}\n",
      "{'question': 'Question: Can you list some specific examples of foods rich in healthy fats that are suitable for individuals with diabetes?', 'answer': 'Answer:  Yes, some great examples of healthy fat-rich foods suitable for individuals with diabetes include olive oil, avocados, almonds, walnuts, salmon, tuna, and flaxseeds. These foods provide essential nutrients and support overall well-being.', 'rand_number': 6}\n",
      "{'question': 'What are the key components of a healthy eating plan for diabetes?', 'answer': 'A healthy eating plan for diabetes emphasizes breads, cereals, rice, whole grains, fruits, vegetables, meat and meat substitutes, dairy products, and healthy fats, while focusing on appropriate portion sizes.', 'rand_number': 0}\n",
      "{'question': 'Can you give specific examples of foods rich in healthy fats that are suitable for a diabetic diet?', 'answer': 'Answer: Examples include olive oil for cooking, avocados in salads or as a spread, almonds or walnuts as snacks, and salmon or tuna as a protein source.', 'rand_number': 4}\n",
      "{'question': 'What types of healthy fats are beneficial for people with diabetes?', 'answer': 'Answer: Individuals with diabetes should prioritize monounsaturated fats found in olive oil, avocados, nuts, and seeds. Additionally, polyunsaturated fats from fatty fish, flaxseeds, and walnuts are also beneficial.', 'rand_number': 3}\n"
     ]
    }
   ],
   "source": [
    "for hit in hits:\n",
    "    print(hit.payload)"
   ]
  },
  {
   "cell_type": "code",
   "execution_count": null,
   "id": "14b09016-5359-4b78-a804-926d9bff9ce7",
   "metadata": {},
   "outputs": [],
   "source": []
  }
 ],
 "metadata": {
  "kernelspec": {
   "display_name": "saturn (Python 3)",
   "language": "python",
   "name": "python3"
  },
  "language_info": {
   "codemirror_mode": {
    "name": "ipython",
    "version": 3
   },
   "file_extension": ".py",
   "mimetype": "text/x-python",
   "name": "python",
   "nbconvert_exporter": "python",
   "pygments_lexer": "ipython3",
   "version": "3.10.13"
  }
 },
 "nbformat": 4,
 "nbformat_minor": 5
}
