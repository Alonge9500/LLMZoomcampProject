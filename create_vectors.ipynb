{
 "cells": [
  {
   "cell_type": "code",
   "execution_count": 14,
   "id": "2e644b3d-a4e6-4b7c-a027-94f309008d3c",
   "metadata": {
    "execution": {
     "iopub.execute_input": "2024-07-30T09:32:35.430493Z",
     "iopub.status.busy": "2024-07-30T09:32:35.430071Z",
     "iopub.status.idle": "2024-07-30T09:32:35.434038Z",
     "shell.execute_reply": "2024-07-30T09:32:35.433351Z",
     "shell.execute_reply.started": "2024-07-30T09:32:35.430462Z"
    },
    "tags": []
   },
   "outputs": [],
   "source": [
    "#Load Packages\n",
    "import json\n",
    "from sentence_transformers import SentenceTransformer\n",
    "from tqdm.auto import tqdm\n"
   ]
  },
  {
   "cell_type": "code",
   "execution_count": 29,
   "id": "1cacacea-f014-4fcf-98ec-eaf6621e4ad3",
   "metadata": {
    "execution": {
     "iopub.execute_input": "2024-07-30T09:48:18.944168Z",
     "iopub.status.busy": "2024-07-30T09:48:18.943745Z",
     "iopub.status.idle": "2024-07-30T09:48:18.951486Z",
     "shell.execute_reply": "2024-07-30T09:48:18.950771Z",
     "shell.execute_reply.started": "2024-07-30T09:48:18.944135Z"
    },
    "tags": []
   },
   "outputs": [],
   "source": [
    "#Load Data\n",
    "with open('diabetes_data_with_ids', 'r') as file:\n",
    "    diabetes_data_with_ids = json.load(file)"
   ]
  },
  {
   "cell_type": "markdown",
   "id": "9a57d609-17ac-4040-b52f-a4583c1c7485",
   "metadata": {
    "execution": {
     "iopub.execute_input": "2024-07-30T09:26:54.654744Z",
     "iopub.status.busy": "2024-07-30T09:26:54.654331Z",
     "iopub.status.idle": "2024-07-30T09:26:54.752975Z",
     "shell.execute_reply": "2024-07-30T09:26:54.752180Z",
     "shell.execute_reply.started": "2024-07-30T09:26:54.654710Z"
    },
    "tags": []
   },
   "source": [
    "## Creating Vectors\n",
    "* Create vectors using the question and answers\n",
    "* Use the multi-qa-distilbert-cos-v1 model in sentence transformers\n",
    "* Store the vectors as a json file along with the questions and answers with id\n",
    "* Save The file"
   ]
  },
  {
   "cell_type": "code",
   "execution_count": 30,
   "id": "6537da0a-6f36-4dd6-8eac-e747cf358652",
   "metadata": {
    "execution": {
     "iopub.execute_input": "2024-07-30T09:48:20.265117Z",
     "iopub.status.busy": "2024-07-30T09:48:20.264718Z",
     "iopub.status.idle": "2024-07-30T09:48:20.788341Z",
     "shell.execute_reply": "2024-07-30T09:48:20.787584Z",
     "shell.execute_reply.started": "2024-07-30T09:48:20.265088Z"
    },
    "tags": []
   },
   "outputs": [],
   "source": [
    "# Create Model Eembeddings\n",
    "embedding_model = SentenceTransformer('multi-qa-distilbert-cos-v1')\n"
   ]
  },
  {
   "cell_type": "code",
   "execution_count": 31,
   "id": "f1e595d6-8e20-48ba-be8f-056ce038f473",
   "metadata": {
    "execution": {
     "iopub.execute_input": "2024-07-30T09:48:34.265073Z",
     "iopub.status.busy": "2024-07-30T09:48:34.264656Z",
     "iopub.status.idle": "2024-07-30T09:48:41.604640Z",
     "shell.execute_reply": "2024-07-30T09:48:41.603486Z",
     "shell.execute_reply.started": "2024-07-30T09:48:34.265041Z"
    },
    "tags": []
   },
   "outputs": [
    {
     "data": {
      "application/vnd.jupyter.widget-view+json": {
       "model_id": "c1b9de9c58884d489ddd28008b2a2efb",
       "version_major": 2,
       "version_minor": 0
      },
      "text/plain": [
       "  0%|          | 0/1071 [00:00<?, ?it/s]"
      ]
     },
     "metadata": {},
     "output_type": "display_data"
    }
   ],
   "source": [
    "for doc in tqdm(diabetes_data_with_ids):\n",
    "    question = doc['question']\n",
    "    answer = doc['answer']\n",
    "\n",
    "    qa_text = f'{question} {answer}'\n",
    "    doc['qa_text_embeddings'] = embedding_model.encode(qa_text).tolist()\n",
    "\n"
   ]
  },
  {
   "cell_type": "code",
   "execution_count": 32,
   "id": "3b61b836-338d-457e-aab1-63786166482b",
   "metadata": {
    "execution": {
     "iopub.execute_input": "2024-07-30T09:48:43.460398Z",
     "iopub.status.busy": "2024-07-30T09:48:43.459998Z",
     "iopub.status.idle": "2024-07-30T09:48:44.592887Z",
     "shell.execute_reply": "2024-07-30T09:48:44.592217Z",
     "shell.execute_reply.started": "2024-07-30T09:48:43.460370Z"
    },
    "tags": []
   },
   "outputs": [],
   "source": [
    "## Save the data with Vectors\n",
    "\n",
    "with open('diabetes_data_with_vectors', 'wt') as f_out:\n",
    "    json.dump(diabetes_data_with_ids, f_out, indent=2)"
   ]
  },
  {
   "cell_type": "code",
   "execution_count": null,
   "id": "b127b72a-84dd-48a6-bdd8-ef6266916c43",
   "metadata": {},
   "outputs": [],
   "source": []
  }
 ],
 "metadata": {
  "kernelspec": {
   "display_name": "saturn (Python 3)",
   "language": "python",
   "name": "python3"
  },
  "language_info": {
   "codemirror_mode": {
    "name": "ipython",
    "version": 3
   },
   "file_extension": ".py",
   "mimetype": "text/x-python",
   "name": "python",
   "nbconvert_exporter": "python",
   "pygments_lexer": "ipython3",
   "version": "3.10.13"
  }
 },
 "nbformat": 4,
 "nbformat_minor": 5
}
