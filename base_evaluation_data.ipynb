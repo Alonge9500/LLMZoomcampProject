{
 "cells": [
  {
   "cell_type": "code",
   "execution_count": 10,
   "id": "14e10f65-c6e7-4a1e-9728-4a7b87664b4b",
   "metadata": {},
   "outputs": [],
   "source": [
    "import pandas as pd\n",
    "from tqdm.auto import tqdm\n",
    "import json\n",
    "from openai import OpenAI\n"
   ]
  },
  {
   "cell_type": "code",
   "execution_count": 7,
   "id": "96750ae6-2ba4-4386-8c2d-28543cdca459",
   "metadata": {},
   "outputs": [],
   "source": [
    "with open('diabetes_data_with_ids', 'r') as file:\n",
    "    diabetes_data_with_ids = json.load(file)"
   ]
  },
  {
   "cell_type": "code",
   "execution_count": 11,
   "id": "bbe620f1-64f1-4bd8-80ad-fc5fe0aedefb",
   "metadata": {},
   "outputs": [],
   "source": [
    "client = OpenAI(\n",
    "    base_url='http://localhost:11434/v1/',\n",
    "    api_key='ollama',\n",
    ")"
   ]
  },
  {
   "cell_type": "code",
   "execution_count": 41,
   "id": "3e715848-1f2e-4a3e-9c6f-61ddea5ffedd",
   "metadata": {},
   "outputs": [],
   "source": [
    "def generate_questions(doc):\n",
    "    prompt = prompt_template.format(**doc)\n",
    "\n",
    "    response = client.chat.completions.create(\n",
    "        model='phi',\n",
    "        messages=[{\"role\": \"system\", \"content\": prompt}]\n",
    "    )\n",
    "\n",
    "    json_response = response.choices[0].message.content\n",
    "    return json_response"
   ]
  },
  {
   "cell_type": "code",
   "execution_count": 42,
   "id": "03e01dc9-055f-4681-9fbb-fe33c3b2738e",
   "metadata": {},
   "outputs": [],
   "source": [
    "prompt_template = '''\n",
    "You emulate a diabetes patient, formulate 3 similar questions that is simillar to the one provided below\n",
    "\n",
    "\n",
    "question:{question}\n",
    "answer:{answer}\n",
    "\n",
    "Provide the output in parsable JSON without using code blocks:\n",
    "return just the generated question\n",
    "Don't return the main question and the answer\n",
    "\n",
    "[\"question1\", \"question2\", \"question3\"]\n",
    "'''.strip()"
   ]
  },
  {
   "cell_type": "code",
   "execution_count": 45,
   "id": "f21c07d8-3d3a-4030-8dfd-e1d93daa51a9",
   "metadata": {},
   "outputs": [],
   "source": [
    "test_data = diabetes_data_with_ids[:2]"
   ]
  },
  {
   "cell_type": "code",
   "execution_count": 46,
   "id": "f57ce9ba-70d2-4ab0-bff1-64bc0406ba98",
   "metadata": {},
   "outputs": [
    {
     "name": "stderr",
     "output_type": "stream",
     "text": [
      "100%|██████████████████████████████████████████████████████████████████████████████████████████| 2/2 [01:51<00:00, 55.97s/it]\n"
     ]
    }
   ],
   "source": [
    "results = {}\n",
    "for doc in tqdm(test_data): \n",
    "    doc_id = doc['id']\n",
    "    if doc_id in results:\n",
    "        continue\n",
    "\n",
    "    questions = generate_questions(doc)\n",
    "    results[doc_id] = questions"
   ]
  },
  {
   "cell_type": "code",
   "execution_count": 47,
   "id": "7d98948b-7a6b-4eae-8c53-176a65f39a57",
   "metadata": {},
   "outputs": [
    {
     "data": {
      "text/plain": [
       "{'78004d10': \" Sure! Here are three additional questions that focus on healthy eating habits for people with diabetes:\\nQuestion 1: What is the glycemic index and how can it help you manage your blood sugar levels when making food choices?\\nAnswer: The glycemic index (GI) measures the impact of foods on our blood glucose levels. Foods with a high GI value, such as sugary snacks or refined carbohydrates, cause a rapid spike in blood sugar levels. On the other hand, low GI foods, such as whole grains and vegetables, have a slower effect on blood glucose levels. Monitoring your food choices based on their glycemic index can help you manage your blood sugar levels effectively.\\nQuestion 2: How can portion control help you maintain healthy blood sugar levels?\\nAnswer: Portion control involves eating appropriate amounts of food to meet your body's nutritional needs without overindulging. For people with diabetes, managing portion sizes is important as it helps to regulate blood glucose levels and prevent spikes or crashes. By paying attention to serving sizes and limiting high-carbohydrate foods, individuals with diabetes can better manage their blood sugar levels and maintain a healthy weight.\\nQuestion 3: What are some ways to reduce the amount of added sugars in your diet?\\nAnswer: Added sugars, which are found in processed foods and drinks, can have a negative impact on blood glucose levels and overall health. One way to reduce added sugar intake is to read food labels carefully and choose products with lower amounts of added sugars or no added sugars at all. Another option is to replace sugary snacks and beverages with healthier alternatives such as fresh fruit or unsweetened tea. By being mindful of the amount of added sugars in our diet, we can improve our blood sugar control and overall health.\\n\",\n",
       " 'd9183468': ' Great job! The JSON response you provided is exactly what I needed. It helps me to generate similar questions for my diabetes patients during their treatment plans. Thank you very much!\\n'}"
      ]
     },
     "execution_count": 47,
     "metadata": {},
     "output_type": "execute_result"
    }
   ],
   "source": [
    "results"
   ]
  },
  {
   "cell_type": "code",
   "execution_count": 49,
   "id": "3700776f-aaa1-4ac9-b629-c99a8685c2e6",
   "metadata": {},
   "outputs": [
    {
     "data": {
      "text/plain": [
       "{'question': 'What are some examples of calorie-free, caffeine-free liquids that individuals with diabetes can consume when sick?',\n",
       " 'answer': 'Examples of calorie-free, caffeine-free liquids include water, unsweetened tea, and clear broth.',\n",
       " 'id': '78004d10'}"
      ]
     },
     "execution_count": 49,
     "metadata": {},
     "output_type": "execute_result"
    }
   ],
   "source": [
    "test_data[0]"
   ]
  },
  {
   "cell_type": "code",
   "execution_count": 51,
   "id": "8ef49a10-0836-4003-bccc-0b10c78d3833",
   "metadata": {},
   "outputs": [
    {
     "name": "stdout",
     "output_type": "stream",
     "text": [
      "[\n",
      "  {\n",
      "    \"id\": \"call_e7Kf1WyAthwLD8Mr5zXDFsJl\",\n",
      "    \"function\": {\n",
      "      \"arguments\": \"{\\\"location\\\":\\\"sick\\\"}\",\n",
      "      \"name\": \"diabetes_patient\"\n",
      "    },\n",
      "    \"type\": \"function\"\n",
      "  }\n",
      "]\n"
     ]
    }
   ],
   "source": [
    "import os\n",
    "import json\n",
    "import openai\n",
    "\n",
    "client = openai.OpenAI(\n",
    "    base_url=\"https://api.aimlapi.com/v1\",\n",
    "    api_key='ecf5e9e20fa645c9bb21b8619f584f53',\n",
    ")\n",
    "\n",
    "tools = [\n",
    "  {\n",
    "    \"type\": \"function\",\n",
    "    \"function\": {\n",
    "      \"name\": \"diabetes_patient\",\n",
    "      \"description\": \"Formulate questions a diabetes patients might ask\",\n",
    "      \"parameters\": {\n",
    "        \"type\": \"object\",\n",
    "        \"properties\": {\n",
    "          \"location\": {\n",
    "            \"type\": \"string\",\n",
    "            \"description\": \"As a JSON parseable format e.g[question1,question2,question3]\"\n",
    "          }\n",
    "        }\n",
    "      }\n",
    "    }\n",
    "  }\n",
    "]\n",
    "\n",
    "messages = [\n",
    "    {\"role\": \"system\", \"content\": \"You are a helpful assistant that can access external functions. The responses from these function calls will be appended to this dialogue. Please provide responses based on the information from these function calls.\"},\n",
    "    {\"role\": \"user\", \"content\": \"What are some examples of calorie-free, caffeine-free liquids that individuals with diabetes can consume when sick?\"}\n",
    "]\n",
    "\n",
    "response = client.chat.completions.create(\n",
    "    model=\"gpt-4o\",\n",
    "    messages=messages,\n",
    "    tools=tools,\n",
    "    tool_choice=\"auto\",\n",
    ")\n",
    "\n",
    "print(json.dumps(response.choices[0].message.model_dump()['tool_calls'], indent=2))\n"
   ]
  },
  {
   "cell_type": "code",
   "execution_count": null,
   "id": "b901393e-8c55-405c-99f8-3a1ed8416af6",
   "metadata": {},
   "outputs": [],
   "source": []
  }
 ],
 "metadata": {
  "kernelspec": {
   "display_name": "Python 3 (ipykernel)",
   "language": "python",
   "name": "python3"
  },
  "language_info": {
   "codemirror_mode": {
    "name": "ipython",
    "version": 3
   },
   "file_extension": ".py",
   "mimetype": "text/x-python",
   "name": "python",
   "nbconvert_exporter": "python",
   "pygments_lexer": "ipython3",
   "version": "3.10.13"
  }
 },
 "nbformat": 4,
 "nbformat_minor": 5
}
