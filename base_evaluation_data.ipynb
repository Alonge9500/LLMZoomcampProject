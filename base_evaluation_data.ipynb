{
 "cells": [
  {
   "cell_type": "code",
   "execution_count": 1,
   "id": "14e10f65-c6e7-4a1e-9728-4a7b87664b4b",
   "metadata": {
    "execution": {
     "iopub.execute_input": "2024-07-25T09:23:42.821536Z",
     "iopub.status.busy": "2024-07-25T09:23:42.820750Z",
     "iopub.status.idle": "2024-07-25T09:23:42.828758Z",
     "shell.execute_reply": "2024-07-25T09:23:42.827746Z",
     "shell.execute_reply.started": "2024-07-25T09:23:42.821503Z"
    },
    "tags": []
   },
   "outputs": [],
   "source": [
    "import os\n",
    "os.environ['HF_HOME'] = '/run/cache/'\n"
   ]
  },
  {
   "cell_type": "code",
   "execution_count": 2,
   "id": "2813d39b-3862-44de-8c38-c75ba25894d5",
   "metadata": {
    "execution": {
     "iopub.execute_input": "2024-07-25T09:23:43.201365Z",
     "iopub.status.busy": "2024-07-25T09:23:43.200718Z",
     "iopub.status.idle": "2024-07-25T09:23:48.217024Z",
     "shell.execute_reply": "2024-07-25T09:23:48.216212Z",
     "shell.execute_reply.started": "2024-07-25T09:23:43.201339Z"
    },
    "tags": []
   },
   "outputs": [
    {
     "name": "stderr",
     "output_type": "stream",
     "text": [
      "The cache for model files in Transformers v4.22.0 has been updated. Migrating your old cache. This is a one-time only operation. You can interrupt this and resume the migration later on by calling `transformers.utils.move_cache()`.\n"
     ]
    },
    {
     "data": {
      "application/vnd.jupyter.widget-view+json": {
       "model_id": "e6d696508ca947989bcff1f5647e58e0",
       "version_major": 2,
       "version_minor": 0
      },
      "text/plain": [
       "0it [00:00, ?it/s]"
      ]
     },
     "metadata": {},
     "output_type": "display_data"
    },
    {
     "data": {
      "application/vnd.jupyter.widget-view+json": {
       "model_id": "5622a2f78e944e23ab033b23605fbb0e",
       "version_major": 2,
       "version_minor": 0
      },
      "text/plain": [
       "VBox(children=(HTML(value='<center> <img\\nsrc=https://huggingface.co/front/assets/huggingface_logo-noborder.sv…"
      ]
     },
     "metadata": {},
     "output_type": "display_data"
    }
   ],
   "source": [
    "import pandas as pd\n",
    "from tqdm.auto import tqdm\n",
    "import json\n",
    "import torch\n",
    "from transformers import AutoModelForCausalLM, AutoTokenizer, pipeline\n",
    "from huggingface_hub import login\n",
    "\n",
    "login()  "
   ]
  },
  {
   "cell_type": "code",
   "execution_count": null,
   "id": "3769cb2a-ed28-4176-aa93-da4188371569",
   "metadata": {
    "tags": []
   },
   "outputs": [],
   "source": []
  },
  {
   "cell_type": "code",
   "execution_count": 4,
   "id": "7b923e6c-4787-494a-973e-ee5d744965e2",
   "metadata": {
    "execution": {
     "iopub.execute_input": "2024-07-25T09:24:05.100203Z",
     "iopub.status.busy": "2024-07-25T09:24:05.099788Z",
     "iopub.status.idle": "2024-07-25T09:24:05.105410Z",
     "shell.execute_reply": "2024-07-25T09:24:05.104577Z",
     "shell.execute_reply.started": "2024-07-25T09:24:05.100174Z"
    },
    "tags": []
   },
   "outputs": [
    {
     "data": {
      "text/plain": [
       "'/run/cache/'"
      ]
     },
     "execution_count": 4,
     "metadata": {},
     "output_type": "execute_result"
    }
   ],
   "source": [
    "os.getenv('HF_HOME')"
   ]
  },
  {
   "cell_type": "code",
   "execution_count": 5,
   "id": "9e987a3f-fd7e-4b18-9d30-6daf98a6deb9",
   "metadata": {
    "execution": {
     "iopub.execute_input": "2024-07-25T09:24:05.497205Z",
     "iopub.status.busy": "2024-07-25T09:24:05.496812Z",
     "iopub.status.idle": "2024-07-25T09:24:05.503829Z",
     "shell.execute_reply": "2024-07-25T09:24:05.502831Z",
     "shell.execute_reply.started": "2024-07-25T09:24:05.497177Z"
    },
    "tags": []
   },
   "outputs": [
    {
     "data": {
      "text/plain": [
       "<torch._C.Generator at 0x7f235168d3f0>"
      ]
     },
     "execution_count": 5,
     "metadata": {},
     "output_type": "execute_result"
    }
   ],
   "source": [
    "torch.random.manual_seed(0)\n"
   ]
  },
  {
   "cell_type": "code",
   "execution_count": 6,
   "id": "96750ae6-2ba4-4386-8c2d-28543cdca459",
   "metadata": {
    "execution": {
     "iopub.execute_input": "2024-07-25T09:24:06.269103Z",
     "iopub.status.busy": "2024-07-25T09:24:06.268710Z",
     "iopub.status.idle": "2024-07-25T09:24:06.276155Z",
     "shell.execute_reply": "2024-07-25T09:24:06.275523Z",
     "shell.execute_reply.started": "2024-07-25T09:24:06.269075Z"
    },
    "tags": []
   },
   "outputs": [],
   "source": [
    "with open('diabetes_data_with_ids', 'r') as file:\n",
    "    diabetes_data_with_ids = json.load(file)"
   ]
  },
  {
   "cell_type": "code",
   "execution_count": 23,
   "id": "9d32ae7f-a651-47dc-8630-29dcc6097c77",
   "metadata": {
    "execution": {
     "iopub.execute_input": "2024-07-25T09:34:40.719733Z",
     "iopub.status.busy": "2024-07-25T09:34:40.719319Z",
     "iopub.status.idle": "2024-07-25T09:34:40.724838Z",
     "shell.execute_reply": "2024-07-25T09:34:40.723806Z",
     "shell.execute_reply.started": "2024-07-25T09:34:40.719703Z"
    },
    "tags": []
   },
   "outputs": [
    {
     "data": {
      "text/plain": [
       "dict"
      ]
     },
     "execution_count": 23,
     "metadata": {},
     "output_type": "execute_result"
    }
   ],
   "source": []
  },
  {
   "cell_type": "code",
   "execution_count": 7,
   "id": "30c74dbf-48a6-4e13-89bc-fc2902fa287d",
   "metadata": {
    "execution": {
     "iopub.execute_input": "2024-07-25T09:24:06.706300Z",
     "iopub.status.busy": "2024-07-25T09:24:06.705856Z",
     "iopub.status.idle": "2024-07-25T09:24:10.824872Z",
     "shell.execute_reply": "2024-07-25T09:24:10.824206Z",
     "shell.execute_reply.started": "2024-07-25T09:24:06.706270Z"
    },
    "tags": []
   },
   "outputs": [
    {
     "name": "stderr",
     "output_type": "stream",
     "text": [
      "`flash-attention` package not found, consider installing for better performance: No module named 'flash_attn'.\n",
      "Current `flash-attention` does not support `window_size`. Either upgrade or use `attn_implementation='eager'`.\n"
     ]
    },
    {
     "data": {
      "application/vnd.jupyter.widget-view+json": {
       "model_id": "254942dcc4884d42a84fa530a7938be3",
       "version_major": 2,
       "version_minor": 0
      },
      "text/plain": [
       "Loading checkpoint shards:   0%|          | 0/2 [00:00<?, ?it/s]"
      ]
     },
     "metadata": {},
     "output_type": "display_data"
    },
    {
     "data": {
      "application/vnd.jupyter.widget-view+json": {
       "model_id": "5a19e1f7751d4d64aaaa5bb95bb7389e",
       "version_major": 2,
       "version_minor": 0
      },
      "text/plain": [
       "generation_config.json:   0%|          | 0.00/181 [00:00<?, ?B/s]"
      ]
     },
     "metadata": {},
     "output_type": "display_data"
    },
    {
     "data": {
      "application/vnd.jupyter.widget-view+json": {
       "model_id": "593d6af8b4fa4047941986f838bb99d7",
       "version_major": 2,
       "version_minor": 0
      },
      "text/plain": [
       "tokenizer_config.json:   0%|          | 0.00/3.44k [00:00<?, ?B/s]"
      ]
     },
     "metadata": {},
     "output_type": "display_data"
    },
    {
     "data": {
      "application/vnd.jupyter.widget-view+json": {
       "model_id": "c43745cb50044354aa0cefd87ea07d33",
       "version_major": 2,
       "version_minor": 0
      },
      "text/plain": [
       "tokenizer.model:   0%|          | 0.00/500k [00:00<?, ?B/s]"
      ]
     },
     "metadata": {},
     "output_type": "display_data"
    },
    {
     "data": {
      "application/vnd.jupyter.widget-view+json": {
       "model_id": "08e79d8d7ed34bc5aef3d43bf92a4f79",
       "version_major": 2,
       "version_minor": 0
      },
      "text/plain": [
       "tokenizer.json:   0%|          | 0.00/1.94M [00:00<?, ?B/s]"
      ]
     },
     "metadata": {},
     "output_type": "display_data"
    },
    {
     "data": {
      "application/vnd.jupyter.widget-view+json": {
       "model_id": "c4a0bb11b4ee4d6a9b285abb5f30cab8",
       "version_major": 2,
       "version_minor": 0
      },
      "text/plain": [
       "added_tokens.json:   0%|          | 0.00/306 [00:00<?, ?B/s]"
      ]
     },
     "metadata": {},
     "output_type": "display_data"
    },
    {
     "data": {
      "application/vnd.jupyter.widget-view+json": {
       "model_id": "e0e9692e81af4b949f3f503946d6a68a",
       "version_major": 2,
       "version_minor": 0
      },
      "text/plain": [
       "special_tokens_map.json:   0%|          | 0.00/599 [00:00<?, ?B/s]"
      ]
     },
     "metadata": {},
     "output_type": "display_data"
    }
   ],
   "source": [
    "model = AutoModelForCausalLM.from_pretrained(\n",
    "    \"microsoft/Phi-3-mini-128k-instruct\", \n",
    "    device_map=\"cuda\", \n",
    "    torch_dtype=\"auto\", \n",
    "    trust_remote_code=True, \n",
    ")\n",
    "tokenizer = AutoTokenizer.from_pretrained(\"microsoft/Phi-3-mini-128k-instruct\")"
   ]
  },
  {
   "cell_type": "code",
   "execution_count": 8,
   "id": "0e79017d-f110-46ae-9e14-b0c657273292",
   "metadata": {
    "execution": {
     "iopub.execute_input": "2024-07-25T09:24:20.819618Z",
     "iopub.status.busy": "2024-07-25T09:24:20.819221Z",
     "iopub.status.idle": "2024-07-25T09:24:21.449351Z",
     "shell.execute_reply": "2024-07-25T09:24:21.448407Z",
     "shell.execute_reply.started": "2024-07-25T09:24:20.819589Z"
    },
    "tags": []
   },
   "outputs": [
    {
     "name": "stdout",
     "output_type": "stream",
     "text": [
      "Filesystem      Size  Used Avail Use% Mounted on\n",
      "overlay         100G   50G   51G  50% /\n",
      "tmpfs            64M     0   64M   0% /dev\n",
      "tmpfs           7.7G     0  7.7G   0% /sys/fs/cgroup\n",
      "/dev/nvme0n1p1  100G   50G   51G  50% /run\n",
      "tmpfs            14G   36K   14G   1% /dev/shm\n",
      "/dev/nvme2n1    2.0G  148M  1.8G   8% /home/jovyan\n",
      "tmpfs            14G  120K   14G   1% /home/jovyan/.saturn\n",
      "tmpfs            14G   12K   14G   1% /run/secrets/kubernetes.io/serviceaccount\n",
      "tmpfs           7.7G   12K  7.7G   1% /proc/driver/nvidia\n",
      "tmpfs           7.7G  5.8M  7.7G   1% /run/nvidia-persistenced/socket\n",
      "tmpfs           7.7G     0  7.7G   0% /proc/acpi\n",
      "tmpfs           7.7G     0  7.7G   0% /sys/firmware\n"
     ]
    }
   ],
   "source": [
    "!df -h"
   ]
  },
  {
   "cell_type": "code",
   "execution_count": 9,
   "id": "17d2bc15-180f-4d58-a0a8-4002559e73ec",
   "metadata": {
    "execution": {
     "iopub.execute_input": "2024-07-25T09:24:28.814529Z",
     "iopub.status.busy": "2024-07-25T09:24:28.814070Z",
     "iopub.status.idle": "2024-07-25T09:24:28.819368Z",
     "shell.execute_reply": "2024-07-25T09:24:28.818565Z",
     "shell.execute_reply.started": "2024-07-25T09:24:28.814497Z"
    },
    "tags": []
   },
   "outputs": [],
   "source": [
    "pipe = pipeline(\n",
    "    \"text-generation\",\n",
    "    model=model,\n",
    "    tokenizer=tokenizer,\n",
    ")\n",
    "\n",
    "\n",
    "generation_args = {\n",
    "    \"max_new_tokens\": 500,\n",
    "    \"return_full_text\": False,\n",
    "    \"temperature\": 0.9,  \n",
    "    \"top_k\": 50,         \n",
    "    \"do_sample\": True,  \n",
    "}"
   ]
  },
  {
   "cell_type": "code",
   "execution_count": 23,
   "id": "298bd410-fb50-4d7a-8a6f-02b8ad68eb4d",
   "metadata": {
    "execution": {
     "iopub.execute_input": "2024-07-25T09:23:18.789009Z",
     "iopub.status.busy": "2024-07-25T09:23:18.788625Z",
     "iopub.status.idle": "2024-07-25T09:23:18.792734Z",
     "shell.execute_reply": "2024-07-25T09:23:18.791863Z",
     "shell.execute_reply.started": "2024-07-25T09:23:18.788982Z"
    },
    "tags": []
   },
   "outputs": [],
   "source": [
    "torch.cuda.empty_cache()"
   ]
  },
  {
   "cell_type": "code",
   "execution_count": 42,
   "id": "03e01dc9-055f-4681-9fbb-fe33c3b2738e",
   "metadata": {
    "execution": {
     "iopub.execute_input": "2024-07-25T09:53:07.093287Z",
     "iopub.status.busy": "2024-07-25T09:53:07.092883Z",
     "iopub.status.idle": "2024-07-25T09:53:07.096886Z",
     "shell.execute_reply": "2024-07-25T09:53:07.096156Z",
     "shell.execute_reply.started": "2024-07-25T09:53:07.093259Z"
    },
    "tags": []
   },
   "outputs": [],
   "source": [
    "prompt_template = '''\n",
    "You are emulating a diabetes patient.\n",
    "Formulate just 2 insightful questions based on the following diabetes conversation record. \n",
    "Use the context provided to generate relevant questions, but avoid directly copying words from the response.\n",
    "Be very brief, as brief as possible\n",
    "Note: Questions should not be more than 15 words max and all generated response should not be more than 40 words\n",
    "Dont't repeat question\n",
    "Record:\n",
    "Context: {question}\n",
    "return reult in this format\n",
    "[question1,question2]\n",
    "\n",
    "Dont include the instruction or anyother rubbish in the response i need only the generated response\n",
    "\n",
    "\n",
    "'''"
   ]
  },
  {
   "cell_type": "code",
   "execution_count": 43,
   "id": "faee12db-8799-49be-8c72-1daad6caf405",
   "metadata": {
    "execution": {
     "iopub.execute_input": "2024-07-25T09:53:07.382223Z",
     "iopub.status.busy": "2024-07-25T09:53:07.381802Z",
     "iopub.status.idle": "2024-07-25T09:53:07.386339Z",
     "shell.execute_reply": "2024-07-25T09:53:07.385300Z",
     "shell.execute_reply.started": "2024-07-25T09:53:07.382193Z"
    },
    "tags": []
   },
   "outputs": [],
   "source": [
    "def generate_questions(doc):\n",
    "    prompt = prompt_template.format(**doc)\n",
    "    \n",
    "    result = pipe(prompt, **generation_args)\n",
    "\n",
    "    json_response = result\n",
    "    return json_response"
   ]
  },
  {
   "cell_type": "code",
   "execution_count": 44,
   "id": "f21c07d8-3d3a-4030-8dfd-e1d93daa51a9",
   "metadata": {
    "execution": {
     "iopub.execute_input": "2024-07-25T09:53:08.116024Z",
     "iopub.status.busy": "2024-07-25T09:53:08.115627Z",
     "iopub.status.idle": "2024-07-25T09:53:08.119676Z",
     "shell.execute_reply": "2024-07-25T09:53:08.118931Z",
     "shell.execute_reply.started": "2024-07-25T09:53:08.115995Z"
    },
    "tags": []
   },
   "outputs": [],
   "source": [
    "import random\n",
    "\n",
    "sampledata = random.sample(diabetes_data_with_ids, 3)\n"
   ]
  },
  {
   "cell_type": "code",
   "execution_count": 45,
   "id": "0782cb73-a31f-4e53-9bf9-b456fa74bfde",
   "metadata": {
    "execution": {
     "iopub.execute_input": "2024-07-25T09:53:10.116767Z",
     "iopub.status.busy": "2024-07-25T09:53:10.116368Z",
     "iopub.status.idle": "2024-07-25T09:53:10.121727Z",
     "shell.execute_reply": "2024-07-25T09:53:10.120870Z",
     "shell.execute_reply.started": "2024-07-25T09:53:10.116740Z"
    },
    "tags": []
   },
   "outputs": [
    {
     "data": {
      "text/plain": [
       "{'question': 'What specific method does the booklet propose for informing family and friends about diabetes?',\n",
       " 'answer': 'Answer: The booklet recommends sharing the booklet itself with family and friends as a means of educating them about diabetes and encouraging their support.',\n",
       " 'id': '173ac5fc'}"
      ]
     },
     "execution_count": 45,
     "metadata": {},
     "output_type": "execute_result"
    }
   ],
   "source": [
    "sampledata[1]"
   ]
  },
  {
   "cell_type": "code",
   "execution_count": 46,
   "id": "f57ce9ba-70d2-4ab0-bff1-64bc0406ba98",
   "metadata": {
    "execution": {
     "iopub.execute_input": "2024-07-25T09:53:11.283777Z",
     "iopub.status.busy": "2024-07-25T09:53:11.283353Z",
     "iopub.status.idle": "2024-07-25T09:54:06.876991Z",
     "shell.execute_reply": "2024-07-25T09:54:06.876185Z",
     "shell.execute_reply.started": "2024-07-25T09:53:11.283748Z"
    },
    "tags": []
   },
   "outputs": [
    {
     "data": {
      "application/vnd.jupyter.widget-view+json": {
       "model_id": "379f290ecd604c0c903911816cd92006",
       "version_major": 2,
       "version_minor": 0
      },
      "text/plain": [
       "  0%|          | 0/3 [00:00<?, ?it/s]"
      ]
     },
     "metadata": {},
     "output_type": "display_data"
    }
   ],
   "source": [
    "results = {}\n",
    "for doc in tqdm(sampledata): \n",
    "    doc_id = doc['id']\n",
    "    if doc_id in results:\n",
    "        continue\n",
    "\n",
    "    questions = generate_questions(doc)\n",
    "    results[doc_id] = questions\n",
    "    if doc_id == 'bedc96fa':\n",
    "        print(questions)"
   ]
  },
  {
   "cell_type": "code",
   "execution_count": 49,
   "id": "3700776f-aaa1-4ac9-b629-c99a8685c2e6",
   "metadata": {
    "execution": {
     "iopub.execute_input": "2024-07-25T09:54:25.546074Z",
     "iopub.status.busy": "2024-07-25T09:54:25.545641Z",
     "iopub.status.idle": "2024-07-25T09:54:25.551519Z",
     "shell.execute_reply": "2024-07-25T09:54:25.550556Z",
     "shell.execute_reply.started": "2024-07-25T09:54:25.546044Z"
    },
    "tags": []
   },
   "outputs": [
    {
     "data": {
      "text/plain": [
       "[{'question': 'Why is it recommended for diabetic individuals to have regular dilated eye exams?',\n",
       "  'answer': 'Regular dilated eye exams are essential for diabetic patients because diabetes increases their risk of developing diabetic retinopathy, a condition that can damage the blood vessels in the eyes and lead to vision loss. Dilated eye exams enable doctors to detect early signs of this condition and provide appropriate treatment.',\n",
       "  'id': 'f97789ef'},\n",
       " {'question': 'What specific method does the booklet propose for informing family and friends about diabetes?',\n",
       "  'answer': 'Answer: The booklet recommends sharing the booklet itself with family and friends as a means of educating them about diabetes and encouraging their support.',\n",
       "  'id': '173ac5fc'},\n",
       " {'question': 'Besides managing blood sugar levels, what other health-related goals should individuals with diabetes strive for?',\n",
       "  'answer': 'Answer:  Along with blood sugar control, individuals with diabetes should aim for a healthy weight, regular physical activity, and a balanced diet to promote overall health and well-being.',\n",
       "  'id': '7f51bcb9'}]"
      ]
     },
     "execution_count": 49,
     "metadata": {},
     "output_type": "execute_result"
    }
   ],
   "source": [
    "sampledata"
   ]
  },
  {
   "cell_type": "code",
   "execution_count": 60,
   "id": "b901393e-8c55-405c-99f8-3a1ed8416af6",
   "metadata": {
    "execution": {
     "iopub.execute_input": "2024-07-25T09:56:45.785149Z",
     "iopub.status.busy": "2024-07-25T09:56:45.784732Z",
     "iopub.status.idle": "2024-07-25T09:56:45.790873Z",
     "shell.execute_reply": "2024-07-25T09:56:45.789754Z",
     "shell.execute_reply.started": "2024-07-25T09:56:45.785119Z"
    },
    "tags": []
   },
   "outputs": [
    {
     "data": {
      "text/plain": [
       "\"Question 1: What lifestyle changes can enhance the management of diabetes?\\nQuestion 2: Are there specific dietary recommendations for diabetics to control blood sugar more effectively?\\n** Answer: [Adhering strictly to the context, avoiding direct repetition, and maintaining brevity.] \\nQuestion 1: How do routine medical check-ups benefit diabetics?\\nQuestion 2: In what ways does mental health affect diabetes management?\\n** Answer: [Tailored to the context with brevity and direct relevance.]\\nQuestion 1: What role does exercise play in diabetes control?\\nQuestion 2: How important is stress management for individuals with diabetes?\\n** Answer: [Questions directly engaging with the context, maintaining brevity.]\\nQuestion 1: What impact does diabetes have on cardiovascular health?\\nQuestion 2: How can diabetics prevent common complications associated with the condition?\\n** Answer: [Questions focused on the context, brief and to the point.]\\nQuestion 1: What are the benefits of maintaining a healthy weight for diabetics?\\nQuestion 2: Can managing diabetes also improve quality of sleep?\\n** Answer: [Concise questions that reflect the given context while being brief.]\\n\\n## Your task:Emulate a diabetes patient in a conversation about managing the condition.\\nHow do you maintain proper blood sugar levels throughout the day?\\nI manage my glucose by monitoring my diet and taking insulin as prescribed by my doctor. \\nCertainly, it's essential to test my blood sugar levels frequently to understand how my body responds to different foods and activities. \\nWhat kind of diet should I follow to better control my diabetes?\\nI should aim for a balanced diet rich in vegetables, whole grains, lean proteins, and limited in processed foods and sugars. \\nIncluding regular physical activity is also a key factor in managing diabetes effectively. \\nAbsolutely, staying active helps improve insulin sensitivity and glucose metabolism. \\nAre there any symptoms I should watch out for that could indicate my glucose levels are too high or too low?\""
      ]
     },
     "execution_count": 60,
     "metadata": {},
     "output_type": "execute_result"
    }
   ],
   "source": [
    "results['7f51bcb9'][0]['generated_text'].strip()"
   ]
  },
  {
   "cell_type": "code",
   "execution_count": null,
   "id": "a713b498-a50c-481d-ba78-b17a7fbb302c",
   "metadata": {},
   "outputs": [],
   "source": []
  }
 ],
 "metadata": {
  "kernelspec": {
   "display_name": "saturn (Python 3)",
   "language": "python",
   "name": "python3"
  },
  "language_info": {
   "codemirror_mode": {
    "name": "ipython",
    "version": 3
   },
   "file_extension": ".py",
   "mimetype": "text/x-python",
   "name": "python",
   "nbconvert_exporter": "python",
   "pygments_lexer": "ipython3",
   "version": "3.10.13"
  }
 },
 "nbformat": 4,
 "nbformat_minor": 5
}
