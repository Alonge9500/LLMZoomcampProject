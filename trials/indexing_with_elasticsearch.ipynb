{
 "cells": [
  {
   "cell_type": "code",
   "execution_count": 4,
   "id": "f6589999-692c-4591-9d7a-57e639862d03",
   "metadata": {
    "execution": {
     "iopub.execute_input": "2024-08-09T10:29:47.713841Z",
     "iopub.status.busy": "2024-08-09T10:29:47.713438Z",
     "iopub.status.idle": "2024-08-09T10:29:51.601010Z",
     "shell.execute_reply": "2024-08-09T10:29:51.600164Z",
     "shell.execute_reply.started": "2024-08-09T10:29:47.713809Z"
    },
    "tags": []
   },
   "outputs": [
    {
     "name": "stdout",
     "output_type": "stream",
     "text": [
      "Collecting elasticsearch\n",
      "  Using cached elasticsearch-8.14.0-py3-none-any.whl.metadata (7.2 kB)\n",
      "Collecting sentence_transformers\n",
      "  Using cached sentence_transformers-3.0.1-py3-none-any.whl.metadata (10 kB)\n",
      "Requirement already satisfied: tqdm in /opt/saturncloud/envs/saturn/lib/python3.10/site-packages (4.66.1)\n",
      "Collecting elastic-transport<9,>=8.13 (from elasticsearch)\n",
      "  Using cached elastic_transport-8.13.1-py3-none-any.whl.metadata (3.7 kB)\n",
      "Requirement already satisfied: transformers<5.0.0,>=4.34.0 in /opt/saturncloud/envs/saturn/lib/python3.10/site-packages (from sentence_transformers) (4.44.0)\n",
      "Requirement already satisfied: torch>=1.11.0 in /opt/saturncloud/envs/saturn/lib/python3.10/site-packages (from sentence_transformers) (2.1.0)\n",
      "Requirement already satisfied: numpy in /opt/saturncloud/envs/saturn/lib/python3.10/site-packages (from sentence_transformers) (1.26.3)\n",
      "Requirement already satisfied: scikit-learn in /opt/saturncloud/envs/saturn/lib/python3.10/site-packages (from sentence_transformers) (1.4.0)\n",
      "Requirement already satisfied: scipy in /opt/saturncloud/envs/saturn/lib/python3.10/site-packages (from sentence_transformers) (1.12.0)\n",
      "Requirement already satisfied: huggingface-hub>=0.15.1 in /opt/saturncloud/envs/saturn/lib/python3.10/site-packages (from sentence_transformers) (0.24.5)\n",
      "Requirement already satisfied: Pillow in /opt/saturncloud/envs/saturn/lib/python3.10/site-packages (from sentence_transformers) (10.2.0)\n",
      "Requirement already satisfied: urllib3<3,>=1.26.2 in /opt/saturncloud/envs/saturn/lib/python3.10/site-packages (from elastic-transport<9,>=8.13->elasticsearch) (1.26.18)\n",
      "Requirement already satisfied: certifi in /opt/saturncloud/envs/saturn/lib/python3.10/site-packages (from elastic-transport<9,>=8.13->elasticsearch) (2023.11.17)\n",
      "Requirement already satisfied: filelock in /opt/saturncloud/envs/saturn/lib/python3.10/site-packages (from huggingface-hub>=0.15.1->sentence_transformers) (3.13.1)\n",
      "Requirement already satisfied: fsspec>=2023.5.0 in /opt/saturncloud/envs/saturn/lib/python3.10/site-packages (from huggingface-hub>=0.15.1->sentence_transformers) (2023.12.2)\n",
      "Requirement already satisfied: packaging>=20.9 in /opt/saturncloud/envs/saturn/lib/python3.10/site-packages (from huggingface-hub>=0.15.1->sentence_transformers) (23.2)\n",
      "Requirement already satisfied: pyyaml>=5.1 in /opt/saturncloud/envs/saturn/lib/python3.10/site-packages (from huggingface-hub>=0.15.1->sentence_transformers) (6.0.1)\n",
      "Requirement already satisfied: requests in /opt/saturncloud/envs/saturn/lib/python3.10/site-packages (from huggingface-hub>=0.15.1->sentence_transformers) (2.31.0)\n",
      "Requirement already satisfied: typing-extensions>=3.7.4.3 in /opt/saturncloud/envs/saturn/lib/python3.10/site-packages (from huggingface-hub>=0.15.1->sentence_transformers) (4.9.0)\n",
      "Requirement already satisfied: sympy in /opt/saturncloud/envs/saturn/lib/python3.10/site-packages (from torch>=1.11.0->sentence_transformers) (1.12)\n",
      "Requirement already satisfied: networkx in /opt/saturncloud/envs/saturn/lib/python3.10/site-packages (from torch>=1.11.0->sentence_transformers) (3.2.1)\n",
      "Requirement already satisfied: jinja2 in /opt/saturncloud/envs/saturn/lib/python3.10/site-packages (from torch>=1.11.0->sentence_transformers) (3.1.3)\n",
      "Requirement already satisfied: regex!=2019.12.17 in /opt/saturncloud/envs/saturn/lib/python3.10/site-packages (from transformers<5.0.0,>=4.34.0->sentence_transformers) (2023.12.25)\n",
      "Requirement already satisfied: safetensors>=0.4.1 in /opt/saturncloud/envs/saturn/lib/python3.10/site-packages (from transformers<5.0.0,>=4.34.0->sentence_transformers) (0.4.4)\n",
      "Requirement already satisfied: tokenizers<0.20,>=0.19 in /opt/saturncloud/envs/saturn/lib/python3.10/site-packages (from transformers<5.0.0,>=4.34.0->sentence_transformers) (0.19.1)\n",
      "Requirement already satisfied: joblib>=1.2.0 in /opt/saturncloud/envs/saturn/lib/python3.10/site-packages (from scikit-learn->sentence_transformers) (1.3.2)\n",
      "Requirement already satisfied: threadpoolctl>=2.0.0 in /opt/saturncloud/envs/saturn/lib/python3.10/site-packages (from scikit-learn->sentence_transformers) (3.2.0)\n",
      "Requirement already satisfied: MarkupSafe>=2.0 in /opt/saturncloud/envs/saturn/lib/python3.10/site-packages (from jinja2->torch>=1.11.0->sentence_transformers) (2.1.4)\n",
      "Requirement already satisfied: charset-normalizer<4,>=2 in /opt/saturncloud/envs/saturn/lib/python3.10/site-packages (from requests->huggingface-hub>=0.15.1->sentence_transformers) (2.0.12)\n",
      "Requirement already satisfied: idna<4,>=2.5 in /opt/saturncloud/envs/saturn/lib/python3.10/site-packages (from requests->huggingface-hub>=0.15.1->sentence_transformers) (3.6)\n",
      "Requirement already satisfied: mpmath>=0.19 in /opt/saturncloud/envs/saturn/lib/python3.10/site-packages (from sympy->torch>=1.11.0->sentence_transformers) (1.3.0)\n",
      "Using cached elasticsearch-8.14.0-py3-none-any.whl (480 kB)\n",
      "Using cached sentence_transformers-3.0.1-py3-none-any.whl (227 kB)\n",
      "Using cached elastic_transport-8.13.1-py3-none-any.whl (64 kB)\n",
      "Installing collected packages: elastic-transport, elasticsearch, sentence_transformers\n",
      "Successfully installed elastic-transport-8.13.1 elasticsearch-8.14.0 sentence_transformers-3.0.1\n"
     ]
    }
   ],
   "source": [
    "!pip install elasticsearch sentence_transformers tqdm "
   ]
  },
  {
   "cell_type": "code",
   "execution_count": 5,
   "id": "7a3a647e",
   "metadata": {
    "execution": {
     "iopub.execute_input": "2024-08-09T10:29:54.214925Z",
     "iopub.status.busy": "2024-08-09T10:29:54.214481Z",
     "iopub.status.idle": "2024-08-09T10:30:03.621091Z",
     "shell.execute_reply": "2024-08-09T10:30:03.620343Z",
     "shell.execute_reply.started": "2024-08-09T10:29:54.214891Z"
    },
    "tags": []
   },
   "outputs": [],
   "source": [
    "from elasticsearch import Elasticsearch\n",
    "import json\n",
    "from tqdm.auto import tqdm\n",
    "from sentence_transformers import SentenceTransformer\n"
   ]
  },
  {
   "cell_type": "code",
   "execution_count": 10,
   "id": "fdcd6316",
   "metadata": {
    "execution": {
     "iopub.execute_input": "2024-08-09T10:34:21.579467Z",
     "iopub.status.busy": "2024-08-09T10:34:21.579087Z",
     "iopub.status.idle": "2024-08-09T10:34:21.583552Z",
     "shell.execute_reply": "2024-08-09T10:34:21.582766Z",
     "shell.execute_reply.started": "2024-08-09T10:34:21.579439Z"
    },
    "tags": []
   },
   "outputs": [],
   "source": [
    "es_client = Elasticsearch('http://localhost:9200') \n"
   ]
  },
  {
   "cell_type": "code",
   "execution_count": 11,
   "id": "ba5a6687",
   "metadata": {
    "execution": {
     "iopub.execute_input": "2024-08-09T10:34:22.517449Z",
     "iopub.status.busy": "2024-08-09T10:34:22.517053Z",
     "iopub.status.idle": "2024-08-09T10:34:22.585734Z",
     "shell.execute_reply": "2024-08-09T10:34:22.584796Z",
     "shell.execute_reply.started": "2024-08-09T10:34:22.517422Z"
    },
    "tags": []
   },
   "outputs": [
    {
     "name": "stdout",
     "output_type": "stream",
     "text": [
      "{'name': 'w-along-llmproject-7526af7482814462acb59e22664fd36f-6d87544mqsm', 'cluster_name': 'elasticsearch', 'cluster_uuid': 'eQy_qs9PQqyPBMIErfu6gQ', 'version': {'number': '8.9.1', 'build_flavor': 'default', 'build_type': 'tar', 'build_hash': 'a813d015ef1826148d9d389bd1c0d781c6e349f0', 'build_date': '2023-08-10T05:02:32.517455352Z', 'build_snapshot': False, 'lucene_version': '9.7.0', 'minimum_wire_compatibility_version': '7.17.0', 'minimum_index_compatibility_version': '7.0.0'}, 'tagline': 'You Know, for Search'}\n"
     ]
    }
   ],
   "source": [
    "response = es_client.info()\n",
    "print(response)"
   ]
  },
  {
   "cell_type": "code",
   "execution_count": 65,
   "id": "78896a5f",
   "metadata": {
    "execution": {
     "iopub.execute_input": "2024-08-09T11:24:45.606229Z",
     "iopub.status.busy": "2024-08-09T11:24:45.605852Z",
     "iopub.status.idle": "2024-08-09T11:24:45.632552Z",
     "shell.execute_reply": "2024-08-09T11:24:45.631544Z",
     "shell.execute_reply.started": "2024-08-09T11:24:45.606202Z"
    },
    "tags": []
   },
   "outputs": [
    {
     "name": "stdout",
     "output_type": "stream",
     "text": [
      "Index 'diabetes-questions' created or already exists.\n"
     ]
    },
    {
     "name": "stderr",
     "output_type": "stream",
     "text": [
      "/tmp/ipykernel_419/1494744711.py:23: DeprecationWarning: Passing transport options in the API method is deprecated. Use 'Elasticsearch.options()' instead.\n",
      "  es_client.indices.create(index=index_name, body=index_settings, ignore=400)\n"
     ]
    }
   ],
   "source": [
    "index_settings = {\n",
    "    \"settings\": {\n",
    "        \"number_of_shards\": 1,\n",
    "        \"number_of_replicas\": 0\n",
    "    },\n",
    "    \"mappings\": {\n",
    "        \"properties\": {\n",
    "            \"answer\": {\"type\": \"text\"},\n",
    "            \"question\": {\"type\": \"text\"},\n",
    "            \"id\": {\"type\": \"keyword\"},\n",
    "            \"qa_text_embeddings\": {\n",
    "                \"type\": \"dense_vector\",\n",
    "                \"dims\": 768,\n",
    "                \"index\": True,\n",
    "                \"similarity\": \"cosine\"\n",
    "            },\n",
    "        }\n",
    "    }\n",
    "}\n",
    "\n",
    "index_name = \"diabetes-questions\"\n",
    "try:\n",
    "    es_client.indices.create(index=index_name, body=index_settings, ignore=400)\n",
    "    print(f\"Index '{index_name}' created or already exists.\")\n",
    "except Exception as e:\n",
    "    print(f\"An error occurred: {e}\")"
   ]
  },
  {
   "cell_type": "code",
   "execution_count": 66,
   "id": "a12d2b56",
   "metadata": {
    "execution": {
     "iopub.execute_input": "2024-08-09T11:24:51.225374Z",
     "iopub.status.busy": "2024-08-09T11:24:51.224958Z",
     "iopub.status.idle": "2024-08-09T11:24:51.586199Z",
     "shell.execute_reply": "2024-08-09T11:24:51.585519Z",
     "shell.execute_reply.started": "2024-08-09T11:24:51.225339Z"
    },
    "tags": []
   },
   "outputs": [],
   "source": [
    "### Load Documents\n",
    "with open('diabetes_data_with_vectors', 'r') as f_in:\n",
    "    diabetes_data_with_vectors = json.load(f_in)"
   ]
  },
  {
   "cell_type": "code",
   "execution_count": 67,
   "id": "5ad46fe7",
   "metadata": {
    "execution": {
     "iopub.execute_input": "2024-08-09T11:24:52.411328Z",
     "iopub.status.busy": "2024-08-09T11:24:52.410935Z",
     "iopub.status.idle": "2024-08-09T11:24:58.617452Z",
     "shell.execute_reply": "2024-08-09T11:24:58.616742Z",
     "shell.execute_reply.started": "2024-08-09T11:24:52.411301Z"
    },
    "tags": []
   },
   "outputs": [
    {
     "data": {
      "application/vnd.jupyter.widget-view+json": {
       "model_id": "5cc402e5787e4164af85a2e6f4ca1a8f",
       "version_major": 2,
       "version_minor": 0
      },
      "text/plain": [
       "  0%|          | 0/1071 [00:00<?, ?it/s]"
      ]
     },
     "metadata": {},
     "output_type": "display_data"
    }
   ],
   "source": [
    "for doc in tqdm(diabetes_data_with_vectors):\n",
    "    es_client.index(index=index_name, document=doc)"
   ]
  },
  {
   "cell_type": "code",
   "execution_count": null,
   "id": "fc3b913e-d6f5-4956-ab0e-81e641e6baf6",
   "metadata": {},
   "outputs": [],
   "source": []
  },
  {
   "cell_type": "code",
   "execution_count": 68,
   "id": "2b793b4e",
   "metadata": {
    "execution": {
     "iopub.execute_input": "2024-08-09T11:24:58.618915Z",
     "iopub.status.busy": "2024-08-09T11:24:58.618600Z",
     "iopub.status.idle": "2024-08-09T11:24:58.623597Z",
     "shell.execute_reply": "2024-08-09T11:24:58.622774Z",
     "shell.execute_reply.started": "2024-08-09T11:24:58.618891Z"
    },
    "tags": []
   },
   "outputs": [],
   "source": [
    "def elastic_search_knn(field, vector):\n",
    "    knn = {\n",
    "        \"field\": field,\n",
    "        \"query_vector\": vector,\n",
    "        \"k\": 5,\n",
    "        \"num_candidates\": 10000,\n",
    "    }\n",
    "\n",
    "    search_query = {\n",
    "        \"knn\": knn,\n",
    "        \"_source\": [\"answer\", \"question\", \"id\"]\n",
    "    }\n",
    "\n",
    "    es_results = es_client.search(\n",
    "        index=index_name,\n",
    "        body=search_query\n",
    "    )\n",
    "\n",
    "    result_docs = []\n",
    "\n",
    "    for hit in es_results['hits']['hits']:\n",
    " \n",
    "        result_docs.append(f\"Question: {hit['_source']['question']} /n Answer: {hit['_source']['answer']}\")\n",
    "\n",
    "    return result_docs"
   ]
  },
  {
   "cell_type": "code",
   "execution_count": 71,
   "id": "c5acadaa",
   "metadata": {
    "execution": {
     "iopub.execute_input": "2024-08-09T11:34:25.187282Z",
     "iopub.status.busy": "2024-08-09T11:34:25.186874Z",
     "iopub.status.idle": "2024-08-09T11:34:26.984236Z",
     "shell.execute_reply": "2024-08-09T11:34:26.983534Z",
     "shell.execute_reply.started": "2024-08-09T11:34:25.187256Z"
    },
    "tags": []
   },
   "outputs": [
    {
     "data": {
      "application/vnd.jupyter.widget-view+json": {
       "model_id": "53b022620ac146c59c8d45c063521880",
       "version_major": 2,
       "version_minor": 0
      },
      "text/plain": [
       "modules.json:   0%|          | 0.00/349 [00:00<?, ?B/s]"
      ]
     },
     "metadata": {},
     "output_type": "display_data"
    },
    {
     "data": {
      "application/vnd.jupyter.widget-view+json": {
       "model_id": "bf681f9bd03b48ada6fa80175e127853",
       "version_major": 2,
       "version_minor": 0
      },
      "text/plain": [
       "config_sentence_transformers.json:   0%|          | 0.00/116 [00:00<?, ?B/s]"
      ]
     },
     "metadata": {},
     "output_type": "display_data"
    },
    {
     "data": {
      "application/vnd.jupyter.widget-view+json": {
       "model_id": "955dd1dd4f7d42b689d55de18cb55a2b",
       "version_major": 2,
       "version_minor": 0
      },
      "text/plain": [
       "README.md:   0%|          | 0.00/9.52k [00:00<?, ?B/s]"
      ]
     },
     "metadata": {},
     "output_type": "display_data"
    },
    {
     "data": {
      "application/vnd.jupyter.widget-view+json": {
       "model_id": "4c7b4549e829431ebad1564619ac3265",
       "version_major": 2,
       "version_minor": 0
      },
      "text/plain": [
       "sentence_bert_config.json:   0%|          | 0.00/53.0 [00:00<?, ?B/s]"
      ]
     },
     "metadata": {},
     "output_type": "display_data"
    },
    {
     "data": {
      "application/vnd.jupyter.widget-view+json": {
       "model_id": "a5778e0949e14684a48b1dec4f29b49f",
       "version_major": 2,
       "version_minor": 0
      },
      "text/plain": [
       "config.json:   0%|          | 0.00/523 [00:00<?, ?B/s]"
      ]
     },
     "metadata": {},
     "output_type": "display_data"
    },
    {
     "data": {
      "application/vnd.jupyter.widget-view+json": {
       "model_id": "ffb442f99c124bd8ad3b85a9f446bf77",
       "version_major": 2,
       "version_minor": 0
      },
      "text/plain": [
       "model.safetensors:   0%|          | 0.00/265M [00:00<?, ?B/s]"
      ]
     },
     "metadata": {},
     "output_type": "display_data"
    },
    {
     "data": {
      "application/vnd.jupyter.widget-view+json": {
       "model_id": "43942bde6cb8474cba849339eb50bbb3",
       "version_major": 2,
       "version_minor": 0
      },
      "text/plain": [
       "tokenizer_config.json:   0%|          | 0.00/333 [00:00<?, ?B/s]"
      ]
     },
     "metadata": {},
     "output_type": "display_data"
    },
    {
     "data": {
      "application/vnd.jupyter.widget-view+json": {
       "model_id": "79cc64db546e41b38e6a3ac070ccca55",
       "version_major": 2,
       "version_minor": 0
      },
      "text/plain": [
       "vocab.txt:   0%|          | 0.00/232k [00:00<?, ?B/s]"
      ]
     },
     "metadata": {},
     "output_type": "display_data"
    },
    {
     "data": {
      "application/vnd.jupyter.widget-view+json": {
       "model_id": "d05042f002234d7a885aaa3bd49c7c51",
       "version_major": 2,
       "version_minor": 0
      },
      "text/plain": [
       "tokenizer.json:   0%|          | 0.00/466k [00:00<?, ?B/s]"
      ]
     },
     "metadata": {},
     "output_type": "display_data"
    },
    {
     "data": {
      "application/vnd.jupyter.widget-view+json": {
       "model_id": "1bad930ef5844dbe8a49cda4b8f649ba",
       "version_major": 2,
       "version_minor": 0
      },
      "text/plain": [
       "special_tokens_map.json:   0%|          | 0.00/112 [00:00<?, ?B/s]"
      ]
     },
     "metadata": {},
     "output_type": "display_data"
    },
    {
     "data": {
      "application/vnd.jupyter.widget-view+json": {
       "model_id": "7cfa192e3c6147539424ae21b81a54b3",
       "version_major": 2,
       "version_minor": 0
      },
      "text/plain": [
       "1_Pooling/config.json:   0%|          | 0.00/190 [00:00<?, ?B/s]"
      ]
     },
     "metadata": {},
     "output_type": "display_data"
    }
   ],
   "source": [
    "embedding_model = SentenceTransformer('multi-qa-distilbert-cos-v1')\n",
    "\n",
    "user_question = \"What are the recommended food for a diabetes patients?\"\n",
    "\n",
    "user_question_embedding = embedding_model.encode(user_question)"
   ]
  },
  {
   "cell_type": "code",
   "execution_count": 72,
   "id": "c36f557c",
   "metadata": {
    "execution": {
     "iopub.execute_input": "2024-08-09T11:49:45.596662Z",
     "iopub.status.busy": "2024-08-09T11:49:45.596185Z",
     "iopub.status.idle": "2024-08-09T11:49:45.611569Z",
     "shell.execute_reply": "2024-08-09T11:49:45.610842Z",
     "shell.execute_reply.started": "2024-08-09T11:49:45.596626Z"
    },
    "tags": []
   },
   "outputs": [
    {
     "data": {
      "text/plain": [
       "['Question: What types of foods are emphasized in a healthy eating plan for diabetes? /n Answer: A healthy eating plan for diabetes emphasizes a variety of foods including breads, cereals, rice, whole grains, fruits, vegetables, meat and meat substitutes, dairy products, and healthy fats.',\n",
       " 'Question: What are the key components of a healthy eating plan for diabetes? /n Answer: A healthy eating plan for diabetes emphasizes breads, cereals, rice, whole grains, fruits, vegetables, meat and meat substitutes, dairy products, and healthy fats, while focusing on appropriate portion sizes.',\n",
       " 'Question: Question: Can you list some specific examples of foods rich in healthy fats that are suitable for individuals with diabetes? /n Answer: Answer:  Yes, some great examples of healthy fat-rich foods suitable for individuals with diabetes include olive oil, avocados, almonds, walnuts, salmon, tuna, and flaxseeds. These foods provide essential nutrients and support overall well-being.',\n",
       " 'Question: What are some examples of healthy fats that should be included in a diabetes-friendly diet? /n Answer: Healthy fats for a diabetes-friendly diet include monounsaturated fats like those found in olive oil, avocados, nuts, and seeds, as well as polyunsaturated fats like those in fatty fish, flaxseeds, and walnuts.',\n",
       " 'Question: What dietary and lifestyle modifications are recommended for pregnant women with diabetes? /n Answer: Answer:  Pregnant women with diabetes are advised to follow a balanced diet low in carbohydrates and fats, with a focus on fruits, vegetables, and whole grains. Regular exercise and weight management are also important for maintaining healthy blood sugar levels.']"
      ]
     },
     "execution_count": 72,
     "metadata": {},
     "output_type": "execute_result"
    }
   ],
   "source": [
    "elastic_search_knn('qa_text_embeddings',user_question_embedding)\n"
   ]
  },
  {
   "cell_type": "code",
   "execution_count": 61,
   "id": "70daf621",
   "metadata": {
    "execution": {
     "iopub.execute_input": "2024-08-09T11:24:12.756336Z",
     "iopub.status.busy": "2024-08-09T11:24:12.755943Z",
     "iopub.status.idle": "2024-08-09T11:24:12.856528Z",
     "shell.execute_reply": "2024-08-09T11:24:12.855375Z",
     "shell.execute_reply.started": "2024-08-09T11:24:12.756309Z"
    },
    "tags": []
   },
   "outputs": [
    {
     "name": "stderr",
     "output_type": "stream",
     "text": [
      "/tmp/ipykernel_419/4153154276.py:1: DeprecationWarning: Passing transport options in the API method is deprecated. Use 'Elasticsearch.options()' instead.\n",
      "  es_client.indices.delete(index=index_name, body=index_settings, ignore=400)\n"
     ]
    },
    {
     "data": {
      "text/plain": [
       "ObjectApiResponse({'acknowledged': True})"
      ]
     },
     "execution_count": 61,
     "metadata": {},
     "output_type": "execute_result"
    }
   ],
   "source": [
    "es_client.indices.delete(index=index_name, body=index_settings, ignore=400)"
   ]
  },
  {
   "cell_type": "code",
   "execution_count": null,
   "id": "cfc142fb-4a30-413c-8f89-60c11c5c186a",
   "metadata": {
    "execution": {
     "iopub.execute_input": "2024-08-09T10:36:57.260592Z",
     "iopub.status.busy": "2024-08-09T10:36:57.260191Z"
    },
    "tags": []
   },
   "outputs": [],
   "source": [
    "with open('es_client.pkl', 'wb') as file:\n",
    "    pickle.dump(es_client, file)"
   ]
  },
  {
   "cell_type": "code",
   "execution_count": null,
   "id": "086b5e19-9215-4281-834a-8aaa754d1df0",
   "metadata": {},
   "outputs": [],
   "source": []
  }
 ],
 "metadata": {
  "kernelspec": {
   "display_name": "saturn (Python 3)",
   "language": "python",
   "name": "python3"
  },
  "language_info": {
   "codemirror_mode": {
    "name": "ipython",
    "version": 3
   },
   "file_extension": ".py",
   "mimetype": "text/x-python",
   "name": "python",
   "nbconvert_exporter": "python",
   "pygments_lexer": "ipython3",
   "version": "3.10.13"
  }
 },
 "nbformat": 4,
 "nbformat_minor": 5
}
